{
 "cells": [
  {
   "cell_type": "code",
   "execution_count": 15,
   "id": "7ae6ac36-cf9f-43f5-ba14-dc6822912a1e",
   "metadata": {},
   "outputs": [],
   "source": [
    "import polars as pl\n",
    "import csv"
   ]
  },
  {
   "cell_type": "code",
   "execution_count": 31,
   "id": "ef245745-5856-4615-a19b-6e1ecc6a837d",
   "metadata": {},
   "outputs": [],
   "source": [
    "extract_folder = 'extract'"
   ]
  },
  {
   "cell_type": "code",
   "execution_count": 33,
   "id": "e7355bb3-9869-4450-99cd-24def78846fc",
   "metadata": {},
   "outputs": [
    {
     "name": "stdout",
     "output_type": "stream",
     "text": [
      "Number of .dat files found: 95\n"
     ]
    }
   ],
   "source": [
    "dat_files = glob.glob(f\"{extract_folder}/*.dat\")\n",
    "print(f\"Number of .dat files found: {len(dat_files)}\")"
   ]
  },
  {
   "cell_type": "code",
   "execution_count": 51,
   "id": "5c11621d-5c7a-44d6-a88e-675783a60352",
   "metadata": {},
   "outputs": [],
   "source": [
    "df_list = []\n",
    "df_schema = {\n",
    "    'Record Type':pl.String(),'District Code':pl.String(),\n",
    "    'Property Id.':pl.String(),'Sale Counter':pl.String(),\n",
    "    'Download Datetime':pl.String(),'Property Name':pl.String(),\n",
    "    'Property Unit Number':pl.String(),'Property House Number':pl.String(),\n",
    "    'Property Street Name':pl.String(), 'Property Locality':pl.String(),\n",
    "    'Property Post Code':pl.String(), 'Area':pl.String(),\n",
    "    'Area Type':pl.String(), 'Contract Date':pl.String(),\n",
    "    'Settlement Date':pl.String(), 'Purchase Price':pl.String(),\n",
    "    'Zoning':pl.String(), 'Nature of Property':pl.String(),\n",
    "    'Primary Purpose':pl.String(), 'Strata Lot Number':pl.String(),\n",
    "    'Component code':pl.String(), 'Sale Code':pl.String(), \n",
    "    '% Interest of Sale':pl.String(), 'Dealing Number':pl.String()\n",
    "    }"
   ]
  },
  {
   "cell_type": "code",
   "execution_count": 53,
   "id": "9674a5ac-d949-4a6b-8e6a-d27c5a3d5209",
   "metadata": {},
   "outputs": [],
   "source": [
    "for file in dat_files:\n",
    "    df = pl.read_csv(file,has_header=False, schema=df_schema, truncate_ragged_lines=True, separator=';', new_columns=['Record Type','District Code','Property Id.','Sale Counter','Download Datetime','Property Name','Property Unit Number','Property House Number','Property Street Name', 'Property Locality', 'Property Post Code', 'Area', 'Area Type', 'Contract Date', 'Settlement Date', 'Purchase Price', 'Zoning', 'Nature of Property', 'Primary Purpose', 'Strata Lot Number', 'Component code', 'Sale Code', '% Interest of Sale', 'Dealing Number'])\n",
    "    df_list.append(df)"
   ]
  },
  {
   "cell_type": "code",
   "execution_count": 55,
   "id": "29c6ecc8-66cc-4b4e-8c7a-1e05f1b79549",
   "metadata": {},
   "outputs": [
    {
     "data": {
      "text/html": [
       "<div><style>\n",
       ".dataframe > thead > tr,\n",
       ".dataframe > tbody > tr {\n",
       "  text-align: right;\n",
       "  white-space: pre-wrap;\n",
       "}\n",
       "</style>\n",
       "<small>shape: (5, 24)</small><table border=\"1\" class=\"dataframe\"><thead><tr><th>Record Type</th><th>District Code</th><th>Property Id.</th><th>Sale Counter</th><th>Download Datetime</th><th>Property Name</th><th>Property Unit Number</th><th>Property House Number</th><th>Property Street Name</th><th>Property Locality</th><th>Property Post Code</th><th>Area</th><th>Area Type</th><th>Contract Date</th><th>Settlement Date</th><th>Purchase Price</th><th>Zoning</th><th>Nature of Property</th><th>Primary Purpose</th><th>Strata Lot Number</th><th>Component code</th><th>Sale Code</th><th>% Interest of Sale</th><th>Dealing Number</th></tr><tr><td>str</td><td>str</td><td>str</td><td>str</td><td>str</td><td>str</td><td>str</td><td>str</td><td>str</td><td>str</td><td>str</td><td>str</td><td>str</td><td>str</td><td>str</td><td>str</td><td>str</td><td>str</td><td>str</td><td>str</td><td>str</td><td>str</td><td>str</td><td>str</td></tr></thead><tbody><tr><td>&quot;A&quot;</td><td>&quot;RTSALEDATA&quot;</td><td>&quot;708&quot;</td><td>&quot;20240101 01:12&quot;</td><td>&quot;VALNET&quot;</td><td>null</td><td>null</td><td>null</td><td>null</td><td>null</td><td>null</td><td>null</td><td>null</td><td>null</td><td>null</td><td>null</td><td>null</td><td>null</td><td>null</td><td>null</td><td>null</td><td>null</td><td>null</td><td>null</td></tr><tr><td>&quot;B&quot;</td><td>&quot;708&quot;</td><td>&quot;2021263&quot;</td><td>&quot;1&quot;</td><td>&quot;20240101 01:12&quot;</td><td>null</td><td>&quot;94&quot;</td><td>&quot;344&quot;</td><td>&quot;BULWARA RD&quot;</td><td>&quot;ULTIMO&quot;</td><td>&quot;2007&quot;</td><td>null</td><td>null</td><td>&quot;20231125&quot;</td><td>&quot;20231222&quot;</td><td>&quot;960000&quot;</td><td>null</td><td>&quot;R&quot;</td><td>&quot;RESIDENCE&quot;</td><td>&quot;94&quot;</td><td>null</td><td>null</td><td>&quot;0&quot;</td><td>&quot;AT733685&quot;</td></tr><tr><td>&quot;C&quot;</td><td>&quot;708&quot;</td><td>&quot;2021263&quot;</td><td>&quot;1&quot;</td><td>&quot;20240101 01:12&quot;</td><td>&quot;94/SP31316&quot;</td><td>null</td><td>null</td><td>null</td><td>null</td><td>null</td><td>null</td><td>null</td><td>null</td><td>null</td><td>null</td><td>null</td><td>null</td><td>null</td><td>null</td><td>null</td><td>null</td><td>null</td><td>null</td></tr><tr><td>&quot;D&quot;</td><td>&quot;708&quot;</td><td>&quot;2021263&quot;</td><td>&quot;1&quot;</td><td>&quot;20240101 01:12&quot;</td><td>&quot;P&quot;</td><td>null</td><td>null</td><td>null</td><td>null</td><td>null</td><td>null</td><td>null</td><td>null</td><td>null</td><td>null</td><td>null</td><td>null</td><td>null</td><td>null</td><td>null</td><td>null</td><td>null</td><td>null</td></tr><tr><td>&quot;D&quot;</td><td>&quot;708&quot;</td><td>&quot;2021263&quot;</td><td>&quot;1&quot;</td><td>&quot;20240101 01:12&quot;</td><td>&quot;V&quot;</td><td>null</td><td>null</td><td>null</td><td>null</td><td>null</td><td>null</td><td>null</td><td>null</td><td>null</td><td>null</td><td>null</td><td>null</td><td>null</td><td>null</td><td>null</td><td>null</td><td>null</td><td>null</td></tr></tbody></table></div>"
      ],
      "text/plain": [
       "shape: (5, 24)\n",
       "┌────────┬─────────────┬────────────┬────────────┬───┬────────────┬──────┬────────────┬────────────┐\n",
       "│ Record ┆ District    ┆ Property   ┆ Sale       ┆ … ┆ Component  ┆ Sale ┆ % Interest ┆ Dealing    │\n",
       "│ Type   ┆ Code        ┆ Id.        ┆ Counter    ┆   ┆ code       ┆ Code ┆ of Sale    ┆ Number     │\n",
       "│ ---    ┆ ---         ┆ ---        ┆ ---        ┆   ┆ ---        ┆ ---  ┆ ---        ┆ ---        │\n",
       "│ str    ┆ str         ┆ str        ┆ str        ┆   ┆ str        ┆ str  ┆ str        ┆ str        │\n",
       "╞════════╪═════════════╪════════════╪════════════╪═══╪════════════╪══════╪════════════╪════════════╡\n",
       "│ A      ┆ RTSALEDATA  ┆ 708        ┆ 20240101   ┆ … ┆ null       ┆ null ┆ null       ┆ null       │\n",
       "│        ┆             ┆            ┆ 01:12      ┆   ┆            ┆      ┆            ┆            │\n",
       "│ B      ┆ 708         ┆ 2021263    ┆ 1          ┆ … ┆ null       ┆ null ┆ 0          ┆ AT733685   │\n",
       "│ C      ┆ 708         ┆ 2021263    ┆ 1          ┆ … ┆ null       ┆ null ┆ null       ┆ null       │\n",
       "│ D      ┆ 708         ┆ 2021263    ┆ 1          ┆ … ┆ null       ┆ null ┆ null       ┆ null       │\n",
       "│ D      ┆ 708         ┆ 2021263    ┆ 1          ┆ … ┆ null       ┆ null ┆ null       ┆ null       │\n",
       "└────────┴─────────────┴────────────┴────────────┴───┴────────────┴──────┴────────────┴────────────┘"
      ]
     },
     "execution_count": 55,
     "metadata": {},
     "output_type": "execute_result"
    }
   ],
   "source": [
    "df.head()"
   ]
  },
  {
   "cell_type": "code",
   "execution_count": 57,
   "id": "0d753ecd-f669-48cf-9ee1-d3a6f53464fe",
   "metadata": {},
   "outputs": [],
   "source": [
    "for df in df_list:\n",
    "  df = df.filter(pl.col(\"Record Type\") == \"B\")"
   ]
  },
  {
   "cell_type": "code",
   "execution_count": 59,
   "id": "02451d3b-702c-4f98-8ceb-e52f09ffdd85",
   "metadata": {},
   "outputs": [
    {
     "data": {
      "text/html": [
       "<div><style>\n",
       ".dataframe > thead > tr,\n",
       ".dataframe > tbody > tr {\n",
       "  text-align: right;\n",
       "  white-space: pre-wrap;\n",
       "}\n",
       "</style>\n",
       "<small>shape: (5, 24)</small><table border=\"1\" class=\"dataframe\"><thead><tr><th>Record Type</th><th>District Code</th><th>Property Id.</th><th>Sale Counter</th><th>Download Datetime</th><th>Property Name</th><th>Property Unit Number</th><th>Property House Number</th><th>Property Street Name</th><th>Property Locality</th><th>Property Post Code</th><th>Area</th><th>Area Type</th><th>Contract Date</th><th>Settlement Date</th><th>Purchase Price</th><th>Zoning</th><th>Nature of Property</th><th>Primary Purpose</th><th>Strata Lot Number</th><th>Component code</th><th>Sale Code</th><th>% Interest of Sale</th><th>Dealing Number</th></tr><tr><td>str</td><td>str</td><td>str</td><td>str</td><td>str</td><td>str</td><td>str</td><td>str</td><td>str</td><td>str</td><td>str</td><td>str</td><td>str</td><td>str</td><td>str</td><td>str</td><td>str</td><td>str</td><td>str</td><td>str</td><td>str</td><td>str</td><td>str</td><td>str</td></tr></thead><tbody><tr><td>&quot;B&quot;</td><td>&quot;708&quot;</td><td>&quot;2021263&quot;</td><td>&quot;1&quot;</td><td>&quot;20240101 01:12&quot;</td><td>null</td><td>&quot;94&quot;</td><td>&quot;344&quot;</td><td>&quot;BULWARA RD&quot;</td><td>&quot;ULTIMO&quot;</td><td>&quot;2007&quot;</td><td>null</td><td>null</td><td>&quot;20231125&quot;</td><td>&quot;20231222&quot;</td><td>&quot;960000&quot;</td><td>null</td><td>&quot;R&quot;</td><td>&quot;RESIDENCE&quot;</td><td>&quot;94&quot;</td><td>null</td><td>null</td><td>&quot;0&quot;</td><td>&quot;AT733685&quot;</td></tr><tr><td>&quot;B&quot;</td><td>&quot;708&quot;</td><td>&quot;2041132&quot;</td><td>&quot;2&quot;</td><td>&quot;20240101 01:12&quot;</td><td>&quot;CASINO GARDENS&quot;</td><td>&quot;205&quot;</td><td>&quot;54&quot;</td><td>&quot;EXPERIMENT ST&quot;</td><td>&quot;PYRMONT&quot;</td><td>&quot;2009&quot;</td><td>&quot;75&quot;</td><td>&quot;M&quot;</td><td>&quot;20231205&quot;</td><td>&quot;20231222&quot;</td><td>&quot;650000&quot;</td><td>null</td><td>&quot;R&quot;</td><td>&quot;RESIDENCE&quot;</td><td>&quot;104&quot;</td><td>null</td><td>null</td><td>&quot;0&quot;</td><td>&quot;AT730041&quot;</td></tr><tr><td>&quot;B&quot;</td><td>&quot;708&quot;</td><td>&quot;2030582&quot;</td><td>&quot;3&quot;</td><td>&quot;20240101 01:12&quot;</td><td>null</td><td>&quot;401&quot;</td><td>&quot;3&quot;</td><td>&quot;HOSKING PL&quot;</td><td>&quot;SYDNEY&quot;</td><td>&quot;2000&quot;</td><td>&quot;52&quot;</td><td>&quot;M&quot;</td><td>&quot;20230823&quot;</td><td>&quot;20231222&quot;</td><td>&quot;981000&quot;</td><td>null</td><td>&quot;3&quot;</td><td>&quot;COMMERCIAL&quot;</td><td>&quot;22&quot;</td><td>null</td><td>null</td><td>&quot;0&quot;</td><td>&quot;AT732064&quot;</td></tr><tr><td>&quot;B&quot;</td><td>&quot;708&quot;</td><td>&quot;2030582&quot;</td><td>&quot;4&quot;</td><td>&quot;20240101 01:12&quot;</td><td>null</td><td>&quot;506&quot;</td><td>&quot;3&quot;</td><td>&quot;HOSKING PL&quot;</td><td>&quot;SYDNEY&quot;</td><td>&quot;2000&quot;</td><td>&quot;60&quot;</td><td>&quot;M&quot;</td><td>&quot;20231017&quot;</td><td>&quot;20231222&quot;</td><td>&quot;1220750&quot;</td><td>null</td><td>&quot;3&quot;</td><td>&quot;COMMERCIAL&quot;</td><td>&quot;35&quot;</td><td>null</td><td>null</td><td>&quot;0&quot;</td><td>&quot;AT732174&quot;</td></tr><tr><td>&quot;B&quot;</td><td>&quot;708&quot;</td><td>&quot;2023065&quot;</td><td>&quot;5&quot;</td><td>&quot;20240101 01:12&quot;</td><td>&quot;REGIS TOWERS&quot;</td><td>&quot;331&quot;</td><td>&quot;303&quot;</td><td>&quot;CASTLEREAGH ST&quot;</td><td>&quot;HAYMARKET&quot;</td><td>&quot;2000&quot;</td><td>null</td><td>null</td><td>&quot;20231218&quot;</td><td>&quot;20231222&quot;</td><td>&quot;462500&quot;</td><td>null</td><td>&quot;R&quot;</td><td>&quot;RESIDENCE&quot;</td><td>&quot;331&quot;</td><td>null</td><td>null</td><td>&quot;0&quot;</td><td>&quot;AT730987&quot;</td></tr></tbody></table></div>"
      ],
      "text/plain": [
       "shape: (5, 24)\n",
       "┌────────┬─────────────┬─────────────┬─────────┬───┬─────────────┬──────┬─────────────┬────────────┐\n",
       "│ Record ┆ District    ┆ Property    ┆ Sale    ┆ … ┆ Component   ┆ Sale ┆ % Interest  ┆ Dealing    │\n",
       "│ Type   ┆ Code        ┆ Id.         ┆ Counter ┆   ┆ code        ┆ Code ┆ of Sale     ┆ Number     │\n",
       "│ ---    ┆ ---         ┆ ---         ┆ ---     ┆   ┆ ---         ┆ ---  ┆ ---         ┆ ---        │\n",
       "│ str    ┆ str         ┆ str         ┆ str     ┆   ┆ str         ┆ str  ┆ str         ┆ str        │\n",
       "╞════════╪═════════════╪═════════════╪═════════╪═══╪═════════════╪══════╪═════════════╪════════════╡\n",
       "│ B      ┆ 708         ┆ 2021263     ┆ 1       ┆ … ┆ null        ┆ null ┆ 0           ┆ AT733685   │\n",
       "│ B      ┆ 708         ┆ 2041132     ┆ 2       ┆ … ┆ null        ┆ null ┆ 0           ┆ AT730041   │\n",
       "│ B      ┆ 708         ┆ 2030582     ┆ 3       ┆ … ┆ null        ┆ null ┆ 0           ┆ AT732064   │\n",
       "│ B      ┆ 708         ┆ 2030582     ┆ 4       ┆ … ┆ null        ┆ null ┆ 0           ┆ AT732174   │\n",
       "│ B      ┆ 708         ┆ 2023065     ┆ 5       ┆ … ┆ null        ┆ null ┆ 0           ┆ AT730987   │\n",
       "└────────┴─────────────┴─────────────┴─────────┴───┴─────────────┴──────┴─────────────┴────────────┘"
      ]
     },
     "execution_count": 59,
     "metadata": {},
     "output_type": "execute_result"
    }
   ],
   "source": [
    "df.head()"
   ]
  },
  {
   "cell_type": "code",
   "execution_count": null,
   "id": "0353944f-c5c5-4634-8489-1d3e7276ba33",
   "metadata": {},
   "outputs": [],
   "source": []
  }
 ],
 "metadata": {
  "kernelspec": {
   "display_name": "Python 3 (ipykernel)",
   "language": "python",
   "name": "python3"
  },
  "language_info": {
   "codemirror_mode": {
    "name": "ipython",
    "version": 3
   },
   "file_extension": ".py",
   "mimetype": "text/x-python",
   "name": "python",
   "nbconvert_exporter": "python",
   "pygments_lexer": "ipython3",
   "version": "3.12.4"
  }
 },
 "nbformat": 4,
 "nbformat_minor": 5
}
