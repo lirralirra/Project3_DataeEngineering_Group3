{
 "cells": [
  {
   "cell_type": "code",
   "execution_count": 3,
   "id": "6f403d07-7e9b-4db5-9288-ba05590bc760",
   "metadata": {},
   "outputs": [],
   "source": [
    "import os\n",
    "import zipfile"
   ]
  },
  {
   "cell_type": "code",
   "execution_count": 4,
   "id": "1eb509af-e571-4c79-826a-1489c3fbf05f",
   "metadata": {},
   "outputs": [],
   "source": [
    "# Define the paths to your data and extract folders relative to the notebook\n",
    "data_folder = 'Data'       # The folder containing your ZIP files\n",
    "extract_folder = 'extract' # The folder where you want to extract the .dat files\n",
    "\n",
    "# Iterate over all files in the data folder\n",
    "for zip_filename in os.listdir(data_folder):\n",
    "    zip_path = os.path.join(data_folder, zip_filename)\n",
    "    # Check if the file is a ZIP file\n",
    "    if zip_filename.lower().endswith('.zip') and os.path.isfile(zip_path):\n",
    "        try:\n",
    "            with zipfile.ZipFile(zip_path, 'r') as zip_ref:\n",
    "                # Iterate over all files in the zip file\n",
    "                for member in zip_ref.namelist():\n",
    "                    # Check if the member is a .dat file\n",
    "                    if member.lower().endswith('.dat'):\n",
    "                        # Extract the .dat file to the extract folder\n",
    "                        # Use the base name of the file to prevent creating nested directories\n",
    "                        member_basename = os.path.basename(member)\n",
    "                        destination_path = os.path.join(extract_folder, member_basename)\n",
    "                        # Extract the file\n",
    "                        with zip_ref.open(member) as source_file:\n",
    "                            with open(destination_path, 'wb') as target_file:\n",
    "                                target_file.write(source_file.read())\n",
    "        except zipfile.BadZipFile:\n",
    "            print(f\"Warning: '{zip_filename}' is not a valid ZIP file.\")\n",
    "        except Exception as e:\n",
    "            print(f\"An error occurred while processing '{zip_filename}': {e}\")\n",
    "    else:\n",
    "        print(f\"Skipping non-ZIP file: {zip_filename}\")\n"
   ]
  },
  {
   "cell_type": "code",
   "execution_count": null,
   "id": "169e89d4-2078-4bdb-91c0-334e28ab0e7d",
   "metadata": {},
   "outputs": [],
   "source": []
  },
  {
   "cell_type": "code",
   "execution_count": null,
   "id": "1df0c483-7bd5-4b7a-b68e-4c297844b9c5",
   "metadata": {},
   "outputs": [],
   "source": []
  }
 ],
 "metadata": {
  "kernelspec": {
   "display_name": "Python 3 (ipykernel)",
   "language": "python",
   "name": "python3"
  },
  "language_info": {
   "codemirror_mode": {
    "name": "ipython",
    "version": 3
   },
   "file_extension": ".py",
   "mimetype": "text/x-python",
   "name": "python",
   "nbconvert_exporter": "python",
   "pygments_lexer": "ipython3",
   "version": "3.10.14"
  }
 },
 "nbformat": 4,
 "nbformat_minor": 5
}
