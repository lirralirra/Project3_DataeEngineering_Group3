{
 "cells": [
  {
   "cell_type": "code",
   "execution_count": 47,
   "id": "6a9a859f-d429-456a-acc3-b423d0731bfc",
   "metadata": {},
   "outputs": [],
   "source": [
    "import polars as pl\n",
    "import csv\n",
    "import glob"
   ]
  },
  {
   "cell_type": "code",
   "execution_count": 48,
   "id": "6cd5f5fd-1f1e-43af-9bd0-7822f2c60374",
   "metadata": {},
   "outputs": [],
   "source": [
    "extract_folder = 'extract'"
   ]
  },
  {
   "cell_type": "code",
   "execution_count": 49,
   "id": "06ac27a4-8389-4fb0-8835-e4d091dcfc94",
   "metadata": {},
   "outputs": [
    {
     "name": "stdout",
     "output_type": "stream",
     "text": [
      "Number of .dat files found: 19218\n"
     ]
    }
   ],
   "source": [
    "dat_files = glob.glob(f\"{extract_folder}/*.dat\")\n",
    "print(f\"Number of .dat files found: {len(dat_files)}\")"
   ]
  },
  {
   "cell_type": "code",
   "execution_count": 50,
   "id": "cfd2b853-a307-4149-9be3-f6a9abcaad57",
   "metadata": {},
   "outputs": [],
   "source": [
    "df_list = []\n",
    "df_schema = {\n",
    "    'Record Type':pl.String(),'District Code':pl.String(),\n",
    "    'Property Id.':pl.String(),'Sale Counter':pl.String(),\n",
    "    'Download Datetime':pl.String(),'Property Name':pl.String(),\n",
    "    'Property Unit Number':pl.String(),'Property House Number':pl.String(),\n",
    "    'Property Street Name':pl.String(), 'Property Locality':pl.String(),\n",
    "    'Property Post Code':pl.String(), 'Area':pl.String(),\n",
    "    'Area Type':pl.String(), 'Contract Date':pl.String(),\n",
    "    'Settlement Date':pl.String(), 'Purchase Price':pl.String(),\n",
    "    'Zoning':pl.String(), 'Nature of Property':pl.String(),\n",
    "    'Primary Purpose':pl.String(), 'Strata Lot Number':pl.String(),\n",
    "    'Component code':pl.String(), 'Sale Code':pl.String(), \n",
    "    '% Interest of Sale':pl.String(), 'Dealing Number':pl.String()\n",
    "    }"
   ]
  },
  {
   "cell_type": "code",
   "execution_count": 51,
   "id": "e97876ec-7364-4634-b7f8-009c1d996923",
   "metadata": {},
   "outputs": [],
   "source": [
    "for file in dat_files:\n",
    "    df = pl.read_csv(file,has_header=False, schema=df_schema, truncate_ragged_lines=True, separator=';', new_columns=['Record Type','District Code','Property Id.','Sale Counter','Download Datetime','Property Name','Property Unit Number','Property House Number','Property Street Name', 'Property Locality', 'Property Post Code', 'Area', 'Area Type', 'Contract Date', 'Settlement Date', 'Purchase Price', 'Zoning', 'Nature of Property', 'Primary Purpose', 'Strata Lot Number', 'Component code', 'Sale Code', '% Interest of Sale', 'Dealing Number'])\n",
    "    df_list.append(df)"
   ]
  },
  {
   "cell_type": "code",
   "execution_count": 52,
   "id": "7700de24-aa8c-4f57-9c91-bf0b5c3e6ee7",
   "metadata": {},
   "outputs": [],
   "source": [
    "for df in df_list:\n",
    "  df = df.filter(pl.col(\"Record Type\") == \"B\")"
   ]
  },
  {
   "cell_type": "code",
   "execution_count": 53,
   "id": "c6c7b627-6b30-4b73-9944-fd901ba58898",
   "metadata": {},
   "outputs": [],
   "source": [
    "df_combined = pl.concat(df_list)"
   ]
  },
  {
   "cell_type": "code",
   "execution_count": 56,
   "id": "0554be1b-383d-47fc-9932-c7de7bca3ca3",
   "metadata": {},
   "outputs": [],
   "source": [
    "df_combined = df_combined.filter(pl.col(\"Record Type\") == \"B\")"
   ]
  },
  {
   "cell_type": "code",
   "execution_count": 66,
   "id": "8e9f4311-4067-4a85-9570-ea6d4aab46cf",
   "metadata": {},
   "outputs": [],
   "source": [
    "output_file = \"./unclean.csv\"\n",
    "\n",
    "# Export DataFrame to CSV\n",
    "df_combined.write_csv(output_file)"
   ]
  },
  {
   "cell_type": "code",
   "execution_count": 75,
   "id": "84c73113-2758-4a41-ad4f-0b47e75bc75b",
   "metadata": {},
   "outputs": [
    {
     "data": {
      "text/html": [
       "<div><style>\n",
       ".dataframe > thead > tr,\n",
       ".dataframe > tbody > tr {\n",
       "  text-align: right;\n",
       "  white-space: pre-wrap;\n",
       "}\n",
       "</style>\n",
       "<small>shape: (5, 24)</small><table border=\"1\" class=\"dataframe\"><thead><tr><th>Record Type</th><th>District Code</th><th>Property Id.</th><th>Sale Counter</th><th>Download Datetime</th><th>Property Name</th><th>Property Unit Number</th><th>Property House Number</th><th>Property Street Name</th><th>Property Locality</th><th>Property Post Code</th><th>Area</th><th>Area Type</th><th>Contract Date</th><th>Settlement Date</th><th>Purchase Price</th><th>Zoning</th><th>Nature of Property</th><th>Primary Purpose</th><th>Strata Lot Number</th><th>Component code</th><th>Sale Code</th><th>% Interest of Sale</th><th>Dealing Number</th></tr><tr><td>str</td><td>str</td><td>str</td><td>str</td><td>str</td><td>str</td><td>str</td><td>str</td><td>str</td><td>str</td><td>str</td><td>str</td><td>str</td><td>str</td><td>str</td><td>str</td><td>str</td><td>str</td><td>str</td><td>str</td><td>str</td><td>str</td><td>str</td><td>str</td></tr></thead><tbody><tr><td>&quot;B&quot;</td><td>&quot;001&quot;</td><td>&quot;2962131&quot;</td><td>&quot;1&quot;</td><td>&quot;20210201 01:00&quot;</td><td>null</td><td>null</td><td>&quot;11&quot;</td><td>&quot;BARNHILL ACCS&quot;</td><td>&quot;ROTHBURY&quot;</td><td>&quot;2320&quot;</td><td>&quot;609.8&quot;</td><td>&quot;M&quot;</td><td>&quot;20201211&quot;</td><td>&quot;20210127&quot;</td><td>&quot;845000&quot;</td><td>&quot;SP3&quot;</td><td>&quot;R&quot;</td><td>&quot;RESIDENCE&quot;</td><td>null</td><td>&quot;SAV&quot;</td><td>null</td><td>&quot;0&quot;</td><td>&quot;AQ754912&quot;</td></tr><tr><td>&quot;B&quot;</td><td>&quot;001&quot;</td><td>&quot;4156561&quot;</td><td>&quot;2&quot;</td><td>&quot;20210201 01:00&quot;</td><td>null</td><td>null</td><td>&quot;111&quot;</td><td>&quot;TALLEYRAND CCT&quot;</td><td>&quot;GRETA&quot;</td><td>&quot;2334&quot;</td><td>&quot;612&quot;</td><td>&quot;M&quot;</td><td>&quot;20201211&quot;</td><td>&quot;20210127&quot;</td><td>&quot;210000&quot;</td><td>&quot;R2&quot;</td><td>&quot;R&quot;</td><td>&quot;RESIDENCE&quot;</td><td>null</td><td>&quot;AAJ&quot;</td><td>null</td><td>&quot;0&quot;</td><td>&quot;AQ751923&quot;</td></tr><tr><td>&quot;B&quot;</td><td>&quot;001&quot;</td><td>&quot;4224453&quot;</td><td>&quot;3&quot;</td><td>&quot;20210201 01:00&quot;</td><td>null</td><td>null</td><td>&quot;15&quot;</td><td>&quot;GUY CL&quot;</td><td>&quot;GRETA&quot;</td><td>&quot;2334&quot;</td><td>&quot;657.5&quot;</td><td>&quot;M&quot;</td><td>&quot;20201222&quot;</td><td>&quot;20210122&quot;</td><td>&quot;205000&quot;</td><td>&quot;R2&quot;</td><td>&quot;R&quot;</td><td>&quot;RESIDENCE&quot;</td><td>null</td><td>&quot;AAJ&quot;</td><td>null</td><td>&quot;0&quot;</td><td>&quot;AQ744227&quot;</td></tr><tr><td>&quot;B&quot;</td><td>&quot;001&quot;</td><td>&quot;4224457&quot;</td><td>&quot;4&quot;</td><td>&quot;20210201 01:00&quot;</td><td>null</td><td>null</td><td>&quot;10&quot;</td><td>&quot;GUY CL&quot;</td><td>&quot;GRETA&quot;</td><td>&quot;2334&quot;</td><td>&quot;725.5&quot;</td><td>&quot;M&quot;</td><td>&quot;20201203&quot;</td><td>&quot;20210122&quot;</td><td>&quot;200000&quot;</td><td>&quot;R2&quot;</td><td>&quot;V&quot;</td><td>&quot;VACANT LAND&quot;</td><td>null</td><td>&quot;AAJ&quot;</td><td>null</td><td>&quot;0&quot;</td><td>&quot;AQ742328&quot;</td></tr><tr><td>&quot;B&quot;</td><td>&quot;001&quot;</td><td>&quot;4225342&quot;</td><td>&quot;5&quot;</td><td>&quot;20210201 01:00&quot;</td><td>null</td><td>null</td><td>&quot;90&quot;</td><td>&quot;TALLEYRAND CCT&quot;</td><td>&quot;GRETA&quot;</td><td>&quot;2334&quot;</td><td>&quot;640.6&quot;</td><td>&quot;M&quot;</td><td>&quot;20201211&quot;</td><td>&quot;20210122&quot;</td><td>&quot;210000&quot;</td><td>&quot;R2&quot;</td><td>&quot;V&quot;</td><td>&quot;VACANT LAND&quot;</td><td>null</td><td>&quot;AAJ&quot;</td><td>null</td><td>&quot;0&quot;</td><td>&quot;AQ744713&quot;</td></tr></tbody></table></div>"
      ],
      "text/plain": [
       "shape: (5, 24)\n",
       "┌─────────────┬──────────┬──────────────┬──────────────┬───┬───────────┬───────────┬────────────────────┬──────────┐\n",
       "│ Record Type ┆ District ┆ Property Id. ┆ Sale Counter ┆ … ┆ Component ┆ Sale Code ┆ % Interest of Sale ┆ Dealing  │\n",
       "│ ---         ┆ Code     ┆ ---          ┆ ---          ┆   ┆ code      ┆ ---       ┆ ---                ┆ Number   │\n",
       "│ str         ┆ ---      ┆ str          ┆ str          ┆   ┆ ---       ┆ str       ┆ str                ┆ ---      │\n",
       "│             ┆ str      ┆              ┆              ┆   ┆ str       ┆           ┆                    ┆ str      │\n",
       "╞═════════════╪══════════╪══════════════╪══════════════╪═══╪═══════════╪═══════════╪════════════════════╪══════════╡\n",
       "│ B           ┆ 001      ┆ 2962131      ┆ 1            ┆ … ┆ SAV       ┆ null      ┆ 0                  ┆ AQ754912 │\n",
       "│ B           ┆ 001      ┆ 4156561      ┆ 2            ┆ … ┆ AAJ       ┆ null      ┆ 0                  ┆ AQ751923 │\n",
       "│ B           ┆ 001      ┆ 4224453      ┆ 3            ┆ … ┆ AAJ       ┆ null      ┆ 0                  ┆ AQ744227 │\n",
       "│ B           ┆ 001      ┆ 4224457      ┆ 4            ┆ … ┆ AAJ       ┆ null      ┆ 0                  ┆ AQ742328 │\n",
       "│ B           ┆ 001      ┆ 4225342      ┆ 5            ┆ … ┆ AAJ       ┆ null      ┆ 0                  ┆ AQ744713 │\n",
       "└─────────────┴──────────┴──────────────┴──────────────┴───┴───────────┴───────────┴────────────────────┴──────────┘"
      ]
     },
     "execution_count": 75,
     "metadata": {},
     "output_type": "execute_result"
    }
   ],
   "source": [
    "df_combined.head()"
   ]
  },
  {
   "cell_type": "code",
   "execution_count": 82,
   "id": "e3f3963b-6515-4f8d-9a8b-d3c933a374b1",
   "metadata": {},
   "outputs": [],
   "source": [
    "df_combined = df_combined.with_columns(\n",
    "    pl.col(\"Contract Date\").str.strptime(pl.Date, \"%Y%m%d\", strict=False).alias(\"Contract Date\")\n",
    ")"
   ]
  },
  {
   "cell_type": "code",
   "execution_count": 96,
   "id": "1d15929c-9721-4078-a59c-8dba2ba92770",
   "metadata": {},
   "outputs": [],
   "source": [
    "df_cleaned_col = df_combined.select('District Code',\n",
    "                            'Property Id.',\n",
    "                            'Property Name',\n",
    "                            'Property Unit Number',\n",
    "                            'Property House Number',\n",
    "                            'Property Street Name',\n",
    "                            'Property Locality',\n",
    "                            'Property Post Code',\n",
    "                            'Area',\n",
    "                            'Area Type',\n",
    "                            'Contract Date',\n",
    "                            'Settlement Date',\n",
    "                            'Purchase Price',\n",
    "                            'Primary Purpose',\n",
    "                            'Strata Lot Number')"
   ]
  },
  {
   "cell_type": "code",
   "execution_count": 97,
   "id": "a854fe2e-596f-466a-b953-6b8a0cdb9921",
   "metadata": {},
   "outputs": [],
   "source": [
    "df_cleaned_col = df_cleaned_col.with_columns(pl.col(\"Area\").cast(pl.Float64).alias(\"Area\"))"
   ]
  },
  {
   "cell_type": "code",
   "execution_count": 98,
   "id": "add13404-dab9-492b-9d74-6fa10d9673a5",
   "metadata": {},
   "outputs": [],
   "source": [
    "df_cleaned_col = df_cleaned_col.with_columns(pl.col(\"Purchase Price\").cast(pl.Int64).alias(\"Purchase Price\"))"
   ]
  },
  {
   "cell_type": "code",
   "execution_count": 102,
   "id": "1edcf0e5-c230-4348-beec-ea2dece41f5d",
   "metadata": {},
   "outputs": [],
   "source": [
    "df_cleaned_col = df_cleaned_col.with_columns(pl.col(\"Property Id.\").cast(pl.Int64).alias(\"Property Id.\"))"
   ]
  },
  {
   "cell_type": "code",
   "execution_count": 101,
   "id": "5fd5afca-5879-4534-bab0-167cd12ddb54",
   "metadata": {},
   "outputs": [],
   "source": [
    "df_cleaned_col = df_cleaned_col.with_columns(\n",
    "    pl.col(\"Settlement Date\").str.strptime(pl.Date, \"%Y%m%d\", strict=False).alias(\"Settlement Date\")\n",
    ")"
   ]
  },
  {
   "cell_type": "code",
   "execution_count": 113,
   "id": "7e713820-bf2a-482d-86ef-555be9f43563",
   "metadata": {},
   "outputs": [],
   "source": [
    "df_cleaned_col = df_cleaned_col.with_columns((pl.col(\"Purchase Price\") / pl.col(\"Area\")).alias(\"Price per Unit Area\"))"
   ]
  },
  {
   "cell_type": "code",
   "execution_count": 116,
   "id": "82144f60-85a5-4b39-bbf3-755935f0ddd1",
   "metadata": {},
   "outputs": [
    {
     "data": {
      "text/html": [
       "<div><style>\n",
       ".dataframe > thead > tr,\n",
       ".dataframe > tbody > tr {\n",
       "  text-align: right;\n",
       "  white-space: pre-wrap;\n",
       "}\n",
       "</style>\n",
       "<small>shape: (5, 16)</small><table border=\"1\" class=\"dataframe\"><thead><tr><th>District Code</th><th>Property Id.</th><th>Property Name</th><th>Property Unit Number</th><th>Property House Number</th><th>Property Street Name</th><th>Property Locality</th><th>Property Post Code</th><th>Area</th><th>Area Type</th><th>Contract Date</th><th>Settlement Date</th><th>Purchase Price</th><th>Primary Purpose</th><th>Strata Lot Number</th><th>Price per Unit Area</th></tr><tr><td>str</td><td>i64</td><td>str</td><td>str</td><td>str</td><td>str</td><td>str</td><td>str</td><td>f64</td><td>str</td><td>date</td><td>date</td><td>i64</td><td>str</td><td>str</td><td>f64</td></tr></thead><tbody><tr><td>&quot;001&quot;</td><td>2962131</td><td>null</td><td>null</td><td>&quot;11&quot;</td><td>&quot;BARNHILL ACCS&quot;</td><td>&quot;ROTHBURY&quot;</td><td>&quot;2320&quot;</td><td>609.8</td><td>&quot;M&quot;</td><td>2020-12-11</td><td>2021-01-27</td><td>845000</td><td>&quot;RESIDENCE&quot;</td><td>null</td><td>1385.70023</td></tr><tr><td>&quot;001&quot;</td><td>4156561</td><td>null</td><td>null</td><td>&quot;111&quot;</td><td>&quot;TALLEYRAND CCT&quot;</td><td>&quot;GRETA&quot;</td><td>&quot;2334&quot;</td><td>612.0</td><td>&quot;M&quot;</td><td>2020-12-11</td><td>2021-01-27</td><td>210000</td><td>&quot;RESIDENCE&quot;</td><td>null</td><td>343.137255</td></tr><tr><td>&quot;001&quot;</td><td>4224453</td><td>null</td><td>null</td><td>&quot;15&quot;</td><td>&quot;GUY CL&quot;</td><td>&quot;GRETA&quot;</td><td>&quot;2334&quot;</td><td>657.5</td><td>&quot;M&quot;</td><td>2020-12-22</td><td>2021-01-22</td><td>205000</td><td>&quot;RESIDENCE&quot;</td><td>null</td><td>311.787072</td></tr><tr><td>&quot;001&quot;</td><td>4224457</td><td>null</td><td>null</td><td>&quot;10&quot;</td><td>&quot;GUY CL&quot;</td><td>&quot;GRETA&quot;</td><td>&quot;2334&quot;</td><td>725.5</td><td>&quot;M&quot;</td><td>2020-12-03</td><td>2021-01-22</td><td>200000</td><td>&quot;VACANT LAND&quot;</td><td>null</td><td>275.67195</td></tr><tr><td>&quot;001&quot;</td><td>4225342</td><td>null</td><td>null</td><td>&quot;90&quot;</td><td>&quot;TALLEYRAND CCT&quot;</td><td>&quot;GRETA&quot;</td><td>&quot;2334&quot;</td><td>640.6</td><td>&quot;M&quot;</td><td>2020-12-11</td><td>2021-01-22</td><td>210000</td><td>&quot;VACANT LAND&quot;</td><td>null</td><td>327.817671</td></tr></tbody></table></div>"
      ],
      "text/plain": [
       "shape: (5, 16)\n",
       "┌──────────┬──────────┬──────────┬───────────────┬───┬──────────┬─────────────┬────────────┬─────────────────────┐\n",
       "│ District ┆ Property ┆ Property ┆ Property Unit ┆ … ┆ Purchase ┆ Primary     ┆ Strata Lot ┆ Price per Unit Area │\n",
       "│ Code     ┆ Id.      ┆ Name     ┆ Number        ┆   ┆ Price    ┆ Purpose     ┆ Number     ┆ ---                 │\n",
       "│ ---      ┆ ---      ┆ ---      ┆ ---           ┆   ┆ ---      ┆ ---         ┆ ---        ┆ f64                 │\n",
       "│ str      ┆ i64      ┆ str      ┆ str           ┆   ┆ i64      ┆ str         ┆ str        ┆                     │\n",
       "╞══════════╪══════════╪══════════╪═══════════════╪═══╪══════════╪═════════════╪════════════╪═════════════════════╡\n",
       "│ 001      ┆ 2962131  ┆ null     ┆ null          ┆ … ┆ 845000   ┆ RESIDENCE   ┆ null       ┆ 1385.70023          │\n",
       "│ 001      ┆ 4156561  ┆ null     ┆ null          ┆ … ┆ 210000   ┆ RESIDENCE   ┆ null       ┆ 343.137255          │\n",
       "│ 001      ┆ 4224453  ┆ null     ┆ null          ┆ … ┆ 205000   ┆ RESIDENCE   ┆ null       ┆ 311.787072          │\n",
       "│ 001      ┆ 4224457  ┆ null     ┆ null          ┆ … ┆ 200000   ┆ VACANT LAND ┆ null       ┆ 275.67195           │\n",
       "│ 001      ┆ 4225342  ┆ null     ┆ null          ┆ … ┆ 210000   ┆ VACANT LAND ┆ null       ┆ 327.817671          │\n",
       "└──────────┴──────────┴──────────┴───────────────┴───┴──────────┴─────────────┴────────────┴─────────────────────┘"
      ]
     },
     "execution_count": 116,
     "metadata": {},
     "output_type": "execute_result"
    }
   ],
   "source": [
    "df_cleaned_col.head()"
   ]
  },
  {
   "cell_type": "code",
   "execution_count": 122,
   "id": "62dc1995-2b34-4da5-85df-bbd40de60465",
   "metadata": {},
   "outputs": [
    {
     "data": {
      "text/plain": [
       "<bound method DataFrame.n_unique of shape: (625_210, 16)\n",
       "┌──────────┬──────────┬───────────┬──────────────────────┬───┬──────────┬─────────────┬────────────┬────────────────┐\n",
       "│ District ┆ Property ┆ Property  ┆ Property Unit Number ┆ … ┆ Purchase ┆ Primary     ┆ Strata Lot ┆ Price per Unit │\n",
       "│ Code     ┆ Id.      ┆ Name      ┆ ---                  ┆   ┆ Price    ┆ Purpose     ┆ Number     ┆ Area           │\n",
       "│ ---      ┆ ---      ┆ ---       ┆ str                  ┆   ┆ ---      ┆ ---         ┆ ---        ┆ ---            │\n",
       "│ str      ┆ i64      ┆ str       ┆                      ┆   ┆ i64      ┆ str         ┆ str        ┆ f64            │\n",
       "╞══════════╪══════════╪═══════════╪══════════════════════╪═══╪══════════╪═════════════╪════════════╪════════════════╡\n",
       "│ 001      ┆ 2962131  ┆ null      ┆ null                 ┆ … ┆ 845000   ┆ RESIDENCE   ┆ null       ┆ 1385.70023     │\n",
       "│ 001      ┆ 4156561  ┆ null      ┆ null                 ┆ … ┆ 210000   ┆ RESIDENCE   ┆ null       ┆ 343.137255     │\n",
       "│ 001      ┆ 4224453  ┆ null      ┆ null                 ┆ … ┆ 205000   ┆ RESIDENCE   ┆ null       ┆ 311.787072     │\n",
       "│ 001      ┆ 4224457  ┆ null      ┆ null                 ┆ … ┆ 200000   ┆ VACANT LAND ┆ null       ┆ 275.67195      │\n",
       "│ 001      ┆ 4225342  ┆ null      ┆ null                 ┆ … ┆ 210000   ┆ VACANT LAND ┆ null       ┆ 327.817671     │\n",
       "│ …        ┆ …        ┆ …         ┆ …                    ┆ … ┆ …        ┆ …           ┆ …          ┆ …              │\n",
       "│ 902      ┆ 3267634  ┆ null      ┆ null                 ┆ … ┆ 6044545  ┆ FARM        ┆ null       ┆ 1075.350471    │\n",
       "│ 902      ┆ 3491446  ┆ DELALAH   ┆ null                 ┆ … ┆ 66799998 ┆ RESIDENCE   ┆ null       ┆ 247.105382     │\n",
       "│          ┆          ┆ DOWNS     ┆                      ┆   ┆          ┆             ┆            ┆                │\n",
       "│ 902      ┆ 3478967  ┆ ROCKWELL  ┆ null                 ┆ … ┆ 35000    ┆ VACANT LAND ┆ null       ┆ 8.648382       │\n",
       "│ 902      ┆ 3475447  ┆ null      ┆ null                 ┆ … ┆ 1572681  ┆ FARM        ┆ null       ┆ 170.351062     │\n",
       "│ 902      ┆ 3475452  ┆ RAVENDALE ┆ null                 ┆ … ┆ 4910199  ┆ FARM        ┆ null       ┆ 170.351062     │\n",
       "│          ┆          ┆ STATION   ┆                      ┆   ┆          ┆             ┆            ┆                │\n",
       "└──────────┴──────────┴───────────┴──────────────────────┴───┴──────────┴─────────────┴────────────┴────────────────┘>"
      ]
     },
     "execution_count": 122,
     "metadata": {},
     "output_type": "execute_result"
    }
   ],
   "source": [
    "df_cleaned_col.n_unique"
   ]
  },
  {
   "cell_type": "code",
   "execution_count": 117,
   "id": "c8af2c7f-5726-4c76-9b80-0d3c8801582a",
   "metadata": {},
   "outputs": [],
   "source": [
    "unit_df = df_cleaned_col.filter((pl.col(\"Property Unit Number\") != \"null\") | (pl.col(\"Strata Lot Number\") != \"null\"))"
   ]
  },
  {
   "cell_type": "code",
   "execution_count": 118,
   "id": "aca4cd15-013f-49b7-b86a-ebec10524b9b",
   "metadata": {},
   "outputs": [
    {
     "data": {
      "text/html": [
       "<div><style>\n",
       ".dataframe > thead > tr,\n",
       ".dataframe > tbody > tr {\n",
       "  text-align: right;\n",
       "  white-space: pre-wrap;\n",
       "}\n",
       "</style>\n",
       "<small>shape: (5, 16)</small><table border=\"1\" class=\"dataframe\"><thead><tr><th>District Code</th><th>Property Id.</th><th>Property Name</th><th>Property Unit Number</th><th>Property House Number</th><th>Property Street Name</th><th>Property Locality</th><th>Property Post Code</th><th>Area</th><th>Area Type</th><th>Contract Date</th><th>Settlement Date</th><th>Purchase Price</th><th>Primary Purpose</th><th>Strata Lot Number</th><th>Price per Unit Area</th></tr><tr><td>str</td><td>i64</td><td>str</td><td>str</td><td>str</td><td>str</td><td>str</td><td>str</td><td>f64</td><td>str</td><td>date</td><td>date</td><td>i64</td><td>str</td><td>str</td><td>f64</td></tr></thead><tbody><tr><td>&quot;001&quot;</td><td>3029751</td><td>&quot;GOLDEN DOOR HEALTH RETREAT AND…</td><td>&quot;16&quot;</td><td>&quot;165&quot;</td><td>&quot;THOMPSONS RD&quot;</td><td>&quot;POKOLBIN&quot;</td><td>&quot;2320&quot;</td><td>null</td><td>null</td><td>2020-11-25</td><td>2021-01-22</td><td>100000</td><td>&quot;RESIDENCE&quot;</td><td>&quot;16&quot;</td><td>null</td></tr><tr><td>&quot;001&quot;</td><td>3830378</td><td>null</td><td>&quot;11&quot;</td><td>&quot;5&quot;</td><td>&quot;STONEBRIDGE DR&quot;</td><td>&quot;CESSNOCK&quot;</td><td>&quot;2325&quot;</td><td>null</td><td>null</td><td>2020-12-16</td><td>2021-01-27</td><td>335000</td><td>&quot;RESIDENCE&quot;</td><td>&quot;11&quot;</td><td>null</td></tr><tr><td>&quot;001&quot;</td><td>12688</td><td>null</td><td>&quot;18&quot;</td><td>&quot;52&quot;</td><td>&quot;RAILWAY PDE&quot;</td><td>&quot;KURRI KURRI&quot;</td><td>&quot;2327&quot;</td><td>null</td><td>null</td><td>2021-01-14</td><td>2021-02-25</td><td>230000</td><td>&quot;RESIDENCE&quot;</td><td>&quot;18&quot;</td><td>null</td></tr><tr><td>&quot;001&quot;</td><td>4111319</td><td>null</td><td>&quot;1&quot;</td><td>&quot;39&quot;</td><td>&quot;ASHTON DR&quot;</td><td>&quot;HEDDON GRETA&quot;</td><td>&quot;2321&quot;</td><td>336.0</td><td>&quot;M&quot;</td><td>2021-01-20</td><td>2021-02-24</td><td>455000</td><td>&quot;RESIDENCE&quot;</td><td>null</td><td>1354.166667</td></tr><tr><td>&quot;001&quot;</td><td>3278183</td><td>null</td><td>&quot;2&quot;</td><td>&quot;33&quot;</td><td>&quot;MCMULLINS RD&quot;</td><td>&quot;EAST BRANXTON&quot;</td><td>&quot;2335&quot;</td><td>358.3</td><td>&quot;M&quot;</td><td>2021-01-11</td><td>2021-02-22</td><td>345000</td><td>&quot;RESIDENCE&quot;</td><td>null</td><td>962.880268</td></tr></tbody></table></div>"
      ],
      "text/plain": [
       "shape: (5, 16)\n",
       "┌──────────┬──────────┬────────────────────┬───────────────┬───┬──────────┬───────────┬────────────┬────────────────┐\n",
       "│ District ┆ Property ┆ Property Name      ┆ Property Unit ┆ … ┆ Purchase ┆ Primary   ┆ Strata Lot ┆ Price per Unit │\n",
       "│ Code     ┆ Id.      ┆ ---                ┆ Number        ┆   ┆ Price    ┆ Purpose   ┆ Number     ┆ Area           │\n",
       "│ ---      ┆ ---      ┆ str                ┆ ---           ┆   ┆ ---      ┆ ---       ┆ ---        ┆ ---            │\n",
       "│ str      ┆ i64      ┆                    ┆ str           ┆   ┆ i64      ┆ str       ┆ str        ┆ f64            │\n",
       "╞══════════╪══════════╪════════════════════╪═══════════════╪═══╪══════════╪═══════════╪════════════╪════════════════╡\n",
       "│ 001      ┆ 3029751  ┆ GOLDEN DOOR HEALTH ┆ 16            ┆ … ┆ 100000   ┆ RESIDENCE ┆ 16         ┆ null           │\n",
       "│          ┆          ┆ RETREAT AND…       ┆               ┆   ┆          ┆           ┆            ┆                │\n",
       "│ 001      ┆ 3830378  ┆ null               ┆ 11            ┆ … ┆ 335000   ┆ RESIDENCE ┆ 11         ┆ null           │\n",
       "│ 001      ┆ 12688    ┆ null               ┆ 18            ┆ … ┆ 230000   ┆ RESIDENCE ┆ 18         ┆ null           │\n",
       "│ 001      ┆ 4111319  ┆ null               ┆ 1             ┆ … ┆ 455000   ┆ RESIDENCE ┆ null       ┆ 1354.166667    │\n",
       "│ 001      ┆ 3278183  ┆ null               ┆ 2             ┆ … ┆ 345000   ┆ RESIDENCE ┆ null       ┆ 962.880268     │\n",
       "└──────────┴──────────┴────────────────────┴───────────────┴───┴──────────┴───────────┴────────────┴────────────────┘"
      ]
     },
     "execution_count": 118,
     "metadata": {},
     "output_type": "execute_result"
    }
   ],
   "source": [
    "unit_df.head()"
   ]
  },
  {
   "cell_type": "code",
   "execution_count": 123,
   "id": "7bad0a48-ed47-4175-8c3f-270f08cf8419",
   "metadata": {},
   "outputs": [],
   "source": [
    "unit_df_filter = unit_df.filter(pl.col(\"Primary Purpose\").is_in([\"UNIT\", \"RESIDENCE\", \"HOUSE UNIT\", \"VACANT LAND\"]))"
   ]
  },
  {
   "cell_type": "code",
   "execution_count": 124,
   "id": "c4eb90bf-5eb5-4a2c-babe-571ebc645a04",
   "metadata": {},
   "outputs": [
    {
     "data": {
      "text/html": [
       "<div><style>\n",
       ".dataframe > thead > tr,\n",
       ".dataframe > tbody > tr {\n",
       "  text-align: right;\n",
       "  white-space: pre-wrap;\n",
       "}\n",
       "</style>\n",
       "<small>shape: (5, 16)</small><table border=\"1\" class=\"dataframe\"><thead><tr><th>District Code</th><th>Property Id.</th><th>Property Name</th><th>Property Unit Number</th><th>Property House Number</th><th>Property Street Name</th><th>Property Locality</th><th>Property Post Code</th><th>Area</th><th>Area Type</th><th>Contract Date</th><th>Settlement Date</th><th>Purchase Price</th><th>Primary Purpose</th><th>Strata Lot Number</th><th>Price per Unit Area</th></tr><tr><td>str</td><td>i64</td><td>str</td><td>str</td><td>str</td><td>str</td><td>str</td><td>str</td><td>f64</td><td>str</td><td>date</td><td>date</td><td>i64</td><td>str</td><td>str</td><td>f64</td></tr></thead><tbody><tr><td>&quot;001&quot;</td><td>3029751</td><td>&quot;GOLDEN DOOR HEALTH RETREAT AND…</td><td>&quot;16&quot;</td><td>&quot;165&quot;</td><td>&quot;THOMPSONS RD&quot;</td><td>&quot;POKOLBIN&quot;</td><td>&quot;2320&quot;</td><td>null</td><td>null</td><td>2020-11-25</td><td>2021-01-22</td><td>100000</td><td>&quot;RESIDENCE&quot;</td><td>&quot;16&quot;</td><td>null</td></tr><tr><td>&quot;001&quot;</td><td>3830378</td><td>null</td><td>&quot;11&quot;</td><td>&quot;5&quot;</td><td>&quot;STONEBRIDGE DR&quot;</td><td>&quot;CESSNOCK&quot;</td><td>&quot;2325&quot;</td><td>null</td><td>null</td><td>2020-12-16</td><td>2021-01-27</td><td>335000</td><td>&quot;RESIDENCE&quot;</td><td>&quot;11&quot;</td><td>null</td></tr><tr><td>&quot;001&quot;</td><td>12688</td><td>null</td><td>&quot;18&quot;</td><td>&quot;52&quot;</td><td>&quot;RAILWAY PDE&quot;</td><td>&quot;KURRI KURRI&quot;</td><td>&quot;2327&quot;</td><td>null</td><td>null</td><td>2021-01-14</td><td>2021-02-25</td><td>230000</td><td>&quot;RESIDENCE&quot;</td><td>&quot;18&quot;</td><td>null</td></tr><tr><td>&quot;001&quot;</td><td>4111319</td><td>null</td><td>&quot;1&quot;</td><td>&quot;39&quot;</td><td>&quot;ASHTON DR&quot;</td><td>&quot;HEDDON GRETA&quot;</td><td>&quot;2321&quot;</td><td>336.0</td><td>&quot;M&quot;</td><td>2021-01-20</td><td>2021-02-24</td><td>455000</td><td>&quot;RESIDENCE&quot;</td><td>null</td><td>1354.166667</td></tr><tr><td>&quot;001&quot;</td><td>3278183</td><td>null</td><td>&quot;2&quot;</td><td>&quot;33&quot;</td><td>&quot;MCMULLINS RD&quot;</td><td>&quot;EAST BRANXTON&quot;</td><td>&quot;2335&quot;</td><td>358.3</td><td>&quot;M&quot;</td><td>2021-01-11</td><td>2021-02-22</td><td>345000</td><td>&quot;RESIDENCE&quot;</td><td>null</td><td>962.880268</td></tr></tbody></table></div>"
      ],
      "text/plain": [
       "shape: (5, 16)\n",
       "┌──────────┬──────────┬────────────────────┬───────────────┬───┬──────────┬───────────┬────────────┬────────────────┐\n",
       "│ District ┆ Property ┆ Property Name      ┆ Property Unit ┆ … ┆ Purchase ┆ Primary   ┆ Strata Lot ┆ Price per Unit │\n",
       "│ Code     ┆ Id.      ┆ ---                ┆ Number        ┆   ┆ Price    ┆ Purpose   ┆ Number     ┆ Area           │\n",
       "│ ---      ┆ ---      ┆ str                ┆ ---           ┆   ┆ ---      ┆ ---       ┆ ---        ┆ ---            │\n",
       "│ str      ┆ i64      ┆                    ┆ str           ┆   ┆ i64      ┆ str       ┆ str        ┆ f64            │\n",
       "╞══════════╪══════════╪════════════════════╪═══════════════╪═══╪══════════╪═══════════╪════════════╪════════════════╡\n",
       "│ 001      ┆ 3029751  ┆ GOLDEN DOOR HEALTH ┆ 16            ┆ … ┆ 100000   ┆ RESIDENCE ┆ 16         ┆ null           │\n",
       "│          ┆          ┆ RETREAT AND…       ┆               ┆   ┆          ┆           ┆            ┆                │\n",
       "│ 001      ┆ 3830378  ┆ null               ┆ 11            ┆ … ┆ 335000   ┆ RESIDENCE ┆ 11         ┆ null           │\n",
       "│ 001      ┆ 12688    ┆ null               ┆ 18            ┆ … ┆ 230000   ┆ RESIDENCE ┆ 18         ┆ null           │\n",
       "│ 001      ┆ 4111319  ┆ null               ┆ 1             ┆ … ┆ 455000   ┆ RESIDENCE ┆ null       ┆ 1354.166667    │\n",
       "│ 001      ┆ 3278183  ┆ null               ┆ 2             ┆ … ┆ 345000   ┆ RESIDENCE ┆ null       ┆ 962.880268     │\n",
       "└──────────┴──────────┴────────────────────┴───────────────┴───┴──────────┴───────────┴────────────┴────────────────┘"
      ]
     },
     "execution_count": 124,
     "metadata": {},
     "output_type": "execute_result"
    }
   ],
   "source": [
    "unit_df_filter.head()"
   ]
  },
  {
   "cell_type": "code",
   "execution_count": 126,
   "id": "dc17b9e6-31f0-4157-a080-430eb712e2ad",
   "metadata": {},
   "outputs": [],
   "source": [
    "output_file2 = \"./units.csv\"\n",
    "\n",
    "unit_df_filter.write_csv(output_file2)"
   ]
  },
  {
   "cell_type": "code",
   "execution_count": 127,
   "id": "a51f1422-2165-4bf7-a320-109073cbab9c",
   "metadata": {},
   "outputs": [],
   "source": [
    "house_df = df_cleaned_col.filter(pl.col(\"Property Unit Number\").is_null() & pl.col(\"Strata Lot Number\").is_null())\n"
   ]
  },
  {
   "cell_type": "code",
   "execution_count": 128,
   "id": "ef368951-4135-4b77-8deb-dc18dcca5881",
   "metadata": {},
   "outputs": [
    {
     "data": {
      "text/html": [
       "<div><style>\n",
       ".dataframe > thead > tr,\n",
       ".dataframe > tbody > tr {\n",
       "  text-align: right;\n",
       "  white-space: pre-wrap;\n",
       "}\n",
       "</style>\n",
       "<small>shape: (5, 16)</small><table border=\"1\" class=\"dataframe\"><thead><tr><th>District Code</th><th>Property Id.</th><th>Property Name</th><th>Property Unit Number</th><th>Property House Number</th><th>Property Street Name</th><th>Property Locality</th><th>Property Post Code</th><th>Area</th><th>Area Type</th><th>Contract Date</th><th>Settlement Date</th><th>Purchase Price</th><th>Primary Purpose</th><th>Strata Lot Number</th><th>Price per Unit Area</th></tr><tr><td>str</td><td>i64</td><td>str</td><td>str</td><td>str</td><td>str</td><td>str</td><td>str</td><td>f64</td><td>str</td><td>date</td><td>date</td><td>i64</td><td>str</td><td>str</td><td>f64</td></tr></thead><tbody><tr><td>&quot;001&quot;</td><td>2962131</td><td>null</td><td>null</td><td>&quot;11&quot;</td><td>&quot;BARNHILL ACCS&quot;</td><td>&quot;ROTHBURY&quot;</td><td>&quot;2320&quot;</td><td>609.8</td><td>&quot;M&quot;</td><td>2020-12-11</td><td>2021-01-27</td><td>845000</td><td>&quot;RESIDENCE&quot;</td><td>null</td><td>1385.70023</td></tr><tr><td>&quot;001&quot;</td><td>4156561</td><td>null</td><td>null</td><td>&quot;111&quot;</td><td>&quot;TALLEYRAND CCT&quot;</td><td>&quot;GRETA&quot;</td><td>&quot;2334&quot;</td><td>612.0</td><td>&quot;M&quot;</td><td>2020-12-11</td><td>2021-01-27</td><td>210000</td><td>&quot;RESIDENCE&quot;</td><td>null</td><td>343.137255</td></tr><tr><td>&quot;001&quot;</td><td>4224453</td><td>null</td><td>null</td><td>&quot;15&quot;</td><td>&quot;GUY CL&quot;</td><td>&quot;GRETA&quot;</td><td>&quot;2334&quot;</td><td>657.5</td><td>&quot;M&quot;</td><td>2020-12-22</td><td>2021-01-22</td><td>205000</td><td>&quot;RESIDENCE&quot;</td><td>null</td><td>311.787072</td></tr><tr><td>&quot;001&quot;</td><td>4224457</td><td>null</td><td>null</td><td>&quot;10&quot;</td><td>&quot;GUY CL&quot;</td><td>&quot;GRETA&quot;</td><td>&quot;2334&quot;</td><td>725.5</td><td>&quot;M&quot;</td><td>2020-12-03</td><td>2021-01-22</td><td>200000</td><td>&quot;VACANT LAND&quot;</td><td>null</td><td>275.67195</td></tr><tr><td>&quot;001&quot;</td><td>4225342</td><td>null</td><td>null</td><td>&quot;90&quot;</td><td>&quot;TALLEYRAND CCT&quot;</td><td>&quot;GRETA&quot;</td><td>&quot;2334&quot;</td><td>640.6</td><td>&quot;M&quot;</td><td>2020-12-11</td><td>2021-01-22</td><td>210000</td><td>&quot;VACANT LAND&quot;</td><td>null</td><td>327.817671</td></tr></tbody></table></div>"
      ],
      "text/plain": [
       "shape: (5, 16)\n",
       "┌──────────┬──────────┬──────────┬───────────────┬───┬──────────┬─────────────┬────────────┬─────────────────────┐\n",
       "│ District ┆ Property ┆ Property ┆ Property Unit ┆ … ┆ Purchase ┆ Primary     ┆ Strata Lot ┆ Price per Unit Area │\n",
       "│ Code     ┆ Id.      ┆ Name     ┆ Number        ┆   ┆ Price    ┆ Purpose     ┆ Number     ┆ ---                 │\n",
       "│ ---      ┆ ---      ┆ ---      ┆ ---           ┆   ┆ ---      ┆ ---         ┆ ---        ┆ f64                 │\n",
       "│ str      ┆ i64      ┆ str      ┆ str           ┆   ┆ i64      ┆ str         ┆ str        ┆                     │\n",
       "╞══════════╪══════════╪══════════╪═══════════════╪═══╪══════════╪═════════════╪════════════╪═════════════════════╡\n",
       "│ 001      ┆ 2962131  ┆ null     ┆ null          ┆ … ┆ 845000   ┆ RESIDENCE   ┆ null       ┆ 1385.70023          │\n",
       "│ 001      ┆ 4156561  ┆ null     ┆ null          ┆ … ┆ 210000   ┆ RESIDENCE   ┆ null       ┆ 343.137255          │\n",
       "│ 001      ┆ 4224453  ┆ null     ┆ null          ┆ … ┆ 205000   ┆ RESIDENCE   ┆ null       ┆ 311.787072          │\n",
       "│ 001      ┆ 4224457  ┆ null     ┆ null          ┆ … ┆ 200000   ┆ VACANT LAND ┆ null       ┆ 275.67195           │\n",
       "│ 001      ┆ 4225342  ┆ null     ┆ null          ┆ … ┆ 210000   ┆ VACANT LAND ┆ null       ┆ 327.817671          │\n",
       "└──────────┴──────────┴──────────┴───────────────┴───┴──────────┴─────────────┴────────────┴─────────────────────┘"
      ]
     },
     "execution_count": 128,
     "metadata": {},
     "output_type": "execute_result"
    }
   ],
   "source": [
    "house_df.head()"
   ]
  },
  {
   "cell_type": "code",
   "execution_count": 129,
   "id": "74931114-981d-487d-b4dd-56a14b1e01d7",
   "metadata": {},
   "outputs": [],
   "source": [
    "output_file3 = \"./house.csv\"\n",
    "\n",
    "house_df.write_csv(output_file3)"
   ]
  },
  {
   "cell_type": "code",
   "execution_count": null,
   "id": "fa941d05-0d5c-41dc-9a90-00c19b083185",
   "metadata": {},
   "outputs": [],
   "source": []
  }
 ],
 "metadata": {
  "kernelspec": {
   "display_name": "Python 3 (ipykernel)",
   "language": "python",
   "name": "python3"
  },
  "language_info": {
   "codemirror_mode": {
    "name": "ipython",
    "version": 3
   },
   "file_extension": ".py",
   "mimetype": "text/x-python",
   "name": "python",
   "nbconvert_exporter": "python",
   "pygments_lexer": "ipython3",
   "version": "3.10.14"
  }
 },
 "nbformat": 4,
 "nbformat_minor": 5
}
