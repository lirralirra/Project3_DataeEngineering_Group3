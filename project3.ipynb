{
 "cells": [
  {
   "cell_type": "code",
   "id": "6a9a859f-d429-456a-acc3-b423d0731bfc",
   "metadata": {
    "ExecuteTime": {
     "end_time": "2024-12-07T06:41:45.633120Z",
     "start_time": "2024-12-07T06:41:45.580876Z"
    }
   },
   "source": [
    "import polars as pl\n",
    "import csv\n",
    "import glob\n",
    "import os"
   ],
   "outputs": [],
   "execution_count": 1
  },
  {
   "cell_type": "code",
   "id": "379ce2cc-7e7a-49fa-86e0-b55de98a63d4",
   "metadata": {
    "ExecuteTime": {
     "end_time": "2024-12-07T06:41:45.639233Z",
     "start_time": "2024-12-07T06:41:45.636624Z"
    }
   },
   "source": [
    "def clean_file(input_path, output_path):\n",
    "    with open(input_path, \"r\", encoding=\"utf-8\") as infile, open(output_path, \"w\", encoding=\"utf-8\") as outfile:\n",
    "        reader = csv.reader(infile, delimiter=\";\", quotechar='\"', escapechar=\"\\\\\")\n",
    "        writer = csv.writer(outfile, delimiter=\";\", quotechar='\"', escapechar=\"\\\\\", quoting=csv.QUOTE_MINIMAL)\n",
    "        \n",
    "        for row in reader:\n",
    "            if row.count('\"') % 2 != 0:  \n",
    "                continue\n",
    "            max_columns = 24  \n",
    "            row = row[:max_columns] + [\"\"] * (max_columns - len(row))\n",
    "            writer.writerow(row)"
   ],
   "outputs": [],
   "execution_count": 2
  },
  {
   "cell_type": "code",
   "id": "6cd5f5fd-1f1e-43af-9bd0-7822f2c60374",
   "metadata": {
    "ExecuteTime": {
     "end_time": "2024-12-07T06:41:45.668099Z",
     "start_time": "2024-12-07T06:41:45.666497Z"
    }
   },
   "source": [
    "extract_folder = \"extract\"\n",
    "cleaned_folder = \"cleaned\""
   ],
   "outputs": [],
   "execution_count": 3
  },
  {
   "cell_type": "code",
   "id": "06ac27a4-8389-4fb0-8835-e4d091dcfc94",
   "metadata": {
    "ExecuteTime": {
     "end_time": "2024-12-07T06:41:45.684165Z",
     "start_time": "2024-12-07T06:41:45.675164Z"
    }
   },
   "source": [
    "dat_files = glob.glob(f\"{extract_folder}/*.DAT\")\n",
    "print(f\"Number of .dat files found: {len(dat_files)}\")"
   ],
   "outputs": [
    {
     "name": "stdout",
     "output_type": "stream",
     "text": [
      "Number of .dat files found: 5958\n"
     ]
    }
   ],
   "execution_count": 4
  },
  {
   "cell_type": "code",
   "id": "8b4bfacd-3269-4de0-868a-6cf20c0d269e",
   "metadata": {
    "ExecuteTime": {
     "end_time": "2024-12-07T06:42:40.586121Z",
     "start_time": "2024-12-07T06:42:37.180038Z"
    }
   },
   "source": [
    "os.makedirs(cleaned_folder, exist_ok=True)\n",
    "\n",
    "dat_files = glob.glob(f\"{extract_folder}/*.DAT\")\n",
    "\n",
    "for file in dat_files:\n",
    "    cleaned_path = os.path.join(cleaned_folder, os.path.basename(file))\n",
    "    clean_file(file, cleaned_path)"
   ],
   "outputs": [],
   "execution_count": 12
  },
  {
   "cell_type": "code",
   "id": "cfd2b853-a307-4149-9be3-f6a9abcaad57",
   "metadata": {
    "ExecuteTime": {
     "end_time": "2024-12-07T06:42:42.627433Z",
     "start_time": "2024-12-07T06:42:42.622870Z"
    }
   },
   "source": [
    "df_list = []\n",
    "df_schema = {\n",
    "    'Record Type': pl.Utf8,\n",
    "    'District Code': pl.Utf8,\n",
    "    'Property Id.': pl.Utf8,\n",
    "    'Sale Counter': pl.Utf8,\n",
    "    'Download Datetime': pl.Utf8,\n",
    "    'Property Name': pl.Utf8,\n",
    "    'Property Unit Number': pl.Utf8,\n",
    "    'Property House Number': pl.Utf8,\n",
    "    'Property Street Name': pl.Utf8,\n",
    "    'Property Locality': pl.Utf8,\n",
    "    'Property Post Code': pl.Utf8,\n",
    "    'Area': pl.Utf8,\n",
    "    'Area Type': pl.Utf8,\n",
    "    'Contract Date': pl.Utf8,\n",
    "    'Settlement Date': pl.Utf8,\n",
    "    'Purchase Price': pl.Utf8,\n",
    "    'Zoning': pl.Utf8,\n",
    "    'Nature of Property': pl.Utf8,\n",
    "    'Primary Purpose': pl.Utf8,\n",
    "    'Strata Lot Number': pl.Utf8,\n",
    "    'Component code': pl.Utf8,\n",
    "    'Sale Code': pl.Utf8,\n",
    "    '% Interest of Sale': pl.Utf8,\n",
    "    'Dealing Number': pl.Utf8\n",
    "}"
   ],
   "outputs": [],
   "execution_count": 13
  },
  {
   "cell_type": "code",
   "id": "e97876ec-7364-4634-b7f8-009c1d996923",
   "metadata": {
    "ExecuteTime": {
     "end_time": "2024-12-07T06:42:57.104264Z",
     "start_time": "2024-12-07T06:42:54.353482Z"
    }
   },
   "source": [
    "dat_cleaned = glob.glob(f\"{cleaned_folder}/*.DAT\")\n",
    "for file in dat_cleaned:\n",
    "    try:\n",
    "        df = pl.read_csv(\n",
    "            file,\n",
    "            separator=\";\",\n",
    "            has_header=False,\n",
    "            schema = df_schema,\n",
    "            truncate_ragged_lines=True,\n",
    "            ignore_errors=True\n",
    "        ).with_columns(\n",
    "            [pl.col(column).cast(pl.Utf8) for column in df_schema.keys()])\n",
    "        df_list.append(df)\n",
    "    except Exception as e:\n",
    "        print(f\"Error reading {file}: {e}\")"
   ],
   "outputs": [],
   "execution_count": 15
  },
  {
   "cell_type": "code",
   "id": "35bb83fb-07ac-429c-8dbe-05cf7e0e5ff4",
   "metadata": {
    "scrolled": true,
    "ExecuteTime": {
     "end_time": "2024-12-07T06:43:01.052265Z",
     "start_time": "2024-12-07T06:43:00.357599Z"
    }
   },
   "source": [
    "if df_list:\n",
    "    try:\n",
    "        df_combined = pl.concat(df_list)\n",
    "        df_filtered = df_combined.filter(pl.col(\"Record Type\") == \"B\")\n",
    "        df_filtered.write_csv(\"filtered_data.csv\")\n",
    "        print(\"Filtered data saved to 'filtered_data.csv'.\")\n",
    "    except Exception as e:\n",
    "        print(f\"Error during concatenation or filtering: {e}\")\n",
    "else:\n",
    "    print(\"No valid DataFrames to process.\")"
   ],
   "outputs": [
    {
     "name": "stdout",
     "output_type": "stream",
     "text": [
      "Filtered data saved to 'filtered_data.csv'.\n"
     ]
    }
   ],
   "execution_count": 16
  },
  {
   "cell_type": "code",
   "id": "84c73113-2758-4a41-ad4f-0b47e75bc75b",
   "metadata": {
    "ExecuteTime": {
     "end_time": "2024-12-07T06:43:06.354627Z",
     "start_time": "2024-12-07T06:43:06.346720Z"
    }
   },
   "source": [
    "df_filtered.head()"
   ],
   "outputs": [
    {
     "data": {
      "text/plain": [
       "shape: (5, 24)\n",
       "┌────────┬─────────────┬─────────────┬─────────┬───┬─────────────┬──────┬─────────────┬────────────┐\n",
       "│ Record ┆ District    ┆ Property    ┆ Sale    ┆ … ┆ Component   ┆ Sale ┆ % Interest  ┆ Dealing    │\n",
       "│ Type   ┆ Code        ┆ Id.         ┆ Counter ┆   ┆ code        ┆ Code ┆ of Sale     ┆ Number     │\n",
       "│ ---    ┆ ---         ┆ ---         ┆ ---     ┆   ┆ ---         ┆ ---  ┆ ---         ┆ ---        │\n",
       "│ str    ┆ str         ┆ str         ┆ str     ┆   ┆ str         ┆ str  ┆ str         ┆ str        │\n",
       "╞════════╪═════════════╪═════════════╪═════════╪═══╪═════════════╪══════╪═════════════╪════════════╡\n",
       "│ B      ┆ 708         ┆ 2021430     ┆ 1       ┆ … ┆ null        ┆ null ┆ 0           ┆ AT964426   │\n",
       "│ B      ┆ 708         ┆ 2035255     ┆ 2       ┆ … ┆ null        ┆ null ┆ 0           ┆ AT960675   │\n",
       "│ B      ┆ 708         ┆ 2025098     ┆ 3       ┆ … ┆ null        ┆ null ┆ 0           ┆ AT959987   │\n",
       "│ B      ┆ 708         ┆ 2046244     ┆ 4       ┆ … ┆ null        ┆ null ┆ 0           ┆ AT963711   │\n",
       "│ B      ┆ 708         ┆ 2046582     ┆ 5       ┆ … ┆ null        ┆ null ┆ 0           ┆ AT960874   │\n",
       "└────────┴─────────────┴─────────────┴─────────┴───┴─────────────┴──────┴─────────────┴────────────┘"
      ],
      "text/html": [
       "<div><style>\n",
       ".dataframe > thead > tr,\n",
       ".dataframe > tbody > tr {\n",
       "  text-align: right;\n",
       "  white-space: pre-wrap;\n",
       "}\n",
       "</style>\n",
       "<small>shape: (5, 24)</small><table border=\"1\" class=\"dataframe\"><thead><tr><th>Record Type</th><th>District Code</th><th>Property Id.</th><th>Sale Counter</th><th>Download Datetime</th><th>Property Name</th><th>Property Unit Number</th><th>Property House Number</th><th>Property Street Name</th><th>Property Locality</th><th>Property Post Code</th><th>Area</th><th>Area Type</th><th>Contract Date</th><th>Settlement Date</th><th>Purchase Price</th><th>Zoning</th><th>Nature of Property</th><th>Primary Purpose</th><th>Strata Lot Number</th><th>Component code</th><th>Sale Code</th><th>% Interest of Sale</th><th>Dealing Number</th></tr><tr><td>str</td><td>str</td><td>str</td><td>str</td><td>str</td><td>str</td><td>str</td><td>str</td><td>str</td><td>str</td><td>str</td><td>str</td><td>str</td><td>str</td><td>str</td><td>str</td><td>str</td><td>str</td><td>str</td><td>str</td><td>str</td><td>str</td><td>str</td><td>str</td></tr></thead><tbody><tr><td>&quot;B&quot;</td><td>&quot;708&quot;</td><td>&quot;2021430&quot;</td><td>&quot;1&quot;</td><td>&quot;20240415 01:08&quot;</td><td>null</td><td>&quot;26&quot;</td><td>&quot;152&quot;</td><td>&quot;BULWARA RD&quot;</td><td>&quot;PYRMONT&quot;</td><td>&quot;2009&quot;</td><td>null</td><td>null</td><td>&quot;20240226&quot;</td><td>&quot;20240408&quot;</td><td>&quot;1028000&quot;</td><td>null</td><td>&quot;R&quot;</td><td>&quot;RESIDENCE&quot;</td><td>&quot;26&quot;</td><td>null</td><td>null</td><td>&quot;0&quot;</td><td>&quot;AT964426&quot;</td></tr><tr><td>&quot;B&quot;</td><td>&quot;708&quot;</td><td>&quot;2035255&quot;</td><td>&quot;2&quot;</td><td>&quot;20240415 01:08&quot;</td><td>null</td><td>&quot;1208&quot;</td><td>&quot;61&quot;</td><td>&quot;MACQUARIE ST&quot;</td><td>&quot;SYDNEY&quot;</td><td>&quot;2000&quot;</td><td>&quot;221&quot;</td><td>&quot;M&quot;</td><td>&quot;20240113&quot;</td><td>&quot;20240405&quot;</td><td>&quot;6750000&quot;</td><td>null</td><td>&quot;R&quot;</td><td>&quot;RESIDENCE&quot;</td><td>&quot;116&quot;</td><td>null</td><td>null</td><td>&quot;0&quot;</td><td>&quot;AT960675&quot;</td></tr><tr><td>&quot;B&quot;</td><td>&quot;708&quot;</td><td>&quot;2025098&quot;</td><td>&quot;3&quot;</td><td>&quot;20240415 01:08&quot;</td><td>null</td><td>&quot;202&quot;</td><td>&quot;6 E&quot;</td><td>&quot;COWPER WHARF RDWY&quot;</td><td>&quot;WOOLLOOMOOLOO&quot;</td><td>&quot;2011&quot;</td><td>null</td><td>null</td><td>&quot;20240320&quot;</td><td>&quot;20240405&quot;</td><td>&quot;1200000&quot;</td><td>null</td><td>&quot;R&quot;</td><td>&quot;RESIDENCE&quot;</td><td>&quot;43&quot;</td><td>null</td><td>null</td><td>&quot;0&quot;</td><td>&quot;AT959987&quot;</td></tr><tr><td>&quot;B&quot;</td><td>&quot;708&quot;</td><td>&quot;2046244&quot;</td><td>&quot;4&quot;</td><td>&quot;20240415 01:08&quot;</td><td>null</td><td>&quot;533&quot;</td><td>&quot;99&quot;</td><td>&quot;JONES ST&quot;</td><td>&quot;ULTIMO&quot;</td><td>&quot;2007&quot;</td><td>null</td><td>null</td><td>&quot;20240226&quot;</td><td>&quot;20240408&quot;</td><td>&quot;1335000&quot;</td><td>null</td><td>&quot;R&quot;</td><td>&quot;RESIDENCE&quot;</td><td>&quot;218&quot;</td><td>null</td><td>null</td><td>&quot;0&quot;</td><td>&quot;AT963711&quot;</td></tr><tr><td>&quot;B&quot;</td><td>&quot;708&quot;</td><td>&quot;2046582&quot;</td><td>&quot;5&quot;</td><td>&quot;20240415 01:08&quot;</td><td>null</td><td>&quot;17&quot;</td><td>&quot;330&quot;</td><td>&quot;WATTLE ST&quot;</td><td>&quot;ULTIMO&quot;</td><td>&quot;2007&quot;</td><td>null</td><td>null</td><td>&quot;20240301&quot;</td><td>&quot;20240405&quot;</td><td>&quot;300000&quot;</td><td>null</td><td>&quot;3&quot;</td><td>&quot;COMMERCIAL&quot;</td><td>&quot;17&quot;</td><td>null</td><td>null</td><td>&quot;0&quot;</td><td>&quot;AT960874&quot;</td></tr></tbody></table></div>"
      ]
     },
     "execution_count": 17,
     "metadata": {},
     "output_type": "execute_result"
    }
   ],
   "execution_count": 17
  },
  {
   "cell_type": "code",
   "id": "e3f3963b-6515-4f8d-9a8b-d3c933a374b1",
   "metadata": {
    "ExecuteTime": {
     "end_time": "2024-12-07T06:43:15.885794Z",
     "start_time": "2024-12-07T06:43:15.720906Z"
    }
   },
   "source": [
    "df_cleaning = df_filtered.with_columns(\n",
    "    pl.col(\"Contract Date\").str.strptime(pl.Date, \"%Y%m%d\", strict=False).alias(\"Contract Date\")\n",
    ")"
   ],
   "outputs": [],
   "execution_count": 18
  },
  {
   "cell_type": "code",
   "id": "1d15929c-9721-4078-a59c-8dba2ba92770",
   "metadata": {
    "ExecuteTime": {
     "end_time": "2024-12-07T06:43:18.388557Z",
     "start_time": "2024-12-07T06:43:18.370951Z"
    }
   },
   "source": [
    "df_cleaning = df_cleaning.select('District Code',\n",
    "                            'Property Id.',\n",
    "                            'Property Name',\n",
    "                            'Property Unit Number',\n",
    "                            'Property House Number',\n",
    "                            'Property Street Name',\n",
    "                            'Property Locality',\n",
    "                            'Property Post Code',\n",
    "                            'Area',\n",
    "                            'Area Type',\n",
    "                            'Contract Date',\n",
    "                            'Settlement Date',\n",
    "                            'Purchase Price',\n",
    "                            'Primary Purpose',\n",
    "                            'Strata Lot Number')"
   ],
   "outputs": [],
   "execution_count": 19
  },
  {
   "cell_type": "code",
   "id": "a854fe2e-596f-466a-b953-6b8a0cdb9921",
   "metadata": {
    "ExecuteTime": {
     "end_time": "2024-12-07T06:43:21.248336Z",
     "start_time": "2024-12-07T06:43:21.119988Z"
    }
   },
   "source": [
    "df_cleaning = df_cleaning.with_columns(pl.col(\"Area\").cast(pl.Float64).alias(\"Area\"))"
   ],
   "outputs": [],
   "execution_count": 20
  },
  {
   "cell_type": "code",
   "id": "d21a53e2-d0b4-4269-b272-e07978377058",
   "metadata": {
    "ExecuteTime": {
     "end_time": "2024-12-07T06:43:23.173164Z",
     "start_time": "2024-12-07T06:43:23.026756Z"
    }
   },
   "source": [
    "df_cleaning = df_cleaning.with_columns(\n",
    "    pl.when(pl.col('Area Type') == 'M')\n",
    "     .then(pl.col('Area').cast(pl.Float64))\n",
    "     .when(pl.col('Area Type') == 'H')\n",
    "     .then(pl.col('Area').cast(pl.Float64) * 10000)\n",
    "     .otherwise(None)\n",
    "     .alias('Area (m)')\n",
    ")"
   ],
   "outputs": [],
   "execution_count": 21
  },
  {
   "cell_type": "code",
   "id": "add13404-dab9-492b-9d74-6fa10d9673a5",
   "metadata": {
    "ExecuteTime": {
     "end_time": "2024-12-07T06:43:25.077105Z",
     "start_time": "2024-12-07T06:43:24.945758Z"
    }
   },
   "source": [
    "df_cleaning = df_cleaning.with_columns(pl.col(\"Purchase Price\").cast(pl.Int64).alias(\"Purchase Price\"))"
   ],
   "outputs": [],
   "execution_count": 22
  },
  {
   "cell_type": "code",
   "id": "1edcf0e5-c230-4348-beec-ea2dece41f5d",
   "metadata": {
    "ExecuteTime": {
     "end_time": "2024-12-07T06:43:26.791886Z",
     "start_time": "2024-12-07T06:43:26.664606Z"
    }
   },
   "source": [
    "df_cleaning = df_cleaning.with_columns(pl.col(\"Property Id.\").cast(pl.Int64).alias(\"Property Id.\"))"
   ],
   "outputs": [],
   "execution_count": 23
  },
  {
   "cell_type": "code",
   "id": "5fd5afca-5879-4534-bab0-167cd12ddb54",
   "metadata": {
    "ExecuteTime": {
     "end_time": "2024-12-07T06:43:28.321939Z",
     "start_time": "2024-12-07T06:43:28.187139Z"
    }
   },
   "source": [
    "df_cleaning = df_cleaning.with_columns(\n",
    "    pl.col(\"Settlement Date\").str.strptime(pl.Date, \"%Y%m%d\", strict=False).alias(\"Settlement Date\")\n",
    ")"
   ],
   "outputs": [],
   "execution_count": 24
  },
  {
   "cell_type": "code",
   "id": "df8f8d0b-a1e4-49eb-b5b5-38f8d3545949",
   "metadata": {
    "ExecuteTime": {
     "end_time": "2024-12-07T06:43:29.665474Z",
     "start_time": "2024-12-07T06:43:29.525682Z"
    }
   },
   "source": [
    "df_cleaning = df_cleaning.with_columns([\n",
    "    pl.col('Settlement Date').dt.year().alias('Settlement Year'),\n",
    "    pl.col('Settlement Date').dt.month().alias('Settlement Month')\n",
    "])\n"
   ],
   "outputs": [],
   "execution_count": 25
  },
  {
   "cell_type": "code",
   "id": "98b7aa2d-ce86-46dc-a5d9-00c1ab1aa259",
   "metadata": {
    "ExecuteTime": {
     "end_time": "2024-12-07T06:43:31.560042Z",
     "start_time": "2024-12-07T06:43:31.375867Z"
    }
   },
   "source": [
    "df_cleaning = df_cleaning.filter(\n",
    "    pl.col('Settlement Year') >= 2021\n",
    ")"
   ],
   "outputs": [],
   "execution_count": 26
  },
  {
   "cell_type": "code",
   "id": "7e713820-bf2a-482d-86ef-555be9f43563",
   "metadata": {
    "ExecuteTime": {
     "end_time": "2024-12-07T06:43:33.456836Z",
     "start_time": "2024-12-07T06:43:33.307901Z"
    }
   },
   "source": [
    "df_cleaning = df_cleaning.with_columns((pl.col(\"Purchase Price\") / pl.col(\"Area (m)\")).alias(\"Price per m^2\").round(2))"
   ],
   "outputs": [],
   "execution_count": 27
  },
  {
   "cell_type": "code",
   "id": "82144f60-85a5-4b39-bbf3-755935f0ddd1",
   "metadata": {
    "ExecuteTime": {
     "end_time": "2024-12-07T06:43:34.554483Z",
     "start_time": "2024-12-07T06:43:34.549102Z"
    }
   },
   "source": [
    "df_cleaning.head()"
   ],
   "outputs": [
    {
     "data": {
      "text/plain": [
       "shape: (5, 19)\n",
       "┌───────────┬───────────┬───────────┬───────────┬───┬──────────┬───────────┬───────────┬───────────┐\n",
       "│ District  ┆ Property  ┆ Property  ┆ Property  ┆ … ┆ Area (m) ┆ Settlemen ┆ Settlemen ┆ Price per │\n",
       "│ Code      ┆ Id.       ┆ Name      ┆ Unit      ┆   ┆ ---      ┆ t Year    ┆ t Month   ┆ m^2       │\n",
       "│ ---       ┆ ---       ┆ ---       ┆ Number    ┆   ┆ f64      ┆ ---       ┆ ---       ┆ ---       │\n",
       "│ str       ┆ i64       ┆ str       ┆ ---       ┆   ┆          ┆ i32       ┆ i8        ┆ f64       │\n",
       "│           ┆           ┆           ┆ str       ┆   ┆          ┆           ┆           ┆           │\n",
       "╞═══════════╪═══════════╪═══════════╪═══════════╪═══╪══════════╪═══════════╪═══════════╪═══════════╡\n",
       "│ 708       ┆ 2021430   ┆ null      ┆ 26        ┆ … ┆ null     ┆ 2024      ┆ 4         ┆ null      │\n",
       "│ 708       ┆ 2035255   ┆ null      ┆ 1208      ┆ … ┆ 221.0    ┆ 2024      ┆ 4         ┆ 30542.99  │\n",
       "│ 708       ┆ 2025098   ┆ null      ┆ 202       ┆ … ┆ null     ┆ 2024      ┆ 4         ┆ null      │\n",
       "│ 708       ┆ 2046244   ┆ null      ┆ 533       ┆ … ┆ null     ┆ 2024      ┆ 4         ┆ null      │\n",
       "│ 708       ┆ 2046582   ┆ null      ┆ 17        ┆ … ┆ null     ┆ 2024      ┆ 4         ┆ null      │\n",
       "└───────────┴───────────┴───────────┴───────────┴───┴──────────┴───────────┴───────────┴───────────┘"
      ],
      "text/html": [
       "<div><style>\n",
       ".dataframe > thead > tr,\n",
       ".dataframe > tbody > tr {\n",
       "  text-align: right;\n",
       "  white-space: pre-wrap;\n",
       "}\n",
       "</style>\n",
       "<small>shape: (5, 19)</small><table border=\"1\" class=\"dataframe\"><thead><tr><th>District Code</th><th>Property Id.</th><th>Property Name</th><th>Property Unit Number</th><th>Property House Number</th><th>Property Street Name</th><th>Property Locality</th><th>Property Post Code</th><th>Area</th><th>Area Type</th><th>Contract Date</th><th>Settlement Date</th><th>Purchase Price</th><th>Primary Purpose</th><th>Strata Lot Number</th><th>Area (m)</th><th>Settlement Year</th><th>Settlement Month</th><th>Price per m^2</th></tr><tr><td>str</td><td>i64</td><td>str</td><td>str</td><td>str</td><td>str</td><td>str</td><td>str</td><td>f64</td><td>str</td><td>date</td><td>date</td><td>i64</td><td>str</td><td>str</td><td>f64</td><td>i32</td><td>i8</td><td>f64</td></tr></thead><tbody><tr><td>&quot;708&quot;</td><td>2021430</td><td>null</td><td>&quot;26&quot;</td><td>&quot;152&quot;</td><td>&quot;BULWARA RD&quot;</td><td>&quot;PYRMONT&quot;</td><td>&quot;2009&quot;</td><td>null</td><td>null</td><td>2024-02-26</td><td>2024-04-08</td><td>1028000</td><td>&quot;RESIDENCE&quot;</td><td>&quot;26&quot;</td><td>null</td><td>2024</td><td>4</td><td>null</td></tr><tr><td>&quot;708&quot;</td><td>2035255</td><td>null</td><td>&quot;1208&quot;</td><td>&quot;61&quot;</td><td>&quot;MACQUARIE ST&quot;</td><td>&quot;SYDNEY&quot;</td><td>&quot;2000&quot;</td><td>221.0</td><td>&quot;M&quot;</td><td>2024-01-13</td><td>2024-04-05</td><td>6750000</td><td>&quot;RESIDENCE&quot;</td><td>&quot;116&quot;</td><td>221.0</td><td>2024</td><td>4</td><td>30542.99</td></tr><tr><td>&quot;708&quot;</td><td>2025098</td><td>null</td><td>&quot;202&quot;</td><td>&quot;6 E&quot;</td><td>&quot;COWPER WHARF RDWY&quot;</td><td>&quot;WOOLLOOMOOLOO&quot;</td><td>&quot;2011&quot;</td><td>null</td><td>null</td><td>2024-03-20</td><td>2024-04-05</td><td>1200000</td><td>&quot;RESIDENCE&quot;</td><td>&quot;43&quot;</td><td>null</td><td>2024</td><td>4</td><td>null</td></tr><tr><td>&quot;708&quot;</td><td>2046244</td><td>null</td><td>&quot;533&quot;</td><td>&quot;99&quot;</td><td>&quot;JONES ST&quot;</td><td>&quot;ULTIMO&quot;</td><td>&quot;2007&quot;</td><td>null</td><td>null</td><td>2024-02-26</td><td>2024-04-08</td><td>1335000</td><td>&quot;RESIDENCE&quot;</td><td>&quot;218&quot;</td><td>null</td><td>2024</td><td>4</td><td>null</td></tr><tr><td>&quot;708&quot;</td><td>2046582</td><td>null</td><td>&quot;17&quot;</td><td>&quot;330&quot;</td><td>&quot;WATTLE ST&quot;</td><td>&quot;ULTIMO&quot;</td><td>&quot;2007&quot;</td><td>null</td><td>null</td><td>2024-03-01</td><td>2024-04-05</td><td>300000</td><td>&quot;COMMERCIAL&quot;</td><td>&quot;17&quot;</td><td>null</td><td>2024</td><td>4</td><td>null</td></tr></tbody></table></div>"
      ]
     },
     "execution_count": 28,
     "metadata": {},
     "output_type": "execute_result"
    }
   ],
   "execution_count": 28
  },
  {
   "cell_type": "code",
   "id": "62dc1995-2b34-4da5-85df-bbd40de60465",
   "metadata": {
    "ExecuteTime": {
     "end_time": "2024-12-07T06:43:37.280528Z",
     "start_time": "2024-12-07T06:43:37.276597Z"
    }
   },
   "source": [
    "df_cleaning.n_unique"
   ],
   "outputs": [
    {
     "data": {
      "text/plain": [
       "<bound method DataFrame.n_unique of shape: (192_702, 19)\n",
       "┌───────────┬───────────┬───────────┬───────────┬───┬──────────┬───────────┬───────────┬───────────┐\n",
       "│ District  ┆ Property  ┆ Property  ┆ Property  ┆ … ┆ Area (m) ┆ Settlemen ┆ Settlemen ┆ Price per │\n",
       "│ Code      ┆ Id.       ┆ Name      ┆ Unit      ┆   ┆ ---      ┆ t Year    ┆ t Month   ┆ m^2       │\n",
       "│ ---       ┆ ---       ┆ ---       ┆ Number    ┆   ┆ f64      ┆ ---       ┆ ---       ┆ ---       │\n",
       "│ str       ┆ i64       ┆ str       ┆ ---       ┆   ┆          ┆ i32       ┆ i8        ┆ f64       │\n",
       "│           ┆           ┆           ┆ str       ┆   ┆          ┆           ┆           ┆           │\n",
       "╞═══════════╪═══════════╪═══════════╪═══════════╪═══╪══════════╪═══════════╪═══════════╪═══════════╡\n",
       "│ 708       ┆ 2021430   ┆ null      ┆ 26        ┆ … ┆ null     ┆ 2024      ┆ 4         ┆ null      │\n",
       "│ 708       ┆ 2035255   ┆ null      ┆ 1208      ┆ … ┆ 221.0    ┆ 2024      ┆ 4         ┆ 30542.99  │\n",
       "│ 708       ┆ 2025098   ┆ null      ┆ 202       ┆ … ┆ null     ┆ 2024      ┆ 4         ┆ null      │\n",
       "│ 708       ┆ 2046244   ┆ null      ┆ 533       ┆ … ┆ null     ┆ 2024      ┆ 4         ┆ null      │\n",
       "│ 708       ┆ 2046582   ┆ null      ┆ 17        ┆ … ┆ null     ┆ 2024      ┆ 4         ┆ null      │\n",
       "│ …         ┆ …         ┆ …         ┆ …         ┆ … ┆ …        ┆ …         ┆ …         ┆ …         │\n",
       "│ 266       ┆ 452949    ┆ null      ┆ null      ┆ … ┆ 200400.0 ┆ 2024      ┆ 6         ┆ 7.98      │\n",
       "│ 266       ┆ 3574581   ┆ null      ┆ null      ┆ … ┆ 920.0    ┆ 2024      ┆ 6         ┆ 619.57    │\n",
       "│ 266       ┆ 4552538   ┆ null      ┆ null      ┆ … ┆ 940.4    ┆ 2024      ┆ 6         ┆ 733.73    │\n",
       "│ 266       ┆ 4536583   ┆ null      ┆ null      ┆ … ┆ 829.8    ┆ 2024      ┆ 6         ┆ 168.72    │\n",
       "│ 266       ┆ 4558376   ┆ null      ┆ null      ┆ … ┆ 94680.0  ┆ 2024      ┆ 6         ┆ 2.32      │\n",
       "└───────────┴───────────┴───────────┴───────────┴───┴──────────┴───────────┴───────────┴───────────┘>"
      ]
     },
     "execution_count": 29,
     "metadata": {},
     "output_type": "execute_result"
    }
   ],
   "execution_count": 29
  },
  {
   "cell_type": "code",
   "id": "c8af2c7f-5726-4c76-9b80-0d3c8801582a",
   "metadata": {
    "ExecuteTime": {
     "end_time": "2024-12-07T06:43:39.492619Z",
     "start_time": "2024-12-07T06:43:39.294097Z"
    }
   },
   "source": [
    "unit_df = df_cleaning.filter((pl.col(\"Property Unit Number\") != \"null\") | (pl.col(\"Strata Lot Number\") != \"null\"))"
   ],
   "outputs": [],
   "execution_count": 30
  },
  {
   "cell_type": "code",
   "id": "aca4cd15-013f-49b7-b86a-ebec10524b9b",
   "metadata": {
    "ExecuteTime": {
     "end_time": "2024-12-07T06:43:41.153078Z",
     "start_time": "2024-12-07T06:43:41.148647Z"
    }
   },
   "source": [
    "unit_df.head()"
   ],
   "outputs": [
    {
     "data": {
      "text/plain": [
       "shape: (5, 19)\n",
       "┌───────────┬───────────┬───────────┬───────────┬───┬──────────┬───────────┬───────────┬───────────┐\n",
       "│ District  ┆ Property  ┆ Property  ┆ Property  ┆ … ┆ Area (m) ┆ Settlemen ┆ Settlemen ┆ Price per │\n",
       "│ Code      ┆ Id.       ┆ Name      ┆ Unit      ┆   ┆ ---      ┆ t Year    ┆ t Month   ┆ m^2       │\n",
       "│ ---       ┆ ---       ┆ ---       ┆ Number    ┆   ┆ f64      ┆ ---       ┆ ---       ┆ ---       │\n",
       "│ str       ┆ i64       ┆ str       ┆ ---       ┆   ┆          ┆ i32       ┆ i8        ┆ f64       │\n",
       "│           ┆           ┆           ┆ str       ┆   ┆          ┆           ┆           ┆           │\n",
       "╞═══════════╪═══════════╪═══════════╪═══════════╪═══╪══════════╪═══════════╪═══════════╪═══════════╡\n",
       "│ 708       ┆ 2021430   ┆ null      ┆ 26        ┆ … ┆ null     ┆ 2024      ┆ 4         ┆ null      │\n",
       "│ 708       ┆ 2035255   ┆ null      ┆ 1208      ┆ … ┆ 221.0    ┆ 2024      ┆ 4         ┆ 30542.99  │\n",
       "│ 708       ┆ 2025098   ┆ null      ┆ 202       ┆ … ┆ null     ┆ 2024      ┆ 4         ┆ null      │\n",
       "│ 708       ┆ 2046244   ┆ null      ┆ 533       ┆ … ┆ null     ┆ 2024      ┆ 4         ┆ null      │\n",
       "│ 708       ┆ 2046582   ┆ null      ┆ 17        ┆ … ┆ null     ┆ 2024      ┆ 4         ┆ null      │\n",
       "└───────────┴───────────┴───────────┴───────────┴───┴──────────┴───────────┴───────────┴───────────┘"
      ],
      "text/html": [
       "<div><style>\n",
       ".dataframe > thead > tr,\n",
       ".dataframe > tbody > tr {\n",
       "  text-align: right;\n",
       "  white-space: pre-wrap;\n",
       "}\n",
       "</style>\n",
       "<small>shape: (5, 19)</small><table border=\"1\" class=\"dataframe\"><thead><tr><th>District Code</th><th>Property Id.</th><th>Property Name</th><th>Property Unit Number</th><th>Property House Number</th><th>Property Street Name</th><th>Property Locality</th><th>Property Post Code</th><th>Area</th><th>Area Type</th><th>Contract Date</th><th>Settlement Date</th><th>Purchase Price</th><th>Primary Purpose</th><th>Strata Lot Number</th><th>Area (m)</th><th>Settlement Year</th><th>Settlement Month</th><th>Price per m^2</th></tr><tr><td>str</td><td>i64</td><td>str</td><td>str</td><td>str</td><td>str</td><td>str</td><td>str</td><td>f64</td><td>str</td><td>date</td><td>date</td><td>i64</td><td>str</td><td>str</td><td>f64</td><td>i32</td><td>i8</td><td>f64</td></tr></thead><tbody><tr><td>&quot;708&quot;</td><td>2021430</td><td>null</td><td>&quot;26&quot;</td><td>&quot;152&quot;</td><td>&quot;BULWARA RD&quot;</td><td>&quot;PYRMONT&quot;</td><td>&quot;2009&quot;</td><td>null</td><td>null</td><td>2024-02-26</td><td>2024-04-08</td><td>1028000</td><td>&quot;RESIDENCE&quot;</td><td>&quot;26&quot;</td><td>null</td><td>2024</td><td>4</td><td>null</td></tr><tr><td>&quot;708&quot;</td><td>2035255</td><td>null</td><td>&quot;1208&quot;</td><td>&quot;61&quot;</td><td>&quot;MACQUARIE ST&quot;</td><td>&quot;SYDNEY&quot;</td><td>&quot;2000&quot;</td><td>221.0</td><td>&quot;M&quot;</td><td>2024-01-13</td><td>2024-04-05</td><td>6750000</td><td>&quot;RESIDENCE&quot;</td><td>&quot;116&quot;</td><td>221.0</td><td>2024</td><td>4</td><td>30542.99</td></tr><tr><td>&quot;708&quot;</td><td>2025098</td><td>null</td><td>&quot;202&quot;</td><td>&quot;6 E&quot;</td><td>&quot;COWPER WHARF RDWY&quot;</td><td>&quot;WOOLLOOMOOLOO&quot;</td><td>&quot;2011&quot;</td><td>null</td><td>null</td><td>2024-03-20</td><td>2024-04-05</td><td>1200000</td><td>&quot;RESIDENCE&quot;</td><td>&quot;43&quot;</td><td>null</td><td>2024</td><td>4</td><td>null</td></tr><tr><td>&quot;708&quot;</td><td>2046244</td><td>null</td><td>&quot;533&quot;</td><td>&quot;99&quot;</td><td>&quot;JONES ST&quot;</td><td>&quot;ULTIMO&quot;</td><td>&quot;2007&quot;</td><td>null</td><td>null</td><td>2024-02-26</td><td>2024-04-08</td><td>1335000</td><td>&quot;RESIDENCE&quot;</td><td>&quot;218&quot;</td><td>null</td><td>2024</td><td>4</td><td>null</td></tr><tr><td>&quot;708&quot;</td><td>2046582</td><td>null</td><td>&quot;17&quot;</td><td>&quot;330&quot;</td><td>&quot;WATTLE ST&quot;</td><td>&quot;ULTIMO&quot;</td><td>&quot;2007&quot;</td><td>null</td><td>null</td><td>2024-03-01</td><td>2024-04-05</td><td>300000</td><td>&quot;COMMERCIAL&quot;</td><td>&quot;17&quot;</td><td>null</td><td>2024</td><td>4</td><td>null</td></tr></tbody></table></div>"
      ]
     },
     "execution_count": 31,
     "metadata": {},
     "output_type": "execute_result"
    }
   ],
   "execution_count": 31
  },
  {
   "cell_type": "code",
   "id": "7bad0a48-ed47-4175-8c3f-270f08cf8419",
   "metadata": {
    "ExecuteTime": {
     "end_time": "2024-12-07T06:43:43.155239Z",
     "start_time": "2024-12-07T06:43:43.018647Z"
    }
   },
   "source": [
    "unit_df_filter = unit_df.filter(pl.col(\"Primary Purpose\").is_in([\"UNIT\", \"RESIDENCE\", \"HOUSE UNIT\"]))"
   ],
   "outputs": [],
   "execution_count": 32
  },
  {
   "cell_type": "code",
   "id": "c4eb90bf-5eb5-4a2c-babe-571ebc645a04",
   "metadata": {
    "ExecuteTime": {
     "end_time": "2024-12-07T06:43:45.031628Z",
     "start_time": "2024-12-07T06:43:45.027226Z"
    }
   },
   "source": [
    "unit_df_filter.head()"
   ],
   "outputs": [
    {
     "data": {
      "text/plain": [
       "shape: (5, 19)\n",
       "┌───────────┬───────────┬───────────┬───────────┬───┬──────────┬───────────┬───────────┬───────────┐\n",
       "│ District  ┆ Property  ┆ Property  ┆ Property  ┆ … ┆ Area (m) ┆ Settlemen ┆ Settlemen ┆ Price per │\n",
       "│ Code      ┆ Id.       ┆ Name      ┆ Unit      ┆   ┆ ---      ┆ t Year    ┆ t Month   ┆ m^2       │\n",
       "│ ---       ┆ ---       ┆ ---       ┆ Number    ┆   ┆ f64      ┆ ---       ┆ ---       ┆ ---       │\n",
       "│ str       ┆ i64       ┆ str       ┆ ---       ┆   ┆          ┆ i32       ┆ i8        ┆ f64       │\n",
       "│           ┆           ┆           ┆ str       ┆   ┆          ┆           ┆           ┆           │\n",
       "╞═══════════╪═══════════╪═══════════╪═══════════╪═══╪══════════╪═══════════╪═══════════╪═══════════╡\n",
       "│ 708       ┆ 2021430   ┆ null      ┆ 26        ┆ … ┆ null     ┆ 2024      ┆ 4         ┆ null      │\n",
       "│ 708       ┆ 2035255   ┆ null      ┆ 1208      ┆ … ┆ 221.0    ┆ 2024      ┆ 4         ┆ 30542.99  │\n",
       "│ 708       ┆ 2025098   ┆ null      ┆ 202       ┆ … ┆ null     ┆ 2024      ┆ 4         ┆ null      │\n",
       "│ 708       ┆ 2046244   ┆ null      ┆ 533       ┆ … ┆ null     ┆ 2024      ┆ 4         ┆ null      │\n",
       "│ 708       ┆ 2046582   ┆ null      ┆ 108       ┆ … ┆ null     ┆ 2024      ┆ 4         ┆ null      │\n",
       "└───────────┴───────────┴───────────┴───────────┴───┴──────────┴───────────┴───────────┴───────────┘"
      ],
      "text/html": [
       "<div><style>\n",
       ".dataframe > thead > tr,\n",
       ".dataframe > tbody > tr {\n",
       "  text-align: right;\n",
       "  white-space: pre-wrap;\n",
       "}\n",
       "</style>\n",
       "<small>shape: (5, 19)</small><table border=\"1\" class=\"dataframe\"><thead><tr><th>District Code</th><th>Property Id.</th><th>Property Name</th><th>Property Unit Number</th><th>Property House Number</th><th>Property Street Name</th><th>Property Locality</th><th>Property Post Code</th><th>Area</th><th>Area Type</th><th>Contract Date</th><th>Settlement Date</th><th>Purchase Price</th><th>Primary Purpose</th><th>Strata Lot Number</th><th>Area (m)</th><th>Settlement Year</th><th>Settlement Month</th><th>Price per m^2</th></tr><tr><td>str</td><td>i64</td><td>str</td><td>str</td><td>str</td><td>str</td><td>str</td><td>str</td><td>f64</td><td>str</td><td>date</td><td>date</td><td>i64</td><td>str</td><td>str</td><td>f64</td><td>i32</td><td>i8</td><td>f64</td></tr></thead><tbody><tr><td>&quot;708&quot;</td><td>2021430</td><td>null</td><td>&quot;26&quot;</td><td>&quot;152&quot;</td><td>&quot;BULWARA RD&quot;</td><td>&quot;PYRMONT&quot;</td><td>&quot;2009&quot;</td><td>null</td><td>null</td><td>2024-02-26</td><td>2024-04-08</td><td>1028000</td><td>&quot;RESIDENCE&quot;</td><td>&quot;26&quot;</td><td>null</td><td>2024</td><td>4</td><td>null</td></tr><tr><td>&quot;708&quot;</td><td>2035255</td><td>null</td><td>&quot;1208&quot;</td><td>&quot;61&quot;</td><td>&quot;MACQUARIE ST&quot;</td><td>&quot;SYDNEY&quot;</td><td>&quot;2000&quot;</td><td>221.0</td><td>&quot;M&quot;</td><td>2024-01-13</td><td>2024-04-05</td><td>6750000</td><td>&quot;RESIDENCE&quot;</td><td>&quot;116&quot;</td><td>221.0</td><td>2024</td><td>4</td><td>30542.99</td></tr><tr><td>&quot;708&quot;</td><td>2025098</td><td>null</td><td>&quot;202&quot;</td><td>&quot;6 E&quot;</td><td>&quot;COWPER WHARF RDWY&quot;</td><td>&quot;WOOLLOOMOOLOO&quot;</td><td>&quot;2011&quot;</td><td>null</td><td>null</td><td>2024-03-20</td><td>2024-04-05</td><td>1200000</td><td>&quot;RESIDENCE&quot;</td><td>&quot;43&quot;</td><td>null</td><td>2024</td><td>4</td><td>null</td></tr><tr><td>&quot;708&quot;</td><td>2046244</td><td>null</td><td>&quot;533&quot;</td><td>&quot;99&quot;</td><td>&quot;JONES ST&quot;</td><td>&quot;ULTIMO&quot;</td><td>&quot;2007&quot;</td><td>null</td><td>null</td><td>2024-02-26</td><td>2024-04-08</td><td>1335000</td><td>&quot;RESIDENCE&quot;</td><td>&quot;218&quot;</td><td>null</td><td>2024</td><td>4</td><td>null</td></tr><tr><td>&quot;708&quot;</td><td>2046582</td><td>null</td><td>&quot;108&quot;</td><td>&quot;330&quot;</td><td>&quot;WATTLE ST&quot;</td><td>&quot;ULTIMO&quot;</td><td>&quot;2007&quot;</td><td>null</td><td>null</td><td>2024-02-26</td><td>2024-04-08</td><td>415800</td><td>&quot;RESIDENCE&quot;</td><td>&quot;108&quot;</td><td>null</td><td>2024</td><td>4</td><td>null</td></tr></tbody></table></div>"
      ]
     },
     "execution_count": 33,
     "metadata": {},
     "output_type": "execute_result"
    }
   ],
   "execution_count": 33
  },
  {
   "cell_type": "code",
   "id": "dc17b9e6-31f0-4157-a080-430eb712e2ad",
   "metadata": {
    "ExecuteTime": {
     "end_time": "2024-12-07T06:43:51.754589Z",
     "start_time": "2024-12-07T06:43:51.708745Z"
    }
   },
   "source": [
    "output_file2 = \"./units.csv\"\n",
    "\n",
    "unit_df_filter.write_csv(output_file2)"
   ],
   "outputs": [],
   "execution_count": 34
  },
  {
   "cell_type": "code",
   "id": "00785753-d4fe-4aeb-944d-a82535ac7749",
   "metadata": {
    "ExecuteTime": {
     "end_time": "2024-12-07T06:43:54.352201Z",
     "start_time": "2024-12-07T06:43:54.324225Z"
    }
   },
   "source": [
    "unit_groupby = unit_df_filter.group_by(['Property Locality', 'Settlement Year']).agg(pl.col('Price per m^2').mean().alias('Average Price per m^2 per year').round(2))\n",
    "unit_groupby.sort(['Property Locality', 'Settlement Year'])"
   ],
   "outputs": [
    {
     "data": {
      "text/plain": [
       "shape: (1_332, 3)\n",
       "┌───────────────────┬─────────────────┬────────────────────────────────┐\n",
       "│ Property Locality ┆ Settlement Year ┆ Average Price per m^2 per year │\n",
       "│ ---               ┆ ---             ┆ ---                            │\n",
       "│ str               ┆ i32             ┆ f64                            │\n",
       "╞═══════════════════╪═════════════════╪════════════════════════════════╡\n",
       "│ ABBOTSFORD        ┆ 2024            ┆ 9810.86                        │\n",
       "│ ABERDARE          ┆ 2024            ┆ 2511.52                        │\n",
       "│ ABERDEEN          ┆ 2024            ┆ 1968.34                        │\n",
       "│ ABERGLASSLYN      ┆ 2024            ┆ 2241.29                        │\n",
       "│ ABERMAIN          ┆ 2024            ┆ 2112.83                        │\n",
       "│ …                 ┆ …               ┆ …                              │\n",
       "│ YOOGALI           ┆ 2024            ┆ 1248.15                        │\n",
       "│ YOUNG             ┆ 2024            ┆ 1109.89                        │\n",
       "│ YOWIE BAY         ┆ 2024            ┆ 5393.94                        │\n",
       "│ ZETLAND           ┆ 2023            ┆ 12397.61                       │\n",
       "│ ZETLAND           ┆ 2024            ┆ 32805.32                       │\n",
       "└───────────────────┴─────────────────┴────────────────────────────────┘"
      ],
      "text/html": [
       "<div><style>\n",
       ".dataframe > thead > tr,\n",
       ".dataframe > tbody > tr {\n",
       "  text-align: right;\n",
       "  white-space: pre-wrap;\n",
       "}\n",
       "</style>\n",
       "<small>shape: (1_332, 3)</small><table border=\"1\" class=\"dataframe\"><thead><tr><th>Property Locality</th><th>Settlement Year</th><th>Average Price per m^2 per year</th></tr><tr><td>str</td><td>i32</td><td>f64</td></tr></thead><tbody><tr><td>&quot;ABBOTSFORD&quot;</td><td>2024</td><td>9810.86</td></tr><tr><td>&quot;ABERDARE&quot;</td><td>2024</td><td>2511.52</td></tr><tr><td>&quot;ABERDEEN&quot;</td><td>2024</td><td>1968.34</td></tr><tr><td>&quot;ABERGLASSLYN&quot;</td><td>2024</td><td>2241.29</td></tr><tr><td>&quot;ABERMAIN&quot;</td><td>2024</td><td>2112.83</td></tr><tr><td>&hellip;</td><td>&hellip;</td><td>&hellip;</td></tr><tr><td>&quot;YOOGALI&quot;</td><td>2024</td><td>1248.15</td></tr><tr><td>&quot;YOUNG&quot;</td><td>2024</td><td>1109.89</td></tr><tr><td>&quot;YOWIE BAY&quot;</td><td>2024</td><td>5393.94</td></tr><tr><td>&quot;ZETLAND&quot;</td><td>2023</td><td>12397.61</td></tr><tr><td>&quot;ZETLAND&quot;</td><td>2024</td><td>32805.32</td></tr></tbody></table></div>"
      ]
     },
     "execution_count": 35,
     "metadata": {},
     "output_type": "execute_result"
    }
   ],
   "execution_count": 35
  },
  {
   "cell_type": "code",
   "id": "bf7b4a1e-7fa2-461d-bdfa-ee58023fde80",
   "metadata": {
    "ExecuteTime": {
     "end_time": "2024-12-07T06:43:57.966657Z",
     "start_time": "2024-12-07T06:43:57.963775Z"
    }
   },
   "source": [
    "output_file3 = \"./units_grouped.csv\"\n",
    "\n",
    "unit_groupby.write_csv(output_file3)"
   ],
   "outputs": [],
   "execution_count": 36
  },
  {
   "cell_type": "code",
   "id": "a51f1422-2165-4bf7-a320-109073cbab9c",
   "metadata": {
    "ExecuteTime": {
     "end_time": "2024-12-07T06:44:00.726252Z",
     "start_time": "2024-12-07T06:44:00.301556Z"
    }
   },
   "source": [
    "house_df = df_cleaning.filter(\n",
    "    (pl.col(\"Property Unit Number\").is_null() & pl.col(\"Strata Lot Number\").is_null()))"
   ],
   "outputs": [],
   "execution_count": 37
  },
  {
   "cell_type": "code",
   "id": "ef368951-4135-4b77-8deb-dc18dcca5881",
   "metadata": {
    "ExecuteTime": {
     "end_time": "2024-12-07T06:44:02.729588Z",
     "start_time": "2024-12-07T06:44:02.723984Z"
    }
   },
   "source": [
    "house_df.head()"
   ],
   "outputs": [
    {
     "data": {
      "text/plain": [
       "shape: (5, 19)\n",
       "┌───────────┬───────────┬───────────┬───────────┬───┬──────────┬───────────┬───────────┬───────────┐\n",
       "│ District  ┆ Property  ┆ Property  ┆ Property  ┆ … ┆ Area (m) ┆ Settlemen ┆ Settlemen ┆ Price per │\n",
       "│ Code      ┆ Id.       ┆ Name      ┆ Unit      ┆   ┆ ---      ┆ t Year    ┆ t Month   ┆ m^2       │\n",
       "│ ---       ┆ ---       ┆ ---       ┆ Number    ┆   ┆ f64      ┆ ---       ┆ ---       ┆ ---       │\n",
       "│ str       ┆ i64       ┆ str       ┆ ---       ┆   ┆          ┆ i32       ┆ i8        ┆ f64       │\n",
       "│           ┆           ┆           ┆ str       ┆   ┆          ┆           ┆           ┆           │\n",
       "╞═══════════╪═══════════╪═══════════╪═══════════╪═══╪══════════╪═══════════╪═══════════╪═══════════╡\n",
       "│ 708       ┆ 2106214   ┆ null      ┆ null      ┆ … ┆ 75.9     ┆ 2024      ┆ 4         ┆ 34255.6   │\n",
       "│ 708       ┆ 2121933   ┆ null      ┆ null      ┆ … ┆ 107.5    ┆ 2024      ┆ 4         ┆ 15813.95  │\n",
       "│ 708       ┆ 2108959   ┆ null      ┆ null      ┆ … ┆ 116.13   ┆ 2024      ┆ 4         ┆ 21613.71  │\n",
       "│ 708       ┆ 2114073   ┆ null      ┆ null      ┆ … ┆ 75.9     ┆ 2024      ┆ 4         ┆ 17984.19  │\n",
       "│ 708       ┆ 2110506   ┆ null      ┆ null      ┆ … ┆ 132.8    ┆ 2024      ┆ 4         ┆ 23343.37  │\n",
       "└───────────┴───────────┴───────────┴───────────┴───┴──────────┴───────────┴───────────┴───────────┘"
      ],
      "text/html": [
       "<div><style>\n",
       ".dataframe > thead > tr,\n",
       ".dataframe > tbody > tr {\n",
       "  text-align: right;\n",
       "  white-space: pre-wrap;\n",
       "}\n",
       "</style>\n",
       "<small>shape: (5, 19)</small><table border=\"1\" class=\"dataframe\"><thead><tr><th>District Code</th><th>Property Id.</th><th>Property Name</th><th>Property Unit Number</th><th>Property House Number</th><th>Property Street Name</th><th>Property Locality</th><th>Property Post Code</th><th>Area</th><th>Area Type</th><th>Contract Date</th><th>Settlement Date</th><th>Purchase Price</th><th>Primary Purpose</th><th>Strata Lot Number</th><th>Area (m)</th><th>Settlement Year</th><th>Settlement Month</th><th>Price per m^2</th></tr><tr><td>str</td><td>i64</td><td>str</td><td>str</td><td>str</td><td>str</td><td>str</td><td>str</td><td>f64</td><td>str</td><td>date</td><td>date</td><td>i64</td><td>str</td><td>str</td><td>f64</td><td>i32</td><td>i8</td><td>f64</td></tr></thead><tbody><tr><td>&quot;708&quot;</td><td>2106214</td><td>null</td><td>null</td><td>&quot;106&quot;</td><td>&quot;ALBION ST&quot;</td><td>&quot;SURRY HILLS&quot;</td><td>&quot;2010&quot;</td><td>75.9</td><td>&quot;M&quot;</td><td>2024-02-24</td><td>2024-04-10</td><td>2600000</td><td>&quot;RESIDENCE&quot;</td><td>null</td><td>75.9</td><td>2024</td><td>4</td><td>34255.6</td></tr><tr><td>&quot;708&quot;</td><td>2121933</td><td>null</td><td>null</td><td>&quot;14&quot;</td><td>&quot;EGAN ST&quot;</td><td>&quot;NEWTOWN&quot;</td><td>&quot;2042&quot;</td><td>107.5</td><td>&quot;M&quot;</td><td>2024-03-08</td><td>2024-04-05</td><td>1700000</td><td>&quot;RESIDENCE&quot;</td><td>null</td><td>107.5</td><td>2024</td><td>4</td><td>15813.95</td></tr><tr><td>&quot;708&quot;</td><td>2108959</td><td>null</td><td>null</td><td>&quot;36&quot;</td><td>&quot;BINNING ST&quot;</td><td>&quot;ERSKINEVILLE&quot;</td><td>&quot;2043&quot;</td><td>116.13</td><td>&quot;M&quot;</td><td>2024-03-02</td><td>2024-04-08</td><td>2510000</td><td>&quot;RESIDENCE&quot;</td><td>null</td><td>116.13</td><td>2024</td><td>4</td><td>21613.71</td></tr><tr><td>&quot;708&quot;</td><td>2114073</td><td>null</td><td>null</td><td>&quot;33&quot;</td><td>&quot;CAMPBELL ST&quot;</td><td>&quot;NEWTOWN&quot;</td><td>&quot;2042&quot;</td><td>75.9</td><td>&quot;M&quot;</td><td>2024-02-24</td><td>2024-04-05</td><td>1365000</td><td>&quot;RESIDENCE&quot;</td><td>null</td><td>75.9</td><td>2024</td><td>4</td><td>17984.19</td></tr><tr><td>&quot;708&quot;</td><td>2110506</td><td>null</td><td>null</td><td>&quot;505&quot;</td><td>&quot;BOURKE ST&quot;</td><td>&quot;SURRY HILLS&quot;</td><td>&quot;2010&quot;</td><td>132.8</td><td>&quot;M&quot;</td><td>2024-02-28</td><td>2024-04-10</td><td>3100000</td><td>&quot;RESIDENCE&quot;</td><td>null</td><td>132.8</td><td>2024</td><td>4</td><td>23343.37</td></tr></tbody></table></div>"
      ]
     },
     "execution_count": 38,
     "metadata": {},
     "output_type": "execute_result"
    }
   ],
   "execution_count": 38
  },
  {
   "cell_type": "code",
   "id": "79b28ba3-c044-4d21-ae8a-819726d6d5ba",
   "metadata": {
    "ExecuteTime": {
     "end_time": "2024-12-07T06:44:05.307020Z",
     "start_time": "2024-12-07T06:44:05.160266Z"
    }
   },
   "source": [
    "house_df_filter = house_df.filter(pl.col(\"Primary Purpose\").is_in([\"RESIDENCE\", \"DWELLING\", \"HOUSE AND FARM\"]))"
   ],
   "outputs": [],
   "execution_count": 39
  },
  {
   "cell_type": "code",
   "id": "8a378e34-b6c5-47ab-b5dd-dccf7c1550d8",
   "metadata": {
    "ExecuteTime": {
     "end_time": "2024-12-07T06:44:06.655993Z",
     "start_time": "2024-12-07T06:44:06.650514Z"
    }
   },
   "source": [
    "house_df_filter.head()"
   ],
   "outputs": [
    {
     "data": {
      "text/plain": [
       "shape: (5, 19)\n",
       "┌───────────┬───────────┬───────────┬───────────┬───┬──────────┬───────────┬───────────┬───────────┐\n",
       "│ District  ┆ Property  ┆ Property  ┆ Property  ┆ … ┆ Area (m) ┆ Settlemen ┆ Settlemen ┆ Price per │\n",
       "│ Code      ┆ Id.       ┆ Name      ┆ Unit      ┆   ┆ ---      ┆ t Year    ┆ t Month   ┆ m^2       │\n",
       "│ ---       ┆ ---       ┆ ---       ┆ Number    ┆   ┆ f64      ┆ ---       ┆ ---       ┆ ---       │\n",
       "│ str       ┆ i64       ┆ str       ┆ ---       ┆   ┆          ┆ i32       ┆ i8        ┆ f64       │\n",
       "│           ┆           ┆           ┆ str       ┆   ┆          ┆           ┆           ┆           │\n",
       "╞═══════════╪═══════════╪═══════════╪═══════════╪═══╪══════════╪═══════════╪═══════════╪═══════════╡\n",
       "│ 708       ┆ 2106214   ┆ null      ┆ null      ┆ … ┆ 75.9     ┆ 2024      ┆ 4         ┆ 34255.6   │\n",
       "│ 708       ┆ 2121933   ┆ null      ┆ null      ┆ … ┆ 107.5    ┆ 2024      ┆ 4         ┆ 15813.95  │\n",
       "│ 708       ┆ 2108959   ┆ null      ┆ null      ┆ … ┆ 116.13   ┆ 2024      ┆ 4         ┆ 21613.71  │\n",
       "│ 708       ┆ 2114073   ┆ null      ┆ null      ┆ … ┆ 75.9     ┆ 2024      ┆ 4         ┆ 17984.19  │\n",
       "│ 708       ┆ 2110506   ┆ null      ┆ null      ┆ … ┆ 132.8    ┆ 2024      ┆ 4         ┆ 23343.37  │\n",
       "└───────────┴───────────┴───────────┴───────────┴───┴──────────┴───────────┴───────────┴───────────┘"
      ],
      "text/html": [
       "<div><style>\n",
       ".dataframe > thead > tr,\n",
       ".dataframe > tbody > tr {\n",
       "  text-align: right;\n",
       "  white-space: pre-wrap;\n",
       "}\n",
       "</style>\n",
       "<small>shape: (5, 19)</small><table border=\"1\" class=\"dataframe\"><thead><tr><th>District Code</th><th>Property Id.</th><th>Property Name</th><th>Property Unit Number</th><th>Property House Number</th><th>Property Street Name</th><th>Property Locality</th><th>Property Post Code</th><th>Area</th><th>Area Type</th><th>Contract Date</th><th>Settlement Date</th><th>Purchase Price</th><th>Primary Purpose</th><th>Strata Lot Number</th><th>Area (m)</th><th>Settlement Year</th><th>Settlement Month</th><th>Price per m^2</th></tr><tr><td>str</td><td>i64</td><td>str</td><td>str</td><td>str</td><td>str</td><td>str</td><td>str</td><td>f64</td><td>str</td><td>date</td><td>date</td><td>i64</td><td>str</td><td>str</td><td>f64</td><td>i32</td><td>i8</td><td>f64</td></tr></thead><tbody><tr><td>&quot;708&quot;</td><td>2106214</td><td>null</td><td>null</td><td>&quot;106&quot;</td><td>&quot;ALBION ST&quot;</td><td>&quot;SURRY HILLS&quot;</td><td>&quot;2010&quot;</td><td>75.9</td><td>&quot;M&quot;</td><td>2024-02-24</td><td>2024-04-10</td><td>2600000</td><td>&quot;RESIDENCE&quot;</td><td>null</td><td>75.9</td><td>2024</td><td>4</td><td>34255.6</td></tr><tr><td>&quot;708&quot;</td><td>2121933</td><td>null</td><td>null</td><td>&quot;14&quot;</td><td>&quot;EGAN ST&quot;</td><td>&quot;NEWTOWN&quot;</td><td>&quot;2042&quot;</td><td>107.5</td><td>&quot;M&quot;</td><td>2024-03-08</td><td>2024-04-05</td><td>1700000</td><td>&quot;RESIDENCE&quot;</td><td>null</td><td>107.5</td><td>2024</td><td>4</td><td>15813.95</td></tr><tr><td>&quot;708&quot;</td><td>2108959</td><td>null</td><td>null</td><td>&quot;36&quot;</td><td>&quot;BINNING ST&quot;</td><td>&quot;ERSKINEVILLE&quot;</td><td>&quot;2043&quot;</td><td>116.13</td><td>&quot;M&quot;</td><td>2024-03-02</td><td>2024-04-08</td><td>2510000</td><td>&quot;RESIDENCE&quot;</td><td>null</td><td>116.13</td><td>2024</td><td>4</td><td>21613.71</td></tr><tr><td>&quot;708&quot;</td><td>2114073</td><td>null</td><td>null</td><td>&quot;33&quot;</td><td>&quot;CAMPBELL ST&quot;</td><td>&quot;NEWTOWN&quot;</td><td>&quot;2042&quot;</td><td>75.9</td><td>&quot;M&quot;</td><td>2024-02-24</td><td>2024-04-05</td><td>1365000</td><td>&quot;RESIDENCE&quot;</td><td>null</td><td>75.9</td><td>2024</td><td>4</td><td>17984.19</td></tr><tr><td>&quot;708&quot;</td><td>2110506</td><td>null</td><td>null</td><td>&quot;505&quot;</td><td>&quot;BOURKE ST&quot;</td><td>&quot;SURRY HILLS&quot;</td><td>&quot;2010&quot;</td><td>132.8</td><td>&quot;M&quot;</td><td>2024-02-28</td><td>2024-04-10</td><td>3100000</td><td>&quot;RESIDENCE&quot;</td><td>null</td><td>132.8</td><td>2024</td><td>4</td><td>23343.37</td></tr></tbody></table></div>"
      ]
     },
     "execution_count": 40,
     "metadata": {},
     "output_type": "execute_result"
    }
   ],
   "execution_count": 40
  },
  {
   "cell_type": "code",
   "id": "12a59d15-545a-4ae3-8f01-af02a6215440",
   "metadata": {
    "ExecuteTime": {
     "end_time": "2024-12-07T06:44:08.877326Z",
     "start_time": "2024-12-07T06:44:08.830333Z"
    }
   },
   "source": [
    "output_file4 = \"./house.csv\"\n",
    "\n",
    "house_df_filter.write_csv(output_file4)"
   ],
   "outputs": [],
   "execution_count": 41
  },
  {
   "cell_type": "code",
   "id": "a0bcdd91-7ff7-4078-855b-604f0ee1338e",
   "metadata": {
    "ExecuteTime": {
     "end_time": "2024-12-07T06:44:10.923294Z",
     "start_time": "2024-12-07T06:44:10.898877Z"
    }
   },
   "source": [
    "house_groupby = house_df_filter.group_by(['Property Locality', 'Settlement Year']).agg(pl.col('Price per m^2').mean().alias('Average Price per m^2 per year').round(2))\n",
    "house_groupby.sort(['Property Locality', 'Settlement Year'])\n"
   ],
   "outputs": [
    {
     "data": {
      "text/plain": [
       "shape: (3_364, 3)\n",
       "┌───────────────────┬─────────────────┬────────────────────────────────┐\n",
       "│ Property Locality ┆ Settlement Year ┆ Average Price per m^2 per year │\n",
       "│ ---               ┆ ---             ┆ ---                            │\n",
       "│ str               ┆ i32             ┆ f64                            │\n",
       "╞═══════════════════╪═════════════════╪════════════════════════════════╡\n",
       "│ AARONS PASS       ┆ 2024            ┆ 1.0                            │\n",
       "│ ABBOTSBURY        ┆ 2024            ┆ 2174.99                        │\n",
       "│ ABBOTSFORD        ┆ 2024            ┆ 8633.88                        │\n",
       "│ ABERCROMBIE       ┆ 2024            ┆ 909.46                         │\n",
       "│ ABERCROMBIE RIVER ┆ 2024            ┆ 0.44                           │\n",
       "│ …                 ┆ …               ┆ …                              │\n",
       "│ YOUNG             ┆ 2024            ┆ 391.67                         │\n",
       "│ YOWIE BAY         ┆ 2024            ┆ 3338.23                        │\n",
       "│ YOWRIE            ┆ 2024            ┆ 6.73                           │\n",
       "│ ZARA              ┆ 2024            ┆ 7.09                           │\n",
       "│ ZETLAND           ┆ 2024            ┆ 16801.44                       │\n",
       "└───────────────────┴─────────────────┴────────────────────────────────┘"
      ],
      "text/html": [
       "<div><style>\n",
       ".dataframe > thead > tr,\n",
       ".dataframe > tbody > tr {\n",
       "  text-align: right;\n",
       "  white-space: pre-wrap;\n",
       "}\n",
       "</style>\n",
       "<small>shape: (3_364, 3)</small><table border=\"1\" class=\"dataframe\"><thead><tr><th>Property Locality</th><th>Settlement Year</th><th>Average Price per m^2 per year</th></tr><tr><td>str</td><td>i32</td><td>f64</td></tr></thead><tbody><tr><td>&quot;AARONS PASS&quot;</td><td>2024</td><td>1.0</td></tr><tr><td>&quot;ABBOTSBURY&quot;</td><td>2024</td><td>2174.99</td></tr><tr><td>&quot;ABBOTSFORD&quot;</td><td>2024</td><td>8633.88</td></tr><tr><td>&quot;ABERCROMBIE&quot;</td><td>2024</td><td>909.46</td></tr><tr><td>&quot;ABERCROMBIE RIVER&quot;</td><td>2024</td><td>0.44</td></tr><tr><td>&hellip;</td><td>&hellip;</td><td>&hellip;</td></tr><tr><td>&quot;YOUNG&quot;</td><td>2024</td><td>391.67</td></tr><tr><td>&quot;YOWIE BAY&quot;</td><td>2024</td><td>3338.23</td></tr><tr><td>&quot;YOWRIE&quot;</td><td>2024</td><td>6.73</td></tr><tr><td>&quot;ZARA&quot;</td><td>2024</td><td>7.09</td></tr><tr><td>&quot;ZETLAND&quot;</td><td>2024</td><td>16801.44</td></tr></tbody></table></div>"
      ]
     },
     "execution_count": 42,
     "metadata": {},
     "output_type": "execute_result"
    }
   ],
   "execution_count": 42
  },
  {
   "cell_type": "code",
   "id": "0783986a-ea98-4159-9bff-ba2ec7ae3cf6",
   "metadata": {
    "ExecuteTime": {
     "end_time": "2024-12-07T06:44:13.462012Z",
     "start_time": "2024-12-07T06:44:13.457064Z"
    }
   },
   "source": [
    "house_groupby.head()"
   ],
   "outputs": [
    {
     "data": {
      "text/plain": [
       "shape: (5, 3)\n",
       "┌───────────────────┬─────────────────┬────────────────────────────────┐\n",
       "│ Property Locality ┆ Settlement Year ┆ Average Price per m^2 per year │\n",
       "│ ---               ┆ ---             ┆ ---                            │\n",
       "│ str               ┆ i32             ┆ f64                            │\n",
       "╞═══════════════════╪═════════════════╪════════════════════════════════╡\n",
       "│ WARATAH           ┆ 2023            ┆ 1683.67                        │\n",
       "│ KIAMA             ┆ 2024            ┆ 3255.04                        │\n",
       "│ LAKE CARGELLIGO   ┆ 2024            ┆ 162.28                         │\n",
       "│ TREGEAGLE         ┆ 2024            ┆ 29.64                          │\n",
       "│ MEDOWIE           ┆ 2024            ┆ 946.4                          │\n",
       "└───────────────────┴─────────────────┴────────────────────────────────┘"
      ],
      "text/html": [
       "<div><style>\n",
       ".dataframe > thead > tr,\n",
       ".dataframe > tbody > tr {\n",
       "  text-align: right;\n",
       "  white-space: pre-wrap;\n",
       "}\n",
       "</style>\n",
       "<small>shape: (5, 3)</small><table border=\"1\" class=\"dataframe\"><thead><tr><th>Property Locality</th><th>Settlement Year</th><th>Average Price per m^2 per year</th></tr><tr><td>str</td><td>i32</td><td>f64</td></tr></thead><tbody><tr><td>&quot;WARATAH&quot;</td><td>2023</td><td>1683.67</td></tr><tr><td>&quot;KIAMA&quot;</td><td>2024</td><td>3255.04</td></tr><tr><td>&quot;LAKE CARGELLIGO&quot;</td><td>2024</td><td>162.28</td></tr><tr><td>&quot;TREGEAGLE&quot;</td><td>2024</td><td>29.64</td></tr><tr><td>&quot;MEDOWIE&quot;</td><td>2024</td><td>946.4</td></tr></tbody></table></div>"
      ]
     },
     "execution_count": 43,
     "metadata": {},
     "output_type": "execute_result"
    }
   ],
   "execution_count": 43
  },
  {
   "cell_type": "code",
   "id": "74931114-981d-487d-b4dd-56a14b1e01d7",
   "metadata": {
    "ExecuteTime": {
     "end_time": "2024-12-07T06:44:16.167395Z",
     "start_time": "2024-12-07T06:44:16.163411Z"
    }
   },
   "source": [
    "output_file5 = \"./house_grouped.csv\"\n",
    "\n",
    "house_groupby.write_csv(output_file5)"
   ],
   "outputs": [],
   "execution_count": 44
  },
  {
   "cell_type": "code",
   "id": "fa941d05-0d5c-41dc-9a90-00c19b083185",
   "metadata": {},
   "source": [],
   "outputs": [],
   "execution_count": null
  }
 ],
 "metadata": {
  "kernelspec": {
   "display_name": "Python 3 (ipykernel)",
   "language": "python",
   "name": "python3"
  },
  "language_info": {
   "codemirror_mode": {
    "name": "ipython",
    "version": 3
   },
   "file_extension": ".py",
   "mimetype": "text/x-python",
   "name": "python",
   "nbconvert_exporter": "python",
   "pygments_lexer": "ipython3",
   "version": "3.10.14"
  }
 },
 "nbformat": 4,
 "nbformat_minor": 5
}
