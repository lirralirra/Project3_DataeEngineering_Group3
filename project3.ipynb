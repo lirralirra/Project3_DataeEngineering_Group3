{
 "cells": [
  {
   "cell_type": "code",
   "id": "6a9a859f-d429-456a-acc3-b423d0731bfc",
   "metadata": {
    "ExecuteTime": {
     "end_time": "2024-12-05T07:29:14.416288Z",
     "start_time": "2024-12-05T07:29:14.413667Z"
    }
   },
   "source": [
    "import polars as pl\n",
    "import csv\n",
    "import glob"
   ],
   "outputs": [],
   "execution_count": 5
  },
  {
   "cell_type": "code",
   "id": "6cd5f5fd-1f1e-43af-9bd0-7822f2c60374",
   "metadata": {
    "ExecuteTime": {
     "end_time": "2024-12-05T07:29:16.950699Z",
     "start_time": "2024-12-05T07:29:16.948181Z"
    }
   },
   "source": [
    "extract_folder = 'extract'"
   ],
   "outputs": [],
   "execution_count": 6
  },
  {
   "cell_type": "code",
   "id": "06ac27a4-8389-4fb0-8835-e4d091dcfc94",
   "metadata": {
    "ExecuteTime": {
     "end_time": "2024-12-05T07:29:27.393840Z",
     "start_time": "2024-12-05T07:29:27.363220Z"
    }
   },
   "source": [
    "dat_files = glob.glob(f\"{extract_folder}/*.DAT\")\n",
    "print(f\"Number of .dat files found: {len(dat_files)}\")"
   ],
   "outputs": [
    {
     "name": "stdout",
     "output_type": "stream",
     "text": [
      "Number of .dat files found: 19218\n"
     ]
    }
   ],
   "execution_count": 7
  },
  {
   "cell_type": "code",
   "id": "cfd2b853-a307-4149-9be3-f6a9abcaad57",
   "metadata": {
    "ExecuteTime": {
     "end_time": "2024-12-05T07:29:30.084533Z",
     "start_time": "2024-12-05T07:29:30.081136Z"
    }
   },
   "source": [
    "df_list = []\n",
    "df_schema = {\n",
    "    'Record Type':pl.String(),'District Code':pl.String(),\n",
    "    'Property Id.':pl.String(),'Sale Counter':pl.String(),\n",
    "    'Download Datetime':pl.String(),'Property Name':pl.String(),\n",
    "    'Property Unit Number':pl.String(),'Property House Number':pl.String(),\n",
    "    'Property Street Name':pl.String(), 'Property Locality':pl.String(),\n",
    "    'Property Post Code':pl.String(), 'Area':pl.String(),\n",
    "    'Area Type':pl.String(), 'Contract Date':pl.String(),\n",
    "    'Settlement Date':pl.String(), 'Purchase Price':pl.String(),\n",
    "    'Zoning':pl.String(), 'Nature of Property':pl.String(),\n",
    "    'Primary Purpose':pl.String(), 'Strata Lot Number':pl.String(),\n",
    "    'Component code':pl.String(), 'Sale Code':pl.String(), \n",
    "    '% Interest of Sale':pl.String(), 'Dealing Number':pl.String()\n",
    "    }"
   ],
   "outputs": [],
   "execution_count": 8
  },
  {
   "cell_type": "code",
   "id": "e97876ec-7364-4634-b7f8-009c1d996923",
   "metadata": {
    "ExecuteTime": {
     "end_time": "2024-12-05T07:29:35.339827Z",
     "start_time": "2024-12-05T07:29:34.045896Z"
    }
   },
   "source": [
    "for file in dat_files:\n",
    "    df = pl.read_csv(file,has_header=False, schema=df_schema, truncate_ragged_lines=True, separator=';', new_columns=['Record Type','District Code','Property Id.','Sale Counter','Download Datetime','Property Name','Property Unit Number','Property House Number','Property Street Name', 'Property Locality', 'Property Post Code', 'Area', 'Area Type', 'Contract Date', 'Settlement Date', 'Purchase Price', 'Zoning', 'Nature of Property', 'Primary Purpose', 'Strata Lot Number', 'Component code', 'Sale Code', '% Interest of Sale', 'Dealing Number'])\n",
    "    df_list.append(df)"
   ],
   "outputs": [
    {
     "ename": "ComputeError",
     "evalue": "could not parse `\"DARGONDAL;PINEVIEW RD;BURROWAY;2821;222;H;20210415;20210527;760000;RU1;3;FARM;;RRN;;0;AR87422;\nC;251;3668696;4;20210531 01:06;880/1180749;\nD;251;3668696;4;20210531 01:06;P;;;;;;\nD;251;3668696;4;20210531 01:06;V;;;;;;\nB;251;4364678;5;20210531 01:06;BUDDAHGLEN;;1584;WARREN RD;NARROMINE;2821;107.6;H;20130619;20210422;84277;;V;VACANT LAND;;;;0;AR57736;\nC;251;4364678;5;20210531 01:06;1/1202908;\nD;251;4364678;5;20210531 01:06;P;;;;;;\nD;251;4364678;5;20210531 01:06;V;;;;;;\nB;251;4353434;6;20210531 01:06;;;125;OLD BACKWATER RD;NARROMINE;2821;2.413;H;20200811;20210521;125000;R1;V;VACANT LAND;;NRM;;0;AR69645;\nC;251;4353434;6;20210531 01:06;200/1271666;\nD;251;4353434;6;20210531 01:06;P;;;;;;\nD;251;4353434;6;20210531 01:06;V;;;;;;\nZ;30;6;6;16;\n` as dtype `str` at column 'Property House Number' (column number 8)\n\nThe current offset in the file is 33 bytes.\n\nYou might want to try:\n- increasing `infer_schema_length` (e.g. `infer_schema_length=10000`),\n- specifying correct dtype with the `schema_overrides` argument\n- setting `ignore_errors` to `True`,\n- adding `\"DARGONDAL;PINEVIEW RD;BURROWAY;2821;222;H;20210415;20210527;760000;RU1;3;FARM;;RRN;;0;AR87422;\nC;251;3668696;4;20210531 01:06;880/1180749;\nD;251;3668696;4;20210531 01:06;P;;;;;;\nD;251;3668696;4;20210531 01:06;V;;;;;;\nB;251;4364678;5;20210531 01:06;BUDDAHGLEN;;1584;WARREN RD;NARROMINE;2821;107.6;H;20130619;20210422;84277;;V;VACANT LAND;;;;0;AR57736;\nC;251;4364678;5;20210531 01:06;1/1202908;\nD;251;4364678;5;20210531 01:06;P;;;;;;\nD;251;4364678;5;20210531 01:06;V;;;;;;\nB;251;4353434;6;20210531 01:06;;;125;OLD BACKWATER RD;NARROMINE;2821;2.413;H;20200811;20210521;125000;R1;V;VACANT LAND;;NRM;;0;AR69645;\nC;251;4353434;6;20210531 01:06;200/1271666;\nD;251;4353434;6;20210531 01:06;P;;;;;;\nD;251;4353434;6;20210531 01:06;V;;;;;;\nZ;30;6;6;16;\n` to the `null_values` list.\n\nOriginal error: ```invalid csv file\n\nField `\"DARGONDAL;PINEVIEW RD;BURROWAY;2821;222;H;20210415;20210527;760000;RU1;3;FARM;;RRN;;0;AR87422;\nC;251;3668696;4;20210531 01:06;880/1180749;\nD;251;3668696;4;20210531 01:06;P;;;;;;\nD;251;3668696;4;20210531 01:06;V;;;;;;\nB;251;4364678;5;20210531 01:06;BUDDAHGLEN;;1584;WARREN RD;NARROMINE;2821;107.6;H;20130619;20210422;84277;;V;VACANT LAND;;;;0;AR57736;\nC;251;4364678;5;20210531 01:06;1/1202908;\nD;251;4364678;5;20210531 01:06;P;;;;;;\nD;251;4364678;5;20210531 01:06;V;;;;;;\nB;251;4353434;6;20210531 01:06;;;125;OLD BACKWATER RD;NARROMINE;2821;2.413;H;20200811;20210521;125000;R1;V;VACANT LAND;;NRM;;0;AR69645;\nC;251;4353434;6;20210531 01:06;200/1271666;\nD;251;4353434;6;20210531 01:06;P;;;;;;\nD;251;4353434;6;20210531 01:06;V;;;;;;\nZ;30;6;6;16;\n` is not properly escaped.```",
     "output_type": "error",
     "traceback": [
      "\u001B[0;31m---------------------------------------------------------------------------\u001B[0m",
      "\u001B[0;31mComputeError\u001B[0m                              Traceback (most recent call last)",
      "Cell \u001B[0;32mIn[9], line 2\u001B[0m\n\u001B[1;32m      1\u001B[0m \u001B[38;5;28;01mfor\u001B[39;00m file \u001B[38;5;129;01min\u001B[39;00m dat_files:\n\u001B[0;32m----> 2\u001B[0m     df \u001B[38;5;241m=\u001B[39m \u001B[43mpl\u001B[49m\u001B[38;5;241;43m.\u001B[39;49m\u001B[43mread_csv\u001B[49m\u001B[43m(\u001B[49m\u001B[43mfile\u001B[49m\u001B[43m,\u001B[49m\u001B[43mhas_header\u001B[49m\u001B[38;5;241;43m=\u001B[39;49m\u001B[38;5;28;43;01mFalse\u001B[39;49;00m\u001B[43m,\u001B[49m\u001B[43m \u001B[49m\u001B[43mschema\u001B[49m\u001B[38;5;241;43m=\u001B[39;49m\u001B[43mdf_schema\u001B[49m\u001B[43m,\u001B[49m\u001B[43m \u001B[49m\u001B[43mtruncate_ragged_lines\u001B[49m\u001B[38;5;241;43m=\u001B[39;49m\u001B[38;5;28;43;01mTrue\u001B[39;49;00m\u001B[43m,\u001B[49m\u001B[43m \u001B[49m\u001B[43mseparator\u001B[49m\u001B[38;5;241;43m=\u001B[39;49m\u001B[38;5;124;43m'\u001B[39;49m\u001B[38;5;124;43m;\u001B[39;49m\u001B[38;5;124;43m'\u001B[39;49m\u001B[43m,\u001B[49m\u001B[43m \u001B[49m\u001B[43mnew_columns\u001B[49m\u001B[38;5;241;43m=\u001B[39;49m\u001B[43m[\u001B[49m\u001B[38;5;124;43m'\u001B[39;49m\u001B[38;5;124;43mRecord Type\u001B[39;49m\u001B[38;5;124;43m'\u001B[39;49m\u001B[43m,\u001B[49m\u001B[38;5;124;43m'\u001B[39;49m\u001B[38;5;124;43mDistrict Code\u001B[39;49m\u001B[38;5;124;43m'\u001B[39;49m\u001B[43m,\u001B[49m\u001B[38;5;124;43m'\u001B[39;49m\u001B[38;5;124;43mProperty Id.\u001B[39;49m\u001B[38;5;124;43m'\u001B[39;49m\u001B[43m,\u001B[49m\u001B[38;5;124;43m'\u001B[39;49m\u001B[38;5;124;43mSale Counter\u001B[39;49m\u001B[38;5;124;43m'\u001B[39;49m\u001B[43m,\u001B[49m\u001B[38;5;124;43m'\u001B[39;49m\u001B[38;5;124;43mDownload Datetime\u001B[39;49m\u001B[38;5;124;43m'\u001B[39;49m\u001B[43m,\u001B[49m\u001B[38;5;124;43m'\u001B[39;49m\u001B[38;5;124;43mProperty Name\u001B[39;49m\u001B[38;5;124;43m'\u001B[39;49m\u001B[43m,\u001B[49m\u001B[38;5;124;43m'\u001B[39;49m\u001B[38;5;124;43mProperty Unit Number\u001B[39;49m\u001B[38;5;124;43m'\u001B[39;49m\u001B[43m,\u001B[49m\u001B[38;5;124;43m'\u001B[39;49m\u001B[38;5;124;43mProperty House Number\u001B[39;49m\u001B[38;5;124;43m'\u001B[39;49m\u001B[43m,\u001B[49m\u001B[38;5;124;43m'\u001B[39;49m\u001B[38;5;124;43mProperty Street Name\u001B[39;49m\u001B[38;5;124;43m'\u001B[39;49m\u001B[43m,\u001B[49m\u001B[43m \u001B[49m\u001B[38;5;124;43m'\u001B[39;49m\u001B[38;5;124;43mProperty Locality\u001B[39;49m\u001B[38;5;124;43m'\u001B[39;49m\u001B[43m,\u001B[49m\u001B[43m \u001B[49m\u001B[38;5;124;43m'\u001B[39;49m\u001B[38;5;124;43mProperty Post Code\u001B[39;49m\u001B[38;5;124;43m'\u001B[39;49m\u001B[43m,\u001B[49m\u001B[43m \u001B[49m\u001B[38;5;124;43m'\u001B[39;49m\u001B[38;5;124;43mArea\u001B[39;49m\u001B[38;5;124;43m'\u001B[39;49m\u001B[43m,\u001B[49m\u001B[43m \u001B[49m\u001B[38;5;124;43m'\u001B[39;49m\u001B[38;5;124;43mArea Type\u001B[39;49m\u001B[38;5;124;43m'\u001B[39;49m\u001B[43m,\u001B[49m\u001B[43m \u001B[49m\u001B[38;5;124;43m'\u001B[39;49m\u001B[38;5;124;43mContract Date\u001B[39;49m\u001B[38;5;124;43m'\u001B[39;49m\u001B[43m,\u001B[49m\u001B[43m \u001B[49m\u001B[38;5;124;43m'\u001B[39;49m\u001B[38;5;124;43mSettlement Date\u001B[39;49m\u001B[38;5;124;43m'\u001B[39;49m\u001B[43m,\u001B[49m\u001B[43m \u001B[49m\u001B[38;5;124;43m'\u001B[39;49m\u001B[38;5;124;43mPurchase Price\u001B[39;49m\u001B[38;5;124;43m'\u001B[39;49m\u001B[43m,\u001B[49m\u001B[43m \u001B[49m\u001B[38;5;124;43m'\u001B[39;49m\u001B[38;5;124;43mZoning\u001B[39;49m\u001B[38;5;124;43m'\u001B[39;49m\u001B[43m,\u001B[49m\u001B[43m \u001B[49m\u001B[38;5;124;43m'\u001B[39;49m\u001B[38;5;124;43mNature of Property\u001B[39;49m\u001B[38;5;124;43m'\u001B[39;49m\u001B[43m,\u001B[49m\u001B[43m \u001B[49m\u001B[38;5;124;43m'\u001B[39;49m\u001B[38;5;124;43mPrimary Purpose\u001B[39;49m\u001B[38;5;124;43m'\u001B[39;49m\u001B[43m,\u001B[49m\u001B[43m \u001B[49m\u001B[38;5;124;43m'\u001B[39;49m\u001B[38;5;124;43mStrata Lot Number\u001B[39;49m\u001B[38;5;124;43m'\u001B[39;49m\u001B[43m,\u001B[49m\u001B[43m \u001B[49m\u001B[38;5;124;43m'\u001B[39;49m\u001B[38;5;124;43mComponent code\u001B[39;49m\u001B[38;5;124;43m'\u001B[39;49m\u001B[43m,\u001B[49m\u001B[43m \u001B[49m\u001B[38;5;124;43m'\u001B[39;49m\u001B[38;5;124;43mSale Code\u001B[39;49m\u001B[38;5;124;43m'\u001B[39;49m\u001B[43m,\u001B[49m\u001B[43m \u001B[49m\u001B[38;5;124;43m'\u001B[39;49m\u001B[38;5;124;43m%\u001B[39;49m\u001B[38;5;124;43m Interest of Sale\u001B[39;49m\u001B[38;5;124;43m'\u001B[39;49m\u001B[43m,\u001B[49m\u001B[43m \u001B[49m\u001B[38;5;124;43m'\u001B[39;49m\u001B[38;5;124;43mDealing Number\u001B[39;49m\u001B[38;5;124;43m'\u001B[39;49m\u001B[43m]\u001B[49m\u001B[43m)\u001B[49m\n\u001B[1;32m      3\u001B[0m     df_list\u001B[38;5;241m.\u001B[39mappend(df)\n",
      "File \u001B[0;32m/opt/anaconda3/envs/dev/lib/python3.10/site-packages/polars/_utils/deprecation.py:92\u001B[0m, in \u001B[0;36mdeprecate_renamed_parameter.<locals>.decorate.<locals>.wrapper\u001B[0;34m(*args, **kwargs)\u001B[0m\n\u001B[1;32m     87\u001B[0m \u001B[38;5;129m@wraps\u001B[39m(function)\n\u001B[1;32m     88\u001B[0m \u001B[38;5;28;01mdef\u001B[39;00m \u001B[38;5;21mwrapper\u001B[39m(\u001B[38;5;241m*\u001B[39margs: P\u001B[38;5;241m.\u001B[39margs, \u001B[38;5;241m*\u001B[39m\u001B[38;5;241m*\u001B[39mkwargs: P\u001B[38;5;241m.\u001B[39mkwargs) \u001B[38;5;241m-\u001B[39m\u001B[38;5;241m>\u001B[39m T:\n\u001B[1;32m     89\u001B[0m     _rename_keyword_argument(\n\u001B[1;32m     90\u001B[0m         old_name, new_name, kwargs, function\u001B[38;5;241m.\u001B[39m\u001B[38;5;18m__qualname__\u001B[39m, version\n\u001B[1;32m     91\u001B[0m     )\n\u001B[0;32m---> 92\u001B[0m     \u001B[38;5;28;01mreturn\u001B[39;00m \u001B[43mfunction\u001B[49m\u001B[43m(\u001B[49m\u001B[38;5;241;43m*\u001B[39;49m\u001B[43margs\u001B[49m\u001B[43m,\u001B[49m\u001B[43m \u001B[49m\u001B[38;5;241;43m*\u001B[39;49m\u001B[38;5;241;43m*\u001B[39;49m\u001B[43mkwargs\u001B[49m\u001B[43m)\u001B[49m\n",
      "File \u001B[0;32m/opt/anaconda3/envs/dev/lib/python3.10/site-packages/polars/_utils/deprecation.py:92\u001B[0m, in \u001B[0;36mdeprecate_renamed_parameter.<locals>.decorate.<locals>.wrapper\u001B[0;34m(*args, **kwargs)\u001B[0m\n\u001B[1;32m     87\u001B[0m \u001B[38;5;129m@wraps\u001B[39m(function)\n\u001B[1;32m     88\u001B[0m \u001B[38;5;28;01mdef\u001B[39;00m \u001B[38;5;21mwrapper\u001B[39m(\u001B[38;5;241m*\u001B[39margs: P\u001B[38;5;241m.\u001B[39margs, \u001B[38;5;241m*\u001B[39m\u001B[38;5;241m*\u001B[39mkwargs: P\u001B[38;5;241m.\u001B[39mkwargs) \u001B[38;5;241m-\u001B[39m\u001B[38;5;241m>\u001B[39m T:\n\u001B[1;32m     89\u001B[0m     _rename_keyword_argument(\n\u001B[1;32m     90\u001B[0m         old_name, new_name, kwargs, function\u001B[38;5;241m.\u001B[39m\u001B[38;5;18m__qualname__\u001B[39m, version\n\u001B[1;32m     91\u001B[0m     )\n\u001B[0;32m---> 92\u001B[0m     \u001B[38;5;28;01mreturn\u001B[39;00m \u001B[43mfunction\u001B[49m\u001B[43m(\u001B[49m\u001B[38;5;241;43m*\u001B[39;49m\u001B[43margs\u001B[49m\u001B[43m,\u001B[49m\u001B[43m \u001B[49m\u001B[38;5;241;43m*\u001B[39;49m\u001B[38;5;241;43m*\u001B[39;49m\u001B[43mkwargs\u001B[49m\u001B[43m)\u001B[49m\n",
      "File \u001B[0;32m/opt/anaconda3/envs/dev/lib/python3.10/site-packages/polars/_utils/deprecation.py:92\u001B[0m, in \u001B[0;36mdeprecate_renamed_parameter.<locals>.decorate.<locals>.wrapper\u001B[0;34m(*args, **kwargs)\u001B[0m\n\u001B[1;32m     87\u001B[0m \u001B[38;5;129m@wraps\u001B[39m(function)\n\u001B[1;32m     88\u001B[0m \u001B[38;5;28;01mdef\u001B[39;00m \u001B[38;5;21mwrapper\u001B[39m(\u001B[38;5;241m*\u001B[39margs: P\u001B[38;5;241m.\u001B[39margs, \u001B[38;5;241m*\u001B[39m\u001B[38;5;241m*\u001B[39mkwargs: P\u001B[38;5;241m.\u001B[39mkwargs) \u001B[38;5;241m-\u001B[39m\u001B[38;5;241m>\u001B[39m T:\n\u001B[1;32m     89\u001B[0m     _rename_keyword_argument(\n\u001B[1;32m     90\u001B[0m         old_name, new_name, kwargs, function\u001B[38;5;241m.\u001B[39m\u001B[38;5;18m__qualname__\u001B[39m, version\n\u001B[1;32m     91\u001B[0m     )\n\u001B[0;32m---> 92\u001B[0m     \u001B[38;5;28;01mreturn\u001B[39;00m \u001B[43mfunction\u001B[49m\u001B[43m(\u001B[49m\u001B[38;5;241;43m*\u001B[39;49m\u001B[43margs\u001B[49m\u001B[43m,\u001B[49m\u001B[43m \u001B[49m\u001B[38;5;241;43m*\u001B[39;49m\u001B[38;5;241;43m*\u001B[39;49m\u001B[43mkwargs\u001B[49m\u001B[43m)\u001B[49m\n",
      "File \u001B[0;32m/opt/anaconda3/envs/dev/lib/python3.10/site-packages/polars/io/csv/functions.py:527\u001B[0m, in \u001B[0;36mread_csv\u001B[0;34m(source, has_header, columns, new_columns, separator, comment_prefix, quote_char, skip_rows, schema, schema_overrides, null_values, missing_utf8_is_empty_string, ignore_errors, try_parse_dates, n_threads, infer_schema, infer_schema_length, batch_size, n_rows, encoding, low_memory, rechunk, use_pyarrow, storage_options, skip_rows_after_header, row_index_name, row_index_offset, sample_size, eol_char, raise_if_empty, truncate_ragged_lines, decimal_comma, glob)\u001B[0m\n\u001B[1;32m    519\u001B[0m \u001B[38;5;28;01melse\u001B[39;00m:\n\u001B[1;32m    520\u001B[0m     \u001B[38;5;28;01mwith\u001B[39;00m prepare_file_arg(\n\u001B[1;32m    521\u001B[0m         source,\n\u001B[1;32m    522\u001B[0m         encoding\u001B[38;5;241m=\u001B[39mencoding,\n\u001B[0;32m   (...)\u001B[0m\n\u001B[1;32m    525\u001B[0m         storage_options\u001B[38;5;241m=\u001B[39mstorage_options,\n\u001B[1;32m    526\u001B[0m     ) \u001B[38;5;28;01mas\u001B[39;00m data:\n\u001B[0;32m--> 527\u001B[0m         df \u001B[38;5;241m=\u001B[39m \u001B[43m_read_csv_impl\u001B[49m\u001B[43m(\u001B[49m\n\u001B[1;32m    528\u001B[0m \u001B[43m            \u001B[49m\u001B[43mdata\u001B[49m\u001B[43m,\u001B[49m\n\u001B[1;32m    529\u001B[0m \u001B[43m            \u001B[49m\u001B[43mhas_header\u001B[49m\u001B[38;5;241;43m=\u001B[39;49m\u001B[43mhas_header\u001B[49m\u001B[43m,\u001B[49m\n\u001B[1;32m    530\u001B[0m \u001B[43m            \u001B[49m\u001B[43mcolumns\u001B[49m\u001B[38;5;241;43m=\u001B[39;49m\u001B[43mcolumns\u001B[49m\u001B[43m \u001B[49m\u001B[38;5;28;43;01mif\u001B[39;49;00m\u001B[43m \u001B[49m\u001B[43mcolumns\u001B[49m\u001B[43m \u001B[49m\u001B[38;5;28;43;01melse\u001B[39;49;00m\u001B[43m \u001B[49m\u001B[43mprojection\u001B[49m\u001B[43m,\u001B[49m\n\u001B[1;32m    531\u001B[0m \u001B[43m            \u001B[49m\u001B[43mseparator\u001B[49m\u001B[38;5;241;43m=\u001B[39;49m\u001B[43mseparator\u001B[49m\u001B[43m,\u001B[49m\n\u001B[1;32m    532\u001B[0m \u001B[43m            \u001B[49m\u001B[43mcomment_prefix\u001B[49m\u001B[38;5;241;43m=\u001B[39;49m\u001B[43mcomment_prefix\u001B[49m\u001B[43m,\u001B[49m\n\u001B[1;32m    533\u001B[0m \u001B[43m            \u001B[49m\u001B[43mquote_char\u001B[49m\u001B[38;5;241;43m=\u001B[39;49m\u001B[43mquote_char\u001B[49m\u001B[43m,\u001B[49m\n\u001B[1;32m    534\u001B[0m \u001B[43m            \u001B[49m\u001B[43mskip_rows\u001B[49m\u001B[38;5;241;43m=\u001B[39;49m\u001B[43mskip_rows\u001B[49m\u001B[43m,\u001B[49m\n\u001B[1;32m    535\u001B[0m \u001B[43m            \u001B[49m\u001B[43mschema_overrides\u001B[49m\u001B[38;5;241;43m=\u001B[39;49m\u001B[43mschema_overrides\u001B[49m\u001B[43m,\u001B[49m\n\u001B[1;32m    536\u001B[0m \u001B[43m            \u001B[49m\u001B[43mschema\u001B[49m\u001B[38;5;241;43m=\u001B[39;49m\u001B[43mschema\u001B[49m\u001B[43m,\u001B[49m\n\u001B[1;32m    537\u001B[0m \u001B[43m            \u001B[49m\u001B[43mnull_values\u001B[49m\u001B[38;5;241;43m=\u001B[39;49m\u001B[43mnull_values\u001B[49m\u001B[43m,\u001B[49m\n\u001B[1;32m    538\u001B[0m \u001B[43m            \u001B[49m\u001B[43mmissing_utf8_is_empty_string\u001B[49m\u001B[38;5;241;43m=\u001B[39;49m\u001B[43mmissing_utf8_is_empty_string\u001B[49m\u001B[43m,\u001B[49m\n\u001B[1;32m    539\u001B[0m \u001B[43m            \u001B[49m\u001B[43mignore_errors\u001B[49m\u001B[38;5;241;43m=\u001B[39;49m\u001B[43mignore_errors\u001B[49m\u001B[43m,\u001B[49m\n\u001B[1;32m    540\u001B[0m \u001B[43m            \u001B[49m\u001B[43mtry_parse_dates\u001B[49m\u001B[38;5;241;43m=\u001B[39;49m\u001B[43mtry_parse_dates\u001B[49m\u001B[43m,\u001B[49m\n\u001B[1;32m    541\u001B[0m \u001B[43m            \u001B[49m\u001B[43mn_threads\u001B[49m\u001B[38;5;241;43m=\u001B[39;49m\u001B[43mn_threads\u001B[49m\u001B[43m,\u001B[49m\n\u001B[1;32m    542\u001B[0m \u001B[43m            \u001B[49m\u001B[43minfer_schema_length\u001B[49m\u001B[38;5;241;43m=\u001B[39;49m\u001B[43minfer_schema_length\u001B[49m\u001B[43m,\u001B[49m\n\u001B[1;32m    543\u001B[0m \u001B[43m            \u001B[49m\u001B[43mbatch_size\u001B[49m\u001B[38;5;241;43m=\u001B[39;49m\u001B[43mbatch_size\u001B[49m\u001B[43m,\u001B[49m\n\u001B[1;32m    544\u001B[0m \u001B[43m            \u001B[49m\u001B[43mn_rows\u001B[49m\u001B[38;5;241;43m=\u001B[39;49m\u001B[43mn_rows\u001B[49m\u001B[43m,\u001B[49m\n\u001B[1;32m    545\u001B[0m \u001B[43m            \u001B[49m\u001B[43mencoding\u001B[49m\u001B[38;5;241;43m=\u001B[39;49m\u001B[43mencoding\u001B[49m\u001B[43m \u001B[49m\u001B[38;5;28;43;01mif\u001B[39;49;00m\u001B[43m \u001B[49m\u001B[43mencoding\u001B[49m\u001B[43m \u001B[49m\u001B[38;5;241;43m==\u001B[39;49m\u001B[43m \u001B[49m\u001B[38;5;124;43m\"\u001B[39;49m\u001B[38;5;124;43mutf8-lossy\u001B[39;49m\u001B[38;5;124;43m\"\u001B[39;49m\u001B[43m \u001B[49m\u001B[38;5;28;43;01melse\u001B[39;49;00m\u001B[43m \u001B[49m\u001B[38;5;124;43m\"\u001B[39;49m\u001B[38;5;124;43mutf8\u001B[39;49m\u001B[38;5;124;43m\"\u001B[39;49m\u001B[43m,\u001B[49m\n\u001B[1;32m    546\u001B[0m \u001B[43m            \u001B[49m\u001B[43mlow_memory\u001B[49m\u001B[38;5;241;43m=\u001B[39;49m\u001B[43mlow_memory\u001B[49m\u001B[43m,\u001B[49m\n\u001B[1;32m    547\u001B[0m \u001B[43m            \u001B[49m\u001B[43mrechunk\u001B[49m\u001B[38;5;241;43m=\u001B[39;49m\u001B[43mrechunk\u001B[49m\u001B[43m,\u001B[49m\n\u001B[1;32m    548\u001B[0m \u001B[43m            \u001B[49m\u001B[43mskip_rows_after_header\u001B[49m\u001B[38;5;241;43m=\u001B[39;49m\u001B[43mskip_rows_after_header\u001B[49m\u001B[43m,\u001B[49m\n\u001B[1;32m    549\u001B[0m \u001B[43m            \u001B[49m\u001B[43mrow_index_name\u001B[49m\u001B[38;5;241;43m=\u001B[39;49m\u001B[43mrow_index_name\u001B[49m\u001B[43m,\u001B[49m\n\u001B[1;32m    550\u001B[0m \u001B[43m            \u001B[49m\u001B[43mrow_index_offset\u001B[49m\u001B[38;5;241;43m=\u001B[39;49m\u001B[43mrow_index_offset\u001B[49m\u001B[43m,\u001B[49m\n\u001B[1;32m    551\u001B[0m \u001B[43m            \u001B[49m\u001B[43meol_char\u001B[49m\u001B[38;5;241;43m=\u001B[39;49m\u001B[43meol_char\u001B[49m\u001B[43m,\u001B[49m\n\u001B[1;32m    552\u001B[0m \u001B[43m            \u001B[49m\u001B[43mraise_if_empty\u001B[49m\u001B[38;5;241;43m=\u001B[39;49m\u001B[43mraise_if_empty\u001B[49m\u001B[43m,\u001B[49m\n\u001B[1;32m    553\u001B[0m \u001B[43m            \u001B[49m\u001B[43mtruncate_ragged_lines\u001B[49m\u001B[38;5;241;43m=\u001B[39;49m\u001B[43mtruncate_ragged_lines\u001B[49m\u001B[43m,\u001B[49m\n\u001B[1;32m    554\u001B[0m \u001B[43m            \u001B[49m\u001B[43mdecimal_comma\u001B[49m\u001B[38;5;241;43m=\u001B[39;49m\u001B[43mdecimal_comma\u001B[49m\u001B[43m,\u001B[49m\n\u001B[1;32m    555\u001B[0m \u001B[43m            \u001B[49m\u001B[43mglob\u001B[49m\u001B[38;5;241;43m=\u001B[39;49m\u001B[43mglob\u001B[49m\u001B[43m,\u001B[49m\n\u001B[1;32m    556\u001B[0m \u001B[43m        \u001B[49m\u001B[43m)\u001B[49m\n\u001B[1;32m    558\u001B[0m \u001B[38;5;28;01mif\u001B[39;00m new_columns:\n\u001B[1;32m    559\u001B[0m     \u001B[38;5;28;01mreturn\u001B[39;00m _update_columns(df, new_columns)\n",
      "File \u001B[0;32m/opt/anaconda3/envs/dev/lib/python3.10/site-packages/polars/io/csv/functions.py:672\u001B[0m, in \u001B[0;36m_read_csv_impl\u001B[0;34m(source, has_header, columns, separator, comment_prefix, quote_char, skip_rows, schema, schema_overrides, null_values, missing_utf8_is_empty_string, ignore_errors, try_parse_dates, n_threads, infer_schema_length, batch_size, n_rows, encoding, low_memory, rechunk, skip_rows_after_header, row_index_name, row_index_offset, sample_size, eol_char, raise_if_empty, truncate_ragged_lines, decimal_comma, glob)\u001B[0m\n\u001B[1;32m    668\u001B[0m         \u001B[38;5;28;01mraise\u001B[39;00m \u001B[38;5;167;01mValueError\u001B[39;00m(msg)\n\u001B[1;32m    670\u001B[0m projection, columns \u001B[38;5;241m=\u001B[39m parse_columns_arg(columns)\n\u001B[0;32m--> 672\u001B[0m pydf \u001B[38;5;241m=\u001B[39m \u001B[43mPyDataFrame\u001B[49m\u001B[38;5;241;43m.\u001B[39;49m\u001B[43mread_csv\u001B[49m\u001B[43m(\u001B[49m\n\u001B[1;32m    673\u001B[0m \u001B[43m    \u001B[49m\u001B[43msource\u001B[49m\u001B[43m,\u001B[49m\n\u001B[1;32m    674\u001B[0m \u001B[43m    \u001B[49m\u001B[43minfer_schema_length\u001B[49m\u001B[43m,\u001B[49m\n\u001B[1;32m    675\u001B[0m \u001B[43m    \u001B[49m\u001B[43mbatch_size\u001B[49m\u001B[43m,\u001B[49m\n\u001B[1;32m    676\u001B[0m \u001B[43m    \u001B[49m\u001B[43mhas_header\u001B[49m\u001B[43m,\u001B[49m\n\u001B[1;32m    677\u001B[0m \u001B[43m    \u001B[49m\u001B[43mignore_errors\u001B[49m\u001B[43m,\u001B[49m\n\u001B[1;32m    678\u001B[0m \u001B[43m    \u001B[49m\u001B[43mn_rows\u001B[49m\u001B[43m,\u001B[49m\n\u001B[1;32m    679\u001B[0m \u001B[43m    \u001B[49m\u001B[43mskip_rows\u001B[49m\u001B[43m,\u001B[49m\n\u001B[1;32m    680\u001B[0m \u001B[43m    \u001B[49m\u001B[43mprojection\u001B[49m\u001B[43m,\u001B[49m\n\u001B[1;32m    681\u001B[0m \u001B[43m    \u001B[49m\u001B[43mseparator\u001B[49m\u001B[43m,\u001B[49m\n\u001B[1;32m    682\u001B[0m \u001B[43m    \u001B[49m\u001B[43mrechunk\u001B[49m\u001B[43m,\u001B[49m\n\u001B[1;32m    683\u001B[0m \u001B[43m    \u001B[49m\u001B[43mcolumns\u001B[49m\u001B[43m,\u001B[49m\n\u001B[1;32m    684\u001B[0m \u001B[43m    \u001B[49m\u001B[43mencoding\u001B[49m\u001B[43m,\u001B[49m\n\u001B[1;32m    685\u001B[0m \u001B[43m    \u001B[49m\u001B[43mn_threads\u001B[49m\u001B[43m,\u001B[49m\n\u001B[1;32m    686\u001B[0m \u001B[43m    \u001B[49m\u001B[43mpath\u001B[49m\u001B[43m,\u001B[49m\n\u001B[1;32m    687\u001B[0m \u001B[43m    \u001B[49m\u001B[43mdtype_list\u001B[49m\u001B[43m,\u001B[49m\n\u001B[1;32m    688\u001B[0m \u001B[43m    \u001B[49m\u001B[43mdtype_slice\u001B[49m\u001B[43m,\u001B[49m\n\u001B[1;32m    689\u001B[0m \u001B[43m    \u001B[49m\u001B[43mlow_memory\u001B[49m\u001B[43m,\u001B[49m\n\u001B[1;32m    690\u001B[0m \u001B[43m    \u001B[49m\u001B[43mcomment_prefix\u001B[49m\u001B[43m,\u001B[49m\n\u001B[1;32m    691\u001B[0m \u001B[43m    \u001B[49m\u001B[43mquote_char\u001B[49m\u001B[43m,\u001B[49m\n\u001B[1;32m    692\u001B[0m \u001B[43m    \u001B[49m\u001B[43mprocessed_null_values\u001B[49m\u001B[43m,\u001B[49m\n\u001B[1;32m    693\u001B[0m \u001B[43m    \u001B[49m\u001B[43mmissing_utf8_is_empty_string\u001B[49m\u001B[43m,\u001B[49m\n\u001B[1;32m    694\u001B[0m \u001B[43m    \u001B[49m\u001B[43mtry_parse_dates\u001B[49m\u001B[43m,\u001B[49m\n\u001B[1;32m    695\u001B[0m \u001B[43m    \u001B[49m\u001B[43mskip_rows_after_header\u001B[49m\u001B[43m,\u001B[49m\n\u001B[1;32m    696\u001B[0m \u001B[43m    \u001B[49m\u001B[43mparse_row_index_args\u001B[49m\u001B[43m(\u001B[49m\u001B[43mrow_index_name\u001B[49m\u001B[43m,\u001B[49m\u001B[43m \u001B[49m\u001B[43mrow_index_offset\u001B[49m\u001B[43m)\u001B[49m\u001B[43m,\u001B[49m\n\u001B[1;32m    697\u001B[0m \u001B[43m    \u001B[49m\u001B[43meol_char\u001B[49m\u001B[38;5;241;43m=\u001B[39;49m\u001B[43meol_char\u001B[49m\u001B[43m,\u001B[49m\n\u001B[1;32m    698\u001B[0m \u001B[43m    \u001B[49m\u001B[43mraise_if_empty\u001B[49m\u001B[38;5;241;43m=\u001B[39;49m\u001B[43mraise_if_empty\u001B[49m\u001B[43m,\u001B[49m\n\u001B[1;32m    699\u001B[0m \u001B[43m    \u001B[49m\u001B[43mtruncate_ragged_lines\u001B[49m\u001B[38;5;241;43m=\u001B[39;49m\u001B[43mtruncate_ragged_lines\u001B[49m\u001B[43m,\u001B[49m\n\u001B[1;32m    700\u001B[0m \u001B[43m    \u001B[49m\u001B[43mdecimal_comma\u001B[49m\u001B[38;5;241;43m=\u001B[39;49m\u001B[43mdecimal_comma\u001B[49m\u001B[43m,\u001B[49m\n\u001B[1;32m    701\u001B[0m \u001B[43m    \u001B[49m\u001B[43mschema\u001B[49m\u001B[38;5;241;43m=\u001B[39;49m\u001B[43mschema\u001B[49m\u001B[43m,\u001B[49m\n\u001B[1;32m    702\u001B[0m \u001B[43m\u001B[49m\u001B[43m)\u001B[49m\n\u001B[1;32m    703\u001B[0m \u001B[38;5;28;01mreturn\u001B[39;00m wrap_df(pydf)\n",
      "\u001B[0;31mComputeError\u001B[0m: could not parse `\"DARGONDAL;PINEVIEW RD;BURROWAY;2821;222;H;20210415;20210527;760000;RU1;3;FARM;;RRN;;0;AR87422;\nC;251;3668696;4;20210531 01:06;880/1180749;\nD;251;3668696;4;20210531 01:06;P;;;;;;\nD;251;3668696;4;20210531 01:06;V;;;;;;\nB;251;4364678;5;20210531 01:06;BUDDAHGLEN;;1584;WARREN RD;NARROMINE;2821;107.6;H;20130619;20210422;84277;;V;VACANT LAND;;;;0;AR57736;\nC;251;4364678;5;20210531 01:06;1/1202908;\nD;251;4364678;5;20210531 01:06;P;;;;;;\nD;251;4364678;5;20210531 01:06;V;;;;;;\nB;251;4353434;6;20210531 01:06;;;125;OLD BACKWATER RD;NARROMINE;2821;2.413;H;20200811;20210521;125000;R1;V;VACANT LAND;;NRM;;0;AR69645;\nC;251;4353434;6;20210531 01:06;200/1271666;\nD;251;4353434;6;20210531 01:06;P;;;;;;\nD;251;4353434;6;20210531 01:06;V;;;;;;\nZ;30;6;6;16;\n` as dtype `str` at column 'Property House Number' (column number 8)\n\nThe current offset in the file is 33 bytes.\n\nYou might want to try:\n- increasing `infer_schema_length` (e.g. `infer_schema_length=10000`),\n- specifying correct dtype with the `schema_overrides` argument\n- setting `ignore_errors` to `True`,\n- adding `\"DARGONDAL;PINEVIEW RD;BURROWAY;2821;222;H;20210415;20210527;760000;RU1;3;FARM;;RRN;;0;AR87422;\nC;251;3668696;4;20210531 01:06;880/1180749;\nD;251;3668696;4;20210531 01:06;P;;;;;;\nD;251;3668696;4;20210531 01:06;V;;;;;;\nB;251;4364678;5;20210531 01:06;BUDDAHGLEN;;1584;WARREN RD;NARROMINE;2821;107.6;H;20130619;20210422;84277;;V;VACANT LAND;;;;0;AR57736;\nC;251;4364678;5;20210531 01:06;1/1202908;\nD;251;4364678;5;20210531 01:06;P;;;;;;\nD;251;4364678;5;20210531 01:06;V;;;;;;\nB;251;4353434;6;20210531 01:06;;;125;OLD BACKWATER RD;NARROMINE;2821;2.413;H;20200811;20210521;125000;R1;V;VACANT LAND;;NRM;;0;AR69645;\nC;251;4353434;6;20210531 01:06;200/1271666;\nD;251;4353434;6;20210531 01:06;P;;;;;;\nD;251;4353434;6;20210531 01:06;V;;;;;;\nZ;30;6;6;16;\n` to the `null_values` list.\n\nOriginal error: ```invalid csv file\n\nField `\"DARGONDAL;PINEVIEW RD;BURROWAY;2821;222;H;20210415;20210527;760000;RU1;3;FARM;;RRN;;0;AR87422;\nC;251;3668696;4;20210531 01:06;880/1180749;\nD;251;3668696;4;20210531 01:06;P;;;;;;\nD;251;3668696;4;20210531 01:06;V;;;;;;\nB;251;4364678;5;20210531 01:06;BUDDAHGLEN;;1584;WARREN RD;NARROMINE;2821;107.6;H;20130619;20210422;84277;;V;VACANT LAND;;;;0;AR57736;\nC;251;4364678;5;20210531 01:06;1/1202908;\nD;251;4364678;5;20210531 01:06;P;;;;;;\nD;251;4364678;5;20210531 01:06;V;;;;;;\nB;251;4353434;6;20210531 01:06;;;125;OLD BACKWATER RD;NARROMINE;2821;2.413;H;20200811;20210521;125000;R1;V;VACANT LAND;;NRM;;0;AR69645;\nC;251;4353434;6;20210531 01:06;200/1271666;\nD;251;4353434;6;20210531 01:06;P;;;;;;\nD;251;4353434;6;20210531 01:06;V;;;;;;\nZ;30;6;6;16;\n` is not properly escaped.```"
     ]
    }
   ],
   "execution_count": 9
  },
  {
   "cell_type": "code",
   "id": "7700de24-aa8c-4f57-9c91-bf0b5c3e6ee7",
   "metadata": {
    "ExecuteTime": {
     "end_time": "2024-12-05T07:29:41.536522Z",
     "start_time": "2024-12-05T07:29:40.770310Z"
    }
   },
   "source": [
    "for df in df_list:\n",
    "  df = df.filter(pl.col(\"Record Type\") == \"B\")"
   ],
   "outputs": [],
   "execution_count": 10
  },
  {
   "cell_type": "code",
   "id": "c6c7b627-6b30-4b73-9944-fd901ba58898",
   "metadata": {
    "ExecuteTime": {
     "end_time": "2024-12-05T07:29:42.993121Z",
     "start_time": "2024-12-05T07:29:42.962111Z"
    }
   },
   "source": [
    "df_combined = pl.concat(df_list)"
   ],
   "outputs": [],
   "execution_count": 11
  },
  {
   "cell_type": "code",
   "id": "0554be1b-383d-47fc-9932-c7de7bca3ca3",
   "metadata": {
    "ExecuteTime": {
     "end_time": "2024-12-05T07:29:44.937407Z",
     "start_time": "2024-12-05T07:29:44.849311Z"
    }
   },
   "source": [
    "df_combined = df_combined.filter(pl.col(\"Record Type\") == \"B\")"
   ],
   "outputs": [],
   "execution_count": 12
  },
  {
   "cell_type": "code",
   "id": "8e9f4311-4067-4a85-9570-ea6d4aab46cf",
   "metadata": {
    "ExecuteTime": {
     "end_time": "2024-12-05T07:29:46.426046Z",
     "start_time": "2024-12-05T07:29:46.390223Z"
    }
   },
   "source": [
    "output_file = \"./unclean.csv\"\n",
    "\n",
    "# Export DataFrame to CSV\n",
    "df_combined.write_csv(output_file)"
   ],
   "outputs": [],
   "execution_count": 13
  },
  {
   "cell_type": "code",
   "id": "84c73113-2758-4a41-ad4f-0b47e75bc75b",
   "metadata": {
    "ExecuteTime": {
     "end_time": "2024-12-05T07:29:48.038160Z",
     "start_time": "2024-12-05T07:29:48.031714Z"
    }
   },
   "source": [
    "df_combined.head()"
   ],
   "outputs": [
    {
     "data": {
      "text/plain": [
       "shape: (5, 24)\n",
       "┌────────┬─────────────┬─────────────┬─────────┬───┬─────────────┬──────┬─────────────┬────────────┐\n",
       "│ Record ┆ District    ┆ Property    ┆ Sale    ┆ … ┆ Component   ┆ Sale ┆ % Interest  ┆ Dealing    │\n",
       "│ Type   ┆ Code        ┆ Id.         ┆ Counter ┆   ┆ code        ┆ Code ┆ of Sale     ┆ Number     │\n",
       "│ ---    ┆ ---         ┆ ---         ┆ ---     ┆   ┆ ---         ┆ ---  ┆ ---         ┆ ---        │\n",
       "│ str    ┆ str         ┆ str         ┆ str     ┆   ┆ str         ┆ str  ┆ str         ┆ str        │\n",
       "╞════════╪═════════════╪═════════════╪═════════╪═══╪═════════════╪══════╪═════════════╪════════════╡\n",
       "│ B      ┆ 238         ┆ 2633079     ┆ 1       ┆ … ┆ AAD         ┆ null ┆ 0           ┆ AR836136   │\n",
       "│ B      ┆ 238         ┆ 2632607     ┆ 1       ┆ … ┆ AAA         ┆ null ┆ 0           ┆ AR229722   │\n",
       "│ B      ┆ 226         ┆ 3487133     ┆ 1       ┆ … ┆ CAM         ┆ null ┆ 0           ┆ AS189239   │\n",
       "│ B      ┆ 226         ┆ 4162632     ┆ 2       ┆ … ┆ THI         ┆ null ┆ 0           ┆ AS194253   │\n",
       "│ B      ┆ 226         ┆ 4189428     ┆ 3       ┆ … ┆ THI         ┆ null ┆ 0           ┆ AS200087   │\n",
       "└────────┴─────────────┴─────────────┴─────────┴───┴─────────────┴──────┴─────────────┴────────────┘"
      ],
      "text/html": [
       "<div><style>\n",
       ".dataframe > thead > tr,\n",
       ".dataframe > tbody > tr {\n",
       "  text-align: right;\n",
       "  white-space: pre-wrap;\n",
       "}\n",
       "</style>\n",
       "<small>shape: (5, 24)</small><table border=\"1\" class=\"dataframe\"><thead><tr><th>Record Type</th><th>District Code</th><th>Property Id.</th><th>Sale Counter</th><th>Download Datetime</th><th>Property Name</th><th>Property Unit Number</th><th>Property House Number</th><th>Property Street Name</th><th>Property Locality</th><th>Property Post Code</th><th>Area</th><th>Area Type</th><th>Contract Date</th><th>Settlement Date</th><th>Purchase Price</th><th>Zoning</th><th>Nature of Property</th><th>Primary Purpose</th><th>Strata Lot Number</th><th>Component code</th><th>Sale Code</th><th>% Interest of Sale</th><th>Dealing Number</th></tr><tr><td>str</td><td>str</td><td>str</td><td>str</td><td>str</td><td>str</td><td>str</td><td>str</td><td>str</td><td>str</td><td>str</td><td>str</td><td>str</td><td>str</td><td>str</td><td>str</td><td>str</td><td>str</td><td>str</td><td>str</td><td>str</td><td>str</td><td>str</td><td>str</td></tr></thead><tbody><tr><td>&quot;B&quot;</td><td>&quot;238&quot;</td><td>&quot;2633079&quot;</td><td>&quot;1&quot;</td><td>&quot;20220131 01:56&quot;</td><td>null</td><td>null</td><td>&quot;16&quot;</td><td>&quot;MCCULLOUGH ST&quot;</td><td>&quot;COONAMBLE&quot;</td><td>&quot;2829&quot;</td><td>&quot;1682&quot;</td><td>&quot;M&quot;</td><td>&quot;20211217&quot;</td><td>&quot;20220127&quot;</td><td>&quot;199000&quot;</td><td>&quot;R1&quot;</td><td>&quot;R&quot;</td><td>&quot;RESIDENCE&quot;</td><td>null</td><td>&quot;AAD&quot;</td><td>null</td><td>&quot;0&quot;</td><td>&quot;AR836136&quot;</td></tr><tr><td>&quot;B&quot;</td><td>&quot;238&quot;</td><td>&quot;2632607&quot;</td><td>&quot;1&quot;</td><td>&quot;20210719 01:04&quot;</td><td>null</td><td>null</td><td>&quot;12&quot;</td><td>&quot;BARTON ST&quot;</td><td>&quot;COONAMBLE&quot;</td><td>&quot;2829&quot;</td><td>&quot;2452&quot;</td><td>&quot;M&quot;</td><td>&quot;20210521&quot;</td><td>&quot;20210709&quot;</td><td>&quot;95000&quot;</td><td>&quot;R1&quot;</td><td>&quot;R&quot;</td><td>&quot;RESIDENCE&quot;</td><td>null</td><td>&quot;AAA&quot;</td><td>null</td><td>&quot;0&quot;</td><td>&quot;AR229722&quot;</td></tr><tr><td>&quot;B&quot;</td><td>&quot;226&quot;</td><td>&quot;3487133&quot;</td><td>&quot;1&quot;</td><td>&quot;20220613 01:13&quot;</td><td>null</td><td>null</td><td>&quot;2&quot;</td><td>&quot;THE WALK&quot;</td><td>&quot;CAMDEN PARK&quot;</td><td>&quot;2570&quot;</td><td>&quot;450.5&quot;</td><td>&quot;M&quot;</td><td>&quot;20220422&quot;</td><td>&quot;20220603&quot;</td><td>&quot;990000&quot;</td><td>&quot;R2&quot;</td><td>&quot;R&quot;</td><td>&quot;RESIDENCE&quot;</td><td>null</td><td>&quot;CAM&quot;</td><td>null</td><td>&quot;0&quot;</td><td>&quot;AS189239&quot;</td></tr><tr><td>&quot;B&quot;</td><td>&quot;226&quot;</td><td>&quot;4162632&quot;</td><td>&quot;2&quot;</td><td>&quot;20220613 01:13&quot;</td><td>null</td><td>null</td><td>&quot;11&quot;</td><td>&quot;ALFRED PL&quot;</td><td>&quot;THIRLMERE&quot;</td><td>&quot;2572&quot;</td><td>&quot;800.6&quot;</td><td>&quot;M&quot;</td><td>&quot;20220407&quot;</td><td>&quot;20220606&quot;</td><td>&quot;1300000&quot;</td><td>&quot;R2&quot;</td><td>&quot;R&quot;</td><td>&quot;RESIDENCE&quot;</td><td>null</td><td>&quot;THI&quot;</td><td>null</td><td>&quot;0&quot;</td><td>&quot;AS194253&quot;</td></tr><tr><td>&quot;B&quot;</td><td>&quot;226&quot;</td><td>&quot;4189428&quot;</td><td>&quot;3&quot;</td><td>&quot;20220613 01:13&quot;</td><td>null</td><td>null</td><td>&quot;45&quot;</td><td>&quot;RITA ST&quot;</td><td>&quot;THIRLMERE&quot;</td><td>&quot;2572&quot;</td><td>&quot;467.8&quot;</td><td>&quot;M&quot;</td><td>&quot;20220204&quot;</td><td>&quot;20220608&quot;</td><td>&quot;1030000&quot;</td><td>&quot;R2&quot;</td><td>&quot;R&quot;</td><td>&quot;RESIDENCE&quot;</td><td>null</td><td>&quot;THI&quot;</td><td>null</td><td>&quot;0&quot;</td><td>&quot;AS200087&quot;</td></tr></tbody></table></div>"
      ]
     },
     "execution_count": 14,
     "metadata": {},
     "output_type": "execute_result"
    }
   ],
   "execution_count": 14
  },
  {
   "cell_type": "code",
   "id": "e3f3963b-6515-4f8d-9a8b-d3c933a374b1",
   "metadata": {
    "ExecuteTime": {
     "end_time": "2024-12-05T07:29:50.166654Z",
     "start_time": "2024-12-05T07:29:50.076307Z"
    }
   },
   "source": [
    "df_combined = df_combined.with_columns(\n",
    "    pl.col(\"Contract Date\").str.strptime(pl.Date, \"%Y%m%d\", strict=False).alias(\"Contract Date\")\n",
    ")"
   ],
   "outputs": [],
   "execution_count": 15
  },
  {
   "cell_type": "code",
   "id": "1d15929c-9721-4078-a59c-8dba2ba92770",
   "metadata": {
    "ExecuteTime": {
     "end_time": "2024-12-05T07:29:58.748328Z",
     "start_time": "2024-12-05T07:29:58.744186Z"
    }
   },
   "source": [
    "df_cleaned_col = df_combined.select('District Code',\n",
    "                            'Property Id.',\n",
    "                            'Property Name',\n",
    "                            'Property Unit Number',\n",
    "                            'Property House Number',\n",
    "                            'Property Street Name',\n",
    "                            'Property Locality',\n",
    "                            'Property Post Code',\n",
    "                            'Area',\n",
    "                            'Area Type',\n",
    "                            'Contract Date',\n",
    "                            'Settlement Date',\n",
    "                            'Purchase Price',\n",
    "                            'Primary Purpose',\n",
    "                            'Strata Lot Number')"
   ],
   "outputs": [],
   "execution_count": 16
  },
  {
   "cell_type": "code",
   "id": "a854fe2e-596f-466a-b953-6b8a0cdb9921",
   "metadata": {
    "ExecuteTime": {
     "end_time": "2024-12-05T07:30:00.973960Z",
     "start_time": "2024-12-05T07:30:00.925969Z"
    }
   },
   "source": [
    "df_cleaned_col = df_cleaned_col.with_columns(pl.col(\"Area\").cast(pl.Float64).alias(\"Area\"))"
   ],
   "outputs": [],
   "execution_count": 17
  },
  {
   "cell_type": "code",
   "id": "add13404-dab9-492b-9d74-6fa10d9673a5",
   "metadata": {
    "ExecuteTime": {
     "end_time": "2024-12-05T07:30:02.413089Z",
     "start_time": "2024-12-05T07:30:02.362920Z"
    }
   },
   "source": [
    "df_cleaned_col = df_cleaned_col.with_columns(pl.col(\"Purchase Price\").cast(pl.Int64).alias(\"Purchase Price\"))"
   ],
   "outputs": [],
   "execution_count": 18
  },
  {
   "cell_type": "code",
   "id": "1edcf0e5-c230-4348-beec-ea2dece41f5d",
   "metadata": {
    "ExecuteTime": {
     "end_time": "2024-12-05T07:30:03.804427Z",
     "start_time": "2024-12-05T07:30:03.752755Z"
    }
   },
   "source": [
    "df_cleaned_col = df_cleaned_col.with_columns(pl.col(\"Property Id.\").cast(pl.Int64).alias(\"Property Id.\"))"
   ],
   "outputs": [],
   "execution_count": 19
  },
  {
   "cell_type": "code",
   "id": "5fd5afca-5879-4534-bab0-167cd12ddb54",
   "metadata": {
    "ExecuteTime": {
     "end_time": "2024-12-05T07:30:05.270828Z",
     "start_time": "2024-12-05T07:30:05.209292Z"
    }
   },
   "source": [
    "df_cleaned_col = df_cleaned_col.with_columns(\n",
    "    pl.col(\"Settlement Date\").str.strptime(pl.Date, \"%Y%m%d\", strict=False).alias(\"Settlement Date\")\n",
    ")"
   ],
   "outputs": [],
   "execution_count": 20
  },
  {
   "cell_type": "code",
   "id": "7e713820-bf2a-482d-86ef-555be9f43563",
   "metadata": {
    "ExecuteTime": {
     "end_time": "2024-12-05T07:30:06.817033Z",
     "start_time": "2024-12-05T07:30:06.754001Z"
    }
   },
   "source": [
    "df_cleaned_col = df_cleaned_col.with_columns((pl.col(\"Purchase Price\") / pl.col(\"Area\")).alias(\"Price per Unit Area\"))"
   ],
   "outputs": [],
   "execution_count": 21
  },
  {
   "cell_type": "code",
   "id": "82144f60-85a5-4b39-bbf3-755935f0ddd1",
   "metadata": {
    "ExecuteTime": {
     "end_time": "2024-12-05T07:30:08.094043Z",
     "start_time": "2024-12-05T07:30:08.089595Z"
    }
   },
   "source": [
    "df_cleaned_col.head()"
   ],
   "outputs": [
    {
     "data": {
      "text/plain": [
       "shape: (5, 16)\n",
       "┌───────────┬───────────┬───────────┬───────────┬───┬───────────┬───────────┬───────────┬──────────┐\n",
       "│ District  ┆ Property  ┆ Property  ┆ Property  ┆ … ┆ Purchase  ┆ Primary   ┆ Strata    ┆ Price    │\n",
       "│ Code      ┆ Id.       ┆ Name      ┆ Unit      ┆   ┆ Price     ┆ Purpose   ┆ Lot       ┆ per Unit │\n",
       "│ ---       ┆ ---       ┆ ---       ┆ Number    ┆   ┆ ---       ┆ ---       ┆ Number    ┆ Area     │\n",
       "│ str       ┆ i64       ┆ str       ┆ ---       ┆   ┆ i64       ┆ str       ┆ ---       ┆ ---      │\n",
       "│           ┆           ┆           ┆ str       ┆   ┆           ┆           ┆ str       ┆ f64      │\n",
       "╞═══════════╪═══════════╪═══════════╪═══════════╪═══╪═══════════╪═══════════╪═══════════╪══════════╡\n",
       "│ 238       ┆ 2633079   ┆ null      ┆ null      ┆ … ┆ 199000    ┆ RESIDENCE ┆ null      ┆ 118.3115 │\n",
       "│           ┆           ┆           ┆           ┆   ┆           ┆           ┆           ┆ 34       │\n",
       "│ 238       ┆ 2632607   ┆ null      ┆ null      ┆ … ┆ 95000     ┆ RESIDENCE ┆ null      ┆ 38.74388 │\n",
       "│           ┆           ┆           ┆           ┆   ┆           ┆           ┆           ┆ 3        │\n",
       "│ 226       ┆ 3487133   ┆ null      ┆ null      ┆ … ┆ 990000    ┆ RESIDENCE ┆ null      ┆ 2197.558 │\n",
       "│           ┆           ┆           ┆           ┆   ┆           ┆           ┆           ┆ 269      │\n",
       "│ 226       ┆ 4162632   ┆ null      ┆ null      ┆ … ┆ 1300000   ┆ RESIDENCE ┆ null      ┆ 1623.782 │\n",
       "│           ┆           ┆           ┆           ┆   ┆           ┆           ┆           ┆ 163      │\n",
       "│ 226       ┆ 4189428   ┆ null      ┆ null      ┆ … ┆ 1030000   ┆ RESIDENCE ┆ null      ┆ 2201.795 │\n",
       "│           ┆           ┆           ┆           ┆   ┆           ┆           ┆           ┆ 639      │\n",
       "└───────────┴───────────┴───────────┴───────────┴───┴───────────┴───────────┴───────────┴──────────┘"
      ],
      "text/html": [
       "<div><style>\n",
       ".dataframe > thead > tr,\n",
       ".dataframe > tbody > tr {\n",
       "  text-align: right;\n",
       "  white-space: pre-wrap;\n",
       "}\n",
       "</style>\n",
       "<small>shape: (5, 16)</small><table border=\"1\" class=\"dataframe\"><thead><tr><th>District Code</th><th>Property Id.</th><th>Property Name</th><th>Property Unit Number</th><th>Property House Number</th><th>Property Street Name</th><th>Property Locality</th><th>Property Post Code</th><th>Area</th><th>Area Type</th><th>Contract Date</th><th>Settlement Date</th><th>Purchase Price</th><th>Primary Purpose</th><th>Strata Lot Number</th><th>Price per Unit Area</th></tr><tr><td>str</td><td>i64</td><td>str</td><td>str</td><td>str</td><td>str</td><td>str</td><td>str</td><td>f64</td><td>str</td><td>date</td><td>date</td><td>i64</td><td>str</td><td>str</td><td>f64</td></tr></thead><tbody><tr><td>&quot;238&quot;</td><td>2633079</td><td>null</td><td>null</td><td>&quot;16&quot;</td><td>&quot;MCCULLOUGH ST&quot;</td><td>&quot;COONAMBLE&quot;</td><td>&quot;2829&quot;</td><td>1682.0</td><td>&quot;M&quot;</td><td>2021-12-17</td><td>2022-01-27</td><td>199000</td><td>&quot;RESIDENCE&quot;</td><td>null</td><td>118.311534</td></tr><tr><td>&quot;238&quot;</td><td>2632607</td><td>null</td><td>null</td><td>&quot;12&quot;</td><td>&quot;BARTON ST&quot;</td><td>&quot;COONAMBLE&quot;</td><td>&quot;2829&quot;</td><td>2452.0</td><td>&quot;M&quot;</td><td>2021-05-21</td><td>2021-07-09</td><td>95000</td><td>&quot;RESIDENCE&quot;</td><td>null</td><td>38.743883</td></tr><tr><td>&quot;226&quot;</td><td>3487133</td><td>null</td><td>null</td><td>&quot;2&quot;</td><td>&quot;THE WALK&quot;</td><td>&quot;CAMDEN PARK&quot;</td><td>&quot;2570&quot;</td><td>450.5</td><td>&quot;M&quot;</td><td>2022-04-22</td><td>2022-06-03</td><td>990000</td><td>&quot;RESIDENCE&quot;</td><td>null</td><td>2197.558269</td></tr><tr><td>&quot;226&quot;</td><td>4162632</td><td>null</td><td>null</td><td>&quot;11&quot;</td><td>&quot;ALFRED PL&quot;</td><td>&quot;THIRLMERE&quot;</td><td>&quot;2572&quot;</td><td>800.6</td><td>&quot;M&quot;</td><td>2022-04-07</td><td>2022-06-06</td><td>1300000</td><td>&quot;RESIDENCE&quot;</td><td>null</td><td>1623.782163</td></tr><tr><td>&quot;226&quot;</td><td>4189428</td><td>null</td><td>null</td><td>&quot;45&quot;</td><td>&quot;RITA ST&quot;</td><td>&quot;THIRLMERE&quot;</td><td>&quot;2572&quot;</td><td>467.8</td><td>&quot;M&quot;</td><td>2022-02-04</td><td>2022-06-08</td><td>1030000</td><td>&quot;RESIDENCE&quot;</td><td>null</td><td>2201.795639</td></tr></tbody></table></div>"
      ]
     },
     "execution_count": 22,
     "metadata": {},
     "output_type": "execute_result"
    }
   ],
   "execution_count": 22
  },
  {
   "cell_type": "code",
   "id": "62dc1995-2b34-4da5-85df-bbd40de60465",
   "metadata": {
    "ExecuteTime": {
     "end_time": "2024-12-05T07:30:10.312983Z",
     "start_time": "2024-12-05T07:30:10.308823Z"
    }
   },
   "source": [
    "df_cleaned_col.n_unique"
   ],
   "outputs": [
    {
     "data": {
      "text/plain": [
       "<bound method DataFrame.n_unique of shape: (81_647, 16)\n",
       "┌───────────┬───────────┬───────────┬───────────┬───┬───────────┬───────────┬───────────┬──────────┐\n",
       "│ District  ┆ Property  ┆ Property  ┆ Property  ┆ … ┆ Purchase  ┆ Primary   ┆ Strata    ┆ Price    │\n",
       "│ Code      ┆ Id.       ┆ Name      ┆ Unit      ┆   ┆ Price     ┆ Purpose   ┆ Lot       ┆ per Unit │\n",
       "│ ---       ┆ ---       ┆ ---       ┆ Number    ┆   ┆ ---       ┆ ---       ┆ Number    ┆ Area     │\n",
       "│ str       ┆ i64       ┆ str       ┆ ---       ┆   ┆ i64       ┆ str       ┆ ---       ┆ ---      │\n",
       "│           ┆           ┆           ┆ str       ┆   ┆           ┆           ┆ str       ┆ f64      │\n",
       "╞═══════════╪═══════════╪═══════════╪═══════════╪═══╪═══════════╪═══════════╪═══════════╪══════════╡\n",
       "│ 238       ┆ 2633079   ┆ null      ┆ null      ┆ … ┆ 199000    ┆ RESIDENCE ┆ null      ┆ 118.3115 │\n",
       "│           ┆           ┆           ┆           ┆   ┆           ┆           ┆           ┆ 34       │\n",
       "│ 238       ┆ 2632607   ┆ null      ┆ null      ┆ … ┆ 95000     ┆ RESIDENCE ┆ null      ┆ 38.74388 │\n",
       "│           ┆           ┆           ┆           ┆   ┆           ┆           ┆           ┆ 3        │\n",
       "│ 226       ┆ 3487133   ┆ null      ┆ null      ┆ … ┆ 990000    ┆ RESIDENCE ┆ null      ┆ 2197.558 │\n",
       "│           ┆           ┆           ┆           ┆   ┆           ┆           ┆           ┆ 269      │\n",
       "│ 226       ┆ 4162632   ┆ null      ┆ null      ┆ … ┆ 1300000   ┆ RESIDENCE ┆ null      ┆ 1623.782 │\n",
       "│           ┆           ┆           ┆           ┆   ┆           ┆           ┆           ┆ 163      │\n",
       "│ 226       ┆ 4189428   ┆ null      ┆ null      ┆ … ┆ 1030000   ┆ RESIDENCE ┆ null      ┆ 2201.795 │\n",
       "│           ┆           ┆           ┆           ┆   ┆           ┆           ┆           ┆ 639      │\n",
       "│ …         ┆ …         ┆ …         ┆ …         ┆ … ┆ …         ┆ …         ┆ …         ┆ …        │\n",
       "│ 231       ┆ 4261077   ┆ null      ┆ null      ┆ … ┆ 250000    ┆ RESIDENCE ┆ null      ┆ 123885.0 │\n",
       "│           ┆           ┆           ┆           ┆   ┆           ┆           ┆           ┆ 34688    │\n",
       "│ 231       ┆ 4413408   ┆ null      ┆ null      ┆ … ┆ 894323    ┆ FARM      ┆ null      ┆ 2965.261 │\n",
       "│           ┆           ┆           ┆           ┆   ┆           ┆           ┆           ┆ 936      │\n",
       "│ 231       ┆ 4413411   ┆ null      ┆ null      ┆ … ┆ 727500    ┆ FARM      ┆ null      ┆ 2965.151 │\n",
       "│           ┆           ┆           ┆           ┆   ┆           ┆           ┆           ┆ 824      │\n",
       "│ 231       ┆ 4409088   ┆ null      ┆ null      ┆ … ┆ 2028480   ┆ FARM      ┆ null      ┆ 7907.718 │\n",
       "│           ┆           ┆           ┆           ┆   ┆           ┆           ┆           ┆ 337      │\n",
       "│ 231       ┆ 2609367   ┆ null      ┆ null      ┆ … ┆ 325000    ┆ RESIDENCE ┆ null      ┆ 369.7804 │\n",
       "│           ┆           ┆           ┆           ┆   ┆           ┆           ┆           ┆ 07       │\n",
       "└───────────┴───────────┴───────────┴───────────┴───┴───────────┴───────────┴───────────┴──────────┘>"
      ]
     },
     "execution_count": 23,
     "metadata": {},
     "output_type": "execute_result"
    }
   ],
   "execution_count": 23
  },
  {
   "cell_type": "code",
   "id": "c8af2c7f-5726-4c76-9b80-0d3c8801582a",
   "metadata": {
    "ExecuteTime": {
     "end_time": "2024-12-05T07:30:12.903500Z",
     "start_time": "2024-12-05T07:30:12.842616Z"
    }
   },
   "source": [
    "unit_df = df_cleaned_col.filter((pl.col(\"Property Unit Number\") != \"null\") | (pl.col(\"Strata Lot Number\") != \"null\"))"
   ],
   "outputs": [],
   "execution_count": 24
  },
  {
   "cell_type": "code",
   "id": "aca4cd15-013f-49b7-b86a-ebec10524b9b",
   "metadata": {
    "ExecuteTime": {
     "end_time": "2024-12-05T07:30:14.233423Z",
     "start_time": "2024-12-05T07:30:14.229115Z"
    }
   },
   "source": [
    "unit_df.head()"
   ],
   "outputs": [
    {
     "data": {
      "text/plain": [
       "shape: (5, 16)\n",
       "┌───────────┬───────────┬───────────┬───────────┬───┬───────────┬───────────┬───────────┬──────────┐\n",
       "│ District  ┆ Property  ┆ Property  ┆ Property  ┆ … ┆ Purchase  ┆ Primary   ┆ Strata    ┆ Price    │\n",
       "│ Code      ┆ Id.       ┆ Name      ┆ Unit      ┆   ┆ Price     ┆ Purpose   ┆ Lot       ┆ per Unit │\n",
       "│ ---       ┆ ---       ┆ ---       ┆ Number    ┆   ┆ ---       ┆ ---       ┆ Number    ┆ Area     │\n",
       "│ str       ┆ i64       ┆ str       ┆ ---       ┆   ┆ i64       ┆ str       ┆ ---       ┆ ---      │\n",
       "│           ┆           ┆           ┆ str       ┆   ┆           ┆           ┆ str       ┆ f64      │\n",
       "╞═══════════╪═══════════╪═══════════╪═══════════╪═══╪═══════════╪═══════════╪═══════════╪══════════╡\n",
       "│ 226       ┆ 2590173   ┆ null      ┆ 3         ┆ … ┆ 540000    ┆ RESIDENCE ┆ 3         ┆ null     │\n",
       "│ 226       ┆ 3898044   ┆ null      ┆ null      ┆ … ┆ 702000    ┆ RESIDENCE ┆ 4         ┆ 10800.0  │\n",
       "│ 275       ┆ 3353071   ┆ null      ┆ 4         ┆ … ┆ 660000    ┆ RESIDENCE ┆ null      ┆ 2550.231 │\n",
       "│           ┆           ┆           ┆           ┆   ┆           ┆           ┆           ┆ 839      │\n",
       "│ 275       ┆ 1223278   ┆ null      ┆ 9         ┆ … ┆ 491500    ┆ RESIDENCE ┆ 9         ┆ null     │\n",
       "│ 264       ┆ 4240035   ┆ null      ┆ 801       ┆ … ┆ 783000    ┆ RESIDENCE ┆ 34        ┆ null     │\n",
       "└───────────┴───────────┴───────────┴───────────┴───┴───────────┴───────────┴───────────┴──────────┘"
      ],
      "text/html": [
       "<div><style>\n",
       ".dataframe > thead > tr,\n",
       ".dataframe > tbody > tr {\n",
       "  text-align: right;\n",
       "  white-space: pre-wrap;\n",
       "}\n",
       "</style>\n",
       "<small>shape: (5, 16)</small><table border=\"1\" class=\"dataframe\"><thead><tr><th>District Code</th><th>Property Id.</th><th>Property Name</th><th>Property Unit Number</th><th>Property House Number</th><th>Property Street Name</th><th>Property Locality</th><th>Property Post Code</th><th>Area</th><th>Area Type</th><th>Contract Date</th><th>Settlement Date</th><th>Purchase Price</th><th>Primary Purpose</th><th>Strata Lot Number</th><th>Price per Unit Area</th></tr><tr><td>str</td><td>i64</td><td>str</td><td>str</td><td>str</td><td>str</td><td>str</td><td>str</td><td>f64</td><td>str</td><td>date</td><td>date</td><td>i64</td><td>str</td><td>str</td><td>f64</td></tr></thead><tbody><tr><td>&quot;226&quot;</td><td>2590173</td><td>null</td><td>&quot;3&quot;</td><td>&quot;25&quot;</td><td>&quot;ABELIA ST&quot;</td><td>&quot;TAHMOOR&quot;</td><td>&quot;2573&quot;</td><td>null</td><td>null</td><td>2022-04-21</td><td>2022-06-09</td><td>540000</td><td>&quot;RESIDENCE&quot;</td><td>&quot;3&quot;</td><td>null</td></tr><tr><td>&quot;226&quot;</td><td>3898044</td><td>null</td><td>null</td><td>&quot;6&quot;</td><td>&quot;STATION ST&quot;</td><td>&quot;PICTON&quot;</td><td>&quot;2571&quot;</td><td>65.0</td><td>&quot;M&quot;</td><td>2022-04-27</td><td>2022-06-08</td><td>702000</td><td>&quot;RESIDENCE&quot;</td><td>&quot;4&quot;</td><td>10800.0</td></tr><tr><td>&quot;275&quot;</td><td>3353071</td><td>null</td><td>&quot;4&quot;</td><td>&quot;4&quot;</td><td>&quot;DIANE ST&quot;</td><td>&quot;DUBBO&quot;</td><td>&quot;2830&quot;</td><td>258.8</td><td>&quot;M&quot;</td><td>2021-07-16</td><td>2021-09-09</td><td>660000</td><td>&quot;RESIDENCE&quot;</td><td>null</td><td>2550.231839</td></tr><tr><td>&quot;275&quot;</td><td>1223278</td><td>null</td><td>&quot;9&quot;</td><td>&quot;48&quot;</td><td>&quot;BIRCH AVE&quot;</td><td>&quot;DUBBO&quot;</td><td>&quot;2830&quot;</td><td>null</td><td>null</td><td>2021-07-27</td><td>2021-09-07</td><td>491500</td><td>&quot;RESIDENCE&quot;</td><td>&quot;9&quot;</td><td>null</td></tr><tr><td>&quot;264&quot;</td><td>4240035</td><td>null</td><td>&quot;801&quot;</td><td>&quot;15&quot;</td><td>&quot;DORA ST&quot;</td><td>&quot;HURSTVILLE&quot;</td><td>&quot;2220&quot;</td><td>null</td><td>null</td><td>2022-07-13</td><td>2022-08-24</td><td>783000</td><td>&quot;RESIDENCE&quot;</td><td>&quot;34&quot;</td><td>null</td></tr></tbody></table></div>"
      ]
     },
     "execution_count": 25,
     "metadata": {},
     "output_type": "execute_result"
    }
   ],
   "execution_count": 25
  },
  {
   "cell_type": "code",
   "id": "7bad0a48-ed47-4175-8c3f-270f08cf8419",
   "metadata": {
    "ExecuteTime": {
     "end_time": "2024-12-05T07:30:16.975382Z",
     "start_time": "2024-12-05T07:30:16.924882Z"
    }
   },
   "source": [
    "unit_df_filter = unit_df.filter(pl.col(\"Primary Purpose\").is_in([\"UNIT\", \"RESIDENCE\", \"HOUSE UNIT\", \"VACANT LAND\"]))"
   ],
   "outputs": [],
   "execution_count": 26
  },
  {
   "cell_type": "code",
   "id": "c4eb90bf-5eb5-4a2c-babe-571ebc645a04",
   "metadata": {
    "ExecuteTime": {
     "end_time": "2024-12-05T07:30:18.484304Z",
     "start_time": "2024-12-05T07:30:18.480514Z"
    }
   },
   "source": [
    "unit_df_filter.head()"
   ],
   "outputs": [
    {
     "data": {
      "text/plain": [
       "shape: (5, 16)\n",
       "┌───────────┬───────────┬───────────┬───────────┬───┬───────────┬───────────┬───────────┬──────────┐\n",
       "│ District  ┆ Property  ┆ Property  ┆ Property  ┆ … ┆ Purchase  ┆ Primary   ┆ Strata    ┆ Price    │\n",
       "│ Code      ┆ Id.       ┆ Name      ┆ Unit      ┆   ┆ Price     ┆ Purpose   ┆ Lot       ┆ per Unit │\n",
       "│ ---       ┆ ---       ┆ ---       ┆ Number    ┆   ┆ ---       ┆ ---       ┆ Number    ┆ Area     │\n",
       "│ str       ┆ i64       ┆ str       ┆ ---       ┆   ┆ i64       ┆ str       ┆ ---       ┆ ---      │\n",
       "│           ┆           ┆           ┆ str       ┆   ┆           ┆           ┆ str       ┆ f64      │\n",
       "╞═══════════╪═══════════╪═══════════╪═══════════╪═══╪═══════════╪═══════════╪═══════════╪══════════╡\n",
       "│ 226       ┆ 2590173   ┆ null      ┆ 3         ┆ … ┆ 540000    ┆ RESIDENCE ┆ 3         ┆ null     │\n",
       "│ 226       ┆ 3898044   ┆ null      ┆ null      ┆ … ┆ 702000    ┆ RESIDENCE ┆ 4         ┆ 10800.0  │\n",
       "│ 275       ┆ 3353071   ┆ null      ┆ 4         ┆ … ┆ 660000    ┆ RESIDENCE ┆ null      ┆ 2550.231 │\n",
       "│           ┆           ┆           ┆           ┆   ┆           ┆           ┆           ┆ 839      │\n",
       "│ 275       ┆ 1223278   ┆ null      ┆ 9         ┆ … ┆ 491500    ┆ RESIDENCE ┆ 9         ┆ null     │\n",
       "│ 264       ┆ 4240035   ┆ null      ┆ 801       ┆ … ┆ 783000    ┆ RESIDENCE ┆ 34        ┆ null     │\n",
       "└───────────┴───────────┴───────────┴───────────┴───┴───────────┴───────────┴───────────┴──────────┘"
      ],
      "text/html": [
       "<div><style>\n",
       ".dataframe > thead > tr,\n",
       ".dataframe > tbody > tr {\n",
       "  text-align: right;\n",
       "  white-space: pre-wrap;\n",
       "}\n",
       "</style>\n",
       "<small>shape: (5, 16)</small><table border=\"1\" class=\"dataframe\"><thead><tr><th>District Code</th><th>Property Id.</th><th>Property Name</th><th>Property Unit Number</th><th>Property House Number</th><th>Property Street Name</th><th>Property Locality</th><th>Property Post Code</th><th>Area</th><th>Area Type</th><th>Contract Date</th><th>Settlement Date</th><th>Purchase Price</th><th>Primary Purpose</th><th>Strata Lot Number</th><th>Price per Unit Area</th></tr><tr><td>str</td><td>i64</td><td>str</td><td>str</td><td>str</td><td>str</td><td>str</td><td>str</td><td>f64</td><td>str</td><td>date</td><td>date</td><td>i64</td><td>str</td><td>str</td><td>f64</td></tr></thead><tbody><tr><td>&quot;226&quot;</td><td>2590173</td><td>null</td><td>&quot;3&quot;</td><td>&quot;25&quot;</td><td>&quot;ABELIA ST&quot;</td><td>&quot;TAHMOOR&quot;</td><td>&quot;2573&quot;</td><td>null</td><td>null</td><td>2022-04-21</td><td>2022-06-09</td><td>540000</td><td>&quot;RESIDENCE&quot;</td><td>&quot;3&quot;</td><td>null</td></tr><tr><td>&quot;226&quot;</td><td>3898044</td><td>null</td><td>null</td><td>&quot;6&quot;</td><td>&quot;STATION ST&quot;</td><td>&quot;PICTON&quot;</td><td>&quot;2571&quot;</td><td>65.0</td><td>&quot;M&quot;</td><td>2022-04-27</td><td>2022-06-08</td><td>702000</td><td>&quot;RESIDENCE&quot;</td><td>&quot;4&quot;</td><td>10800.0</td></tr><tr><td>&quot;275&quot;</td><td>3353071</td><td>null</td><td>&quot;4&quot;</td><td>&quot;4&quot;</td><td>&quot;DIANE ST&quot;</td><td>&quot;DUBBO&quot;</td><td>&quot;2830&quot;</td><td>258.8</td><td>&quot;M&quot;</td><td>2021-07-16</td><td>2021-09-09</td><td>660000</td><td>&quot;RESIDENCE&quot;</td><td>null</td><td>2550.231839</td></tr><tr><td>&quot;275&quot;</td><td>1223278</td><td>null</td><td>&quot;9&quot;</td><td>&quot;48&quot;</td><td>&quot;BIRCH AVE&quot;</td><td>&quot;DUBBO&quot;</td><td>&quot;2830&quot;</td><td>null</td><td>null</td><td>2021-07-27</td><td>2021-09-07</td><td>491500</td><td>&quot;RESIDENCE&quot;</td><td>&quot;9&quot;</td><td>null</td></tr><tr><td>&quot;264&quot;</td><td>4240035</td><td>null</td><td>&quot;801&quot;</td><td>&quot;15&quot;</td><td>&quot;DORA ST&quot;</td><td>&quot;HURSTVILLE&quot;</td><td>&quot;2220&quot;</td><td>null</td><td>null</td><td>2022-07-13</td><td>2022-08-24</td><td>783000</td><td>&quot;RESIDENCE&quot;</td><td>&quot;34&quot;</td><td>null</td></tr></tbody></table></div>"
      ]
     },
     "execution_count": 27,
     "metadata": {},
     "output_type": "execute_result"
    }
   ],
   "execution_count": 27
  },
  {
   "cell_type": "code",
   "id": "dc17b9e6-31f0-4157-a080-430eb712e2ad",
   "metadata": {
    "ExecuteTime": {
     "end_time": "2024-12-05T07:30:22.228518Z",
     "start_time": "2024-12-05T07:30:22.213371Z"
    }
   },
   "source": [
    "output_file2 = \"./units.csv\"\n",
    "\n",
    "unit_df_filter.write_csv(output_file2)"
   ],
   "outputs": [],
   "execution_count": 28
  },
  {
   "cell_type": "code",
   "id": "a51f1422-2165-4bf7-a320-109073cbab9c",
   "metadata": {
    "ExecuteTime": {
     "end_time": "2024-12-05T07:30:24.894402Z",
     "start_time": "2024-12-05T07:30:24.772618Z"
    }
   },
   "source": [
    "house_df = df_cleaned_col.filter(pl.col(\"Property Unit Number\").is_null() & pl.col(\"Strata Lot Number\").is_null())\n"
   ],
   "outputs": [],
   "execution_count": 29
  },
  {
   "cell_type": "code",
   "id": "ef368951-4135-4b77-8deb-dc18dcca5881",
   "metadata": {
    "ExecuteTime": {
     "end_time": "2024-12-05T07:30:28.175848Z",
     "start_time": "2024-12-05T07:30:28.172222Z"
    }
   },
   "source": [
    "house_df.head()"
   ],
   "outputs": [
    {
     "data": {
      "text/plain": [
       "shape: (5, 16)\n",
       "┌───────────┬───────────┬───────────┬───────────┬───┬───────────┬───────────┬───────────┬──────────┐\n",
       "│ District  ┆ Property  ┆ Property  ┆ Property  ┆ … ┆ Purchase  ┆ Primary   ┆ Strata    ┆ Price    │\n",
       "│ Code      ┆ Id.       ┆ Name      ┆ Unit      ┆   ┆ Price     ┆ Purpose   ┆ Lot       ┆ per Unit │\n",
       "│ ---       ┆ ---       ┆ ---       ┆ Number    ┆   ┆ ---       ┆ ---       ┆ Number    ┆ Area     │\n",
       "│ str       ┆ i64       ┆ str       ┆ ---       ┆   ┆ i64       ┆ str       ┆ ---       ┆ ---      │\n",
       "│           ┆           ┆           ┆ str       ┆   ┆           ┆           ┆ str       ┆ f64      │\n",
       "╞═══════════╪═══════════╪═══════════╪═══════════╪═══╪═══════════╪═══════════╪═══════════╪══════════╡\n",
       "│ 238       ┆ 2633079   ┆ null      ┆ null      ┆ … ┆ 199000    ┆ RESIDENCE ┆ null      ┆ 118.3115 │\n",
       "│           ┆           ┆           ┆           ┆   ┆           ┆           ┆           ┆ 34       │\n",
       "│ 238       ┆ 2632607   ┆ null      ┆ null      ┆ … ┆ 95000     ┆ RESIDENCE ┆ null      ┆ 38.74388 │\n",
       "│           ┆           ┆           ┆           ┆   ┆           ┆           ┆           ┆ 3        │\n",
       "│ 226       ┆ 3487133   ┆ null      ┆ null      ┆ … ┆ 990000    ┆ RESIDENCE ┆ null      ┆ 2197.558 │\n",
       "│           ┆           ┆           ┆           ┆   ┆           ┆           ┆           ┆ 269      │\n",
       "│ 226       ┆ 4162632   ┆ null      ┆ null      ┆ … ┆ 1300000   ┆ RESIDENCE ┆ null      ┆ 1623.782 │\n",
       "│           ┆           ┆           ┆           ┆   ┆           ┆           ┆           ┆ 163      │\n",
       "│ 226       ┆ 4189428   ┆ null      ┆ null      ┆ … ┆ 1030000   ┆ RESIDENCE ┆ null      ┆ 2201.795 │\n",
       "│           ┆           ┆           ┆           ┆   ┆           ┆           ┆           ┆ 639      │\n",
       "└───────────┴───────────┴───────────┴───────────┴───┴───────────┴───────────┴───────────┴──────────┘"
      ],
      "text/html": [
       "<div><style>\n",
       ".dataframe > thead > tr,\n",
       ".dataframe > tbody > tr {\n",
       "  text-align: right;\n",
       "  white-space: pre-wrap;\n",
       "}\n",
       "</style>\n",
       "<small>shape: (5, 16)</small><table border=\"1\" class=\"dataframe\"><thead><tr><th>District Code</th><th>Property Id.</th><th>Property Name</th><th>Property Unit Number</th><th>Property House Number</th><th>Property Street Name</th><th>Property Locality</th><th>Property Post Code</th><th>Area</th><th>Area Type</th><th>Contract Date</th><th>Settlement Date</th><th>Purchase Price</th><th>Primary Purpose</th><th>Strata Lot Number</th><th>Price per Unit Area</th></tr><tr><td>str</td><td>i64</td><td>str</td><td>str</td><td>str</td><td>str</td><td>str</td><td>str</td><td>f64</td><td>str</td><td>date</td><td>date</td><td>i64</td><td>str</td><td>str</td><td>f64</td></tr></thead><tbody><tr><td>&quot;238&quot;</td><td>2633079</td><td>null</td><td>null</td><td>&quot;16&quot;</td><td>&quot;MCCULLOUGH ST&quot;</td><td>&quot;COONAMBLE&quot;</td><td>&quot;2829&quot;</td><td>1682.0</td><td>&quot;M&quot;</td><td>2021-12-17</td><td>2022-01-27</td><td>199000</td><td>&quot;RESIDENCE&quot;</td><td>null</td><td>118.311534</td></tr><tr><td>&quot;238&quot;</td><td>2632607</td><td>null</td><td>null</td><td>&quot;12&quot;</td><td>&quot;BARTON ST&quot;</td><td>&quot;COONAMBLE&quot;</td><td>&quot;2829&quot;</td><td>2452.0</td><td>&quot;M&quot;</td><td>2021-05-21</td><td>2021-07-09</td><td>95000</td><td>&quot;RESIDENCE&quot;</td><td>null</td><td>38.743883</td></tr><tr><td>&quot;226&quot;</td><td>3487133</td><td>null</td><td>null</td><td>&quot;2&quot;</td><td>&quot;THE WALK&quot;</td><td>&quot;CAMDEN PARK&quot;</td><td>&quot;2570&quot;</td><td>450.5</td><td>&quot;M&quot;</td><td>2022-04-22</td><td>2022-06-03</td><td>990000</td><td>&quot;RESIDENCE&quot;</td><td>null</td><td>2197.558269</td></tr><tr><td>&quot;226&quot;</td><td>4162632</td><td>null</td><td>null</td><td>&quot;11&quot;</td><td>&quot;ALFRED PL&quot;</td><td>&quot;THIRLMERE&quot;</td><td>&quot;2572&quot;</td><td>800.6</td><td>&quot;M&quot;</td><td>2022-04-07</td><td>2022-06-06</td><td>1300000</td><td>&quot;RESIDENCE&quot;</td><td>null</td><td>1623.782163</td></tr><tr><td>&quot;226&quot;</td><td>4189428</td><td>null</td><td>null</td><td>&quot;45&quot;</td><td>&quot;RITA ST&quot;</td><td>&quot;THIRLMERE&quot;</td><td>&quot;2572&quot;</td><td>467.8</td><td>&quot;M&quot;</td><td>2022-02-04</td><td>2022-06-08</td><td>1030000</td><td>&quot;RESIDENCE&quot;</td><td>null</td><td>2201.795639</td></tr></tbody></table></div>"
      ]
     },
     "execution_count": 30,
     "metadata": {},
     "output_type": "execute_result"
    }
   ],
   "execution_count": 30
  },
  {
   "cell_type": "code",
   "id": "74931114-981d-487d-b4dd-56a14b1e01d7",
   "metadata": {
    "ExecuteTime": {
     "end_time": "2024-12-05T07:30:34.593848Z",
     "start_time": "2024-12-05T07:30:34.576907Z"
    }
   },
   "source": [
    "output_file3 = \"./house.csv\"\n",
    "\n",
    "house_df.write_csv(output_file3)"
   ],
   "outputs": [],
   "execution_count": 31
  },
  {
   "cell_type": "code",
   "execution_count": null,
   "id": "fa941d05-0d5c-41dc-9a90-00c19b083185",
   "metadata": {},
   "outputs": [],
   "source": []
  }
 ],
 "metadata": {
  "kernelspec": {
   "display_name": "Python 3 (ipykernel)",
   "language": "python",
   "name": "python3"
  },
  "language_info": {
   "codemirror_mode": {
    "name": "ipython",
    "version": 3
   },
   "file_extension": ".py",
   "mimetype": "text/x-python",
   "name": "python",
   "nbconvert_exporter": "python",
   "pygments_lexer": "ipython3",
   "version": "3.10.14"
  }
 },
 "nbformat": 4,
 "nbformat_minor": 5
}
